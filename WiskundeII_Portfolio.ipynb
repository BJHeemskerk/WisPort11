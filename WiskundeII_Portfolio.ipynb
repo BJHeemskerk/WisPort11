{
 "cells": [
  {
   "cell_type": "code",
   "execution_count": 1,
   "id": "3744cf50",
   "metadata": {},
   "outputs": [],
   "source": [
    "%load_ext pycodestyle_magic"
   ]
  },
  {
   "cell_type": "code",
   "execution_count": 2,
   "id": "b7a401be",
   "metadata": {},
   "outputs": [],
   "source": [
    "%flake8_on"
   ]
  },
  {
   "cell_type": "markdown",
   "id": "180ea95b",
   "metadata": {},
   "source": [
    "# Wiskunde II: Portfolio <a name = 'begin'></a>"
   ]
  },
  {
   "cell_type": "markdown",
   "id": "156cd1af",
   "metadata": {},
   "source": [
    "## Inhoud\n",
    "\n",
    "1. [Deel A](#deela)\n",
    "    1. [Analyse van 5 kolommen](#analys)\n",
    "        1. [Geslacht](#geslacht)\n",
    "        2. [Hoogste opleiding](#hopl)\n",
    "        3. [Leeftijd](#age)\n",
    "        4. [BMI](#bmi)\n",
    "        5. [Werkeloos](#werkeloos)\n",
    "    2. [Tabel van kengetallen en grafieken](#tabel)\n",
    "    3. [Analyse van een binaire kolom](#rokers)\n",
    "    4. [Discrete en continue verdelingen](#cholesterol)\n",
    "    5. [Correlaties tussen kolommen](#corr_1)\n",
    "2. [Deel B](#deelb)\n",
    "    1. [Basiswaarden samengestelde variabele](#bas)\n",
    "    2. [Het maken van Mental_Health](#mental)\n",
    "    3. [](#)\n",
    "3. [Deel C](#deelc)\n",
    "    1. [Het lineaire verband](#lineair)\n",
    "    2. [](#)\n",
    "    3. [](#)"
   ]
  },
  {
   "cell_type": "markdown",
   "id": "e19f5362",
   "metadata": {},
   "source": [
    "## Importeren van de dataset en modules"
   ]
  },
  {
   "cell_type": "markdown",
   "id": "551a60d0",
   "metadata": {},
   "source": [
    "Eerst worden de benodigde modules geïmporteerd en de dataset wordt ingeladen."
   ]
  },
  {
   "cell_type": "code",
   "execution_count": 3,
   "id": "7e9ff872",
   "metadata": {},
   "outputs": [],
   "source": [
    "import pandas as pd\n",
    "import numpy as np\n",
    "import matplotlib.pyplot as plt\n",
    "import seaborn as sns\n",
    "import scipy.stats\n",
    "\n",
    "sns.set_style('darkgrid')"
   ]
  },
  {
   "cell_type": "code",
   "execution_count": 4,
   "id": "9f9a555d",
   "metadata": {
    "collapsed": true
   },
   "outputs": [
    {
     "data": {
      "text/html": [
       "<div>\n",
       "<style scoped>\n",
       "    .dataframe tbody tr th:only-of-type {\n",
       "        vertical-align: middle;\n",
       "    }\n",
       "\n",
       "    .dataframe tbody tr th {\n",
       "        vertical-align: top;\n",
       "    }\n",
       "\n",
       "    .dataframe thead th {\n",
       "        text-align: right;\n",
       "    }\n",
       "</style>\n",
       "<table border=\"1\" class=\"dataframe\">\n",
       "  <thead>\n",
       "    <tr style=\"text-align: right;\">\n",
       "      <th></th>\n",
       "      <th>Geslacht</th>\n",
       "      <th>Leeftijd</th>\n",
       "      <th>Hoogste_opleiding</th>\n",
       "      <th>Roker</th>\n",
       "      <th>Sigaretten_per_dag</th>\n",
       "      <th>Bloeddrukmedicatie</th>\n",
       "      <th>Hersenbloeding</th>\n",
       "      <th>Hoge_bloeddruk</th>\n",
       "      <th>Suikerziekte</th>\n",
       "      <th>Cholesterolwaarde</th>\n",
       "      <th>...</th>\n",
       "      <th>Fysieke_gezondheid</th>\n",
       "      <th>Mentale_gezondheid</th>\n",
       "      <th>Kinderen</th>\n",
       "      <th>Autobezit</th>\n",
       "      <th>Sociaal_functioneren</th>\n",
       "      <th>Empatisch_reageren</th>\n",
       "      <th>Positieve_levenshouding</th>\n",
       "      <th>Mentale_vaardigheden</th>\n",
       "      <th>Leven_in_balans</th>\n",
       "      <th>Persoonlijke_grenzen</th>\n",
       "    </tr>\n",
       "  </thead>\n",
       "  <tbody>\n",
       "    <tr>\n",
       "      <th>0</th>\n",
       "      <td>1</td>\n",
       "      <td>39</td>\n",
       "      <td>4</td>\n",
       "      <td>0</td>\n",
       "      <td>0</td>\n",
       "      <td>0</td>\n",
       "      <td>0</td>\n",
       "      <td>0</td>\n",
       "      <td>0</td>\n",
       "      <td>195</td>\n",
       "      <td>...</td>\n",
       "      <td>5</td>\n",
       "      <td>4</td>\n",
       "      <td>1</td>\n",
       "      <td>0</td>\n",
       "      <td>4</td>\n",
       "      <td>3</td>\n",
       "      <td>3</td>\n",
       "      <td>2</td>\n",
       "      <td>1</td>\n",
       "      <td>1</td>\n",
       "    </tr>\n",
       "    <tr>\n",
       "      <th>1</th>\n",
       "      <td>0</td>\n",
       "      <td>46</td>\n",
       "      <td>2</td>\n",
       "      <td>0</td>\n",
       "      <td>0</td>\n",
       "      <td>0</td>\n",
       "      <td>0</td>\n",
       "      <td>0</td>\n",
       "      <td>0</td>\n",
       "      <td>250</td>\n",
       "      <td>...</td>\n",
       "      <td>3</td>\n",
       "      <td>6</td>\n",
       "      <td>0</td>\n",
       "      <td>0</td>\n",
       "      <td>5</td>\n",
       "      <td>4</td>\n",
       "      <td>3</td>\n",
       "      <td>2</td>\n",
       "      <td>5</td>\n",
       "      <td>5</td>\n",
       "    </tr>\n",
       "    <tr>\n",
       "      <th>2</th>\n",
       "      <td>1</td>\n",
       "      <td>48</td>\n",
       "      <td>1</td>\n",
       "      <td>1</td>\n",
       "      <td>20</td>\n",
       "      <td>0</td>\n",
       "      <td>0</td>\n",
       "      <td>0</td>\n",
       "      <td>0</td>\n",
       "      <td>245</td>\n",
       "      <td>...</td>\n",
       "      <td>5</td>\n",
       "      <td>4</td>\n",
       "      <td>1</td>\n",
       "      <td>0</td>\n",
       "      <td>4</td>\n",
       "      <td>3</td>\n",
       "      <td>4</td>\n",
       "      <td>4</td>\n",
       "      <td>5</td>\n",
       "      <td>5</td>\n",
       "    </tr>\n",
       "    <tr>\n",
       "      <th>3</th>\n",
       "      <td>0</td>\n",
       "      <td>61</td>\n",
       "      <td>3</td>\n",
       "      <td>1</td>\n",
       "      <td>30</td>\n",
       "      <td>0</td>\n",
       "      <td>0</td>\n",
       "      <td>1</td>\n",
       "      <td>0</td>\n",
       "      <td>225</td>\n",
       "      <td>...</td>\n",
       "      <td>2</td>\n",
       "      <td>3</td>\n",
       "      <td>0</td>\n",
       "      <td>0</td>\n",
       "      <td>5</td>\n",
       "      <td>5</td>\n",
       "      <td>3</td>\n",
       "      <td>2</td>\n",
       "      <td>4</td>\n",
       "      <td>3</td>\n",
       "    </tr>\n",
       "    <tr>\n",
       "      <th>4</th>\n",
       "      <td>0</td>\n",
       "      <td>46</td>\n",
       "      <td>3</td>\n",
       "      <td>1</td>\n",
       "      <td>23</td>\n",
       "      <td>0</td>\n",
       "      <td>0</td>\n",
       "      <td>0</td>\n",
       "      <td>0</td>\n",
       "      <td>285</td>\n",
       "      <td>...</td>\n",
       "      <td>2</td>\n",
       "      <td>5</td>\n",
       "      <td>0</td>\n",
       "      <td>0</td>\n",
       "      <td>4</td>\n",
       "      <td>3</td>\n",
       "      <td>2</td>\n",
       "      <td>2</td>\n",
       "      <td>3</td>\n",
       "      <td>2</td>\n",
       "    </tr>\n",
       "    <tr>\n",
       "      <th>...</th>\n",
       "      <td>...</td>\n",
       "      <td>...</td>\n",
       "      <td>...</td>\n",
       "      <td>...</td>\n",
       "      <td>...</td>\n",
       "      <td>...</td>\n",
       "      <td>...</td>\n",
       "      <td>...</td>\n",
       "      <td>...</td>\n",
       "      <td>...</td>\n",
       "      <td>...</td>\n",
       "      <td>...</td>\n",
       "      <td>...</td>\n",
       "      <td>...</td>\n",
       "      <td>...</td>\n",
       "      <td>...</td>\n",
       "      <td>...</td>\n",
       "      <td>...</td>\n",
       "      <td>...</td>\n",
       "      <td>...</td>\n",
       "      <td>...</td>\n",
       "    </tr>\n",
       "    <tr>\n",
       "      <th>395</th>\n",
       "      <td>0</td>\n",
       "      <td>65</td>\n",
       "      <td>2</td>\n",
       "      <td>0</td>\n",
       "      <td>0</td>\n",
       "      <td>#NULL!</td>\n",
       "      <td>0</td>\n",
       "      <td>1</td>\n",
       "      <td>0</td>\n",
       "      <td>270</td>\n",
       "      <td>...</td>\n",
       "      <td>4</td>\n",
       "      <td>5</td>\n",
       "      <td>1</td>\n",
       "      <td>0</td>\n",
       "      <td>1</td>\n",
       "      <td>4</td>\n",
       "      <td>4</td>\n",
       "      <td>4</td>\n",
       "      <td>5</td>\n",
       "      <td>5</td>\n",
       "    </tr>\n",
       "    <tr>\n",
       "      <th>396</th>\n",
       "      <td>1</td>\n",
       "      <td>39</td>\n",
       "      <td>3</td>\n",
       "      <td>0</td>\n",
       "      <td>0</td>\n",
       "      <td>0</td>\n",
       "      <td>0</td>\n",
       "      <td>0</td>\n",
       "      <td>0</td>\n",
       "      <td>202</td>\n",
       "      <td>...</td>\n",
       "      <td>3</td>\n",
       "      <td>6</td>\n",
       "      <td>0</td>\n",
       "      <td>0</td>\n",
       "      <td>2</td>\n",
       "      <td>1</td>\n",
       "      <td>4</td>\n",
       "      <td>4</td>\n",
       "      <td>3</td>\n",
       "      <td>2</td>\n",
       "    </tr>\n",
       "    <tr>\n",
       "      <th>397</th>\n",
       "      <td>0</td>\n",
       "      <td>47</td>\n",
       "      <td>2</td>\n",
       "      <td>1</td>\n",
       "      <td>3</td>\n",
       "      <td>0</td>\n",
       "      <td>0</td>\n",
       "      <td>0</td>\n",
       "      <td>0</td>\n",
       "      <td>155</td>\n",
       "      <td>...</td>\n",
       "      <td>2</td>\n",
       "      <td>6</td>\n",
       "      <td>0</td>\n",
       "      <td>1</td>\n",
       "      <td>3</td>\n",
       "      <td>2</td>\n",
       "      <td>2</td>\n",
       "      <td>1</td>\n",
       "      <td>4</td>\n",
       "      <td>3</td>\n",
       "    </tr>\n",
       "    <tr>\n",
       "      <th>398</th>\n",
       "      <td>1</td>\n",
       "      <td>59</td>\n",
       "      <td>1</td>\n",
       "      <td>1</td>\n",
       "      <td>43</td>\n",
       "      <td>0</td>\n",
       "      <td>0</td>\n",
       "      <td>0</td>\n",
       "      <td>0</td>\n",
       "      <td>207</td>\n",
       "      <td>...</td>\n",
       "      <td>3</td>\n",
       "      <td>6</td>\n",
       "      <td>0</td>\n",
       "      <td>0</td>\n",
       "      <td>1</td>\n",
       "      <td>1</td>\n",
       "      <td>5</td>\n",
       "      <td>4</td>\n",
       "      <td>5</td>\n",
       "      <td>4</td>\n",
       "    </tr>\n",
       "    <tr>\n",
       "      <th>399</th>\n",
       "      <td>1</td>\n",
       "      <td>66</td>\n",
       "      <td>1</td>\n",
       "      <td>0</td>\n",
       "      <td>0</td>\n",
       "      <td>0</td>\n",
       "      <td>0</td>\n",
       "      <td>1</td>\n",
       "      <td>0</td>\n",
       "      <td>276</td>\n",
       "      <td>...</td>\n",
       "      <td>3</td>\n",
       "      <td>6</td>\n",
       "      <td>0</td>\n",
       "      <td>0</td>\n",
       "      <td>3</td>\n",
       "      <td>3</td>\n",
       "      <td>4</td>\n",
       "      <td>4</td>\n",
       "      <td>3</td>\n",
       "      <td>3</td>\n",
       "    </tr>\n",
       "  </tbody>\n",
       "</table>\n",
       "<p>400 rows × 39 columns</p>\n",
       "</div>"
      ],
      "text/plain": [
       "     Geslacht  Leeftijd  Hoogste_opleiding  Roker  Sigaretten_per_dag  \\\n",
       "0           1        39                  4      0                   0   \n",
       "1           0        46                  2      0                   0   \n",
       "2           1        48                  1      1                  20   \n",
       "3           0        61                  3      1                  30   \n",
       "4           0        46                  3      1                  23   \n",
       "..        ...       ...                ...    ...                 ...   \n",
       "395         0        65                  2      0                   0   \n",
       "396         1        39                  3      0                   0   \n",
       "397         0        47                  2      1                   3   \n",
       "398         1        59                  1      1                  43   \n",
       "399         1        66                  1      0                   0   \n",
       "\n",
       "    Bloeddrukmedicatie  Hersenbloeding  Hoge_bloeddruk  Suikerziekte  \\\n",
       "0                    0               0               0             0   \n",
       "1                    0               0               0             0   \n",
       "2                    0               0               0             0   \n",
       "3                    0               0               1             0   \n",
       "4                    0               0               0             0   \n",
       "..                 ...             ...             ...           ...   \n",
       "395             #NULL!               0               1             0   \n",
       "396                  0               0               0             0   \n",
       "397                  0               0               0             0   \n",
       "398                  0               0               0             0   \n",
       "399                  0               0               1             0   \n",
       "\n",
       "     Cholesterolwaarde  ...  Fysieke_gezondheid  Mentale_gezondheid  Kinderen  \\\n",
       "0                  195  ...                   5                   4         1   \n",
       "1                  250  ...                   3                   6         0   \n",
       "2                  245  ...                   5                   4         1   \n",
       "3                  225  ...                   2                   3         0   \n",
       "4                  285  ...                   2                   5         0   \n",
       "..                 ...  ...                 ...                 ...       ...   \n",
       "395                270  ...                   4                   5         1   \n",
       "396                202  ...                   3                   6         0   \n",
       "397                155  ...                   2                   6         0   \n",
       "398                207  ...                   3                   6         0   \n",
       "399                276  ...                   3                   6         0   \n",
       "\n",
       "     Autobezit  Sociaal_functioneren  Empatisch_reageren  \\\n",
       "0            0                     4                   3   \n",
       "1            0                     5                   4   \n",
       "2            0                     4                   3   \n",
       "3            0                     5                   5   \n",
       "4            0                     4                   3   \n",
       "..         ...                   ...                 ...   \n",
       "395          0                     1                   4   \n",
       "396          0                     2                   1   \n",
       "397          1                     3                   2   \n",
       "398          0                     1                   1   \n",
       "399          0                     3                   3   \n",
       "\n",
       "     Positieve_levenshouding  Mentale_vaardigheden  Leven_in_balans  \\\n",
       "0                          3                     2                1   \n",
       "1                          3                     2                5   \n",
       "2                          4                     4                5   \n",
       "3                          3                     2                4   \n",
       "4                          2                     2                3   \n",
       "..                       ...                   ...              ...   \n",
       "395                        4                     4                5   \n",
       "396                        4                     4                3   \n",
       "397                        2                     1                4   \n",
       "398                        5                     4                5   \n",
       "399                        4                     4                3   \n",
       "\n",
       "     Persoonlijke_grenzen  \n",
       "0                       1  \n",
       "1                       5  \n",
       "2                       5  \n",
       "3                       3  \n",
       "4                       2  \n",
       "..                    ...  \n",
       "395                     5  \n",
       "396                     2  \n",
       "397                     3  \n",
       "398                     4  \n",
       "399                     3  \n",
       "\n",
       "[400 rows x 39 columns]"
      ]
     },
     "metadata": {},
     "output_type": "display_data"
    }
   ],
   "source": [
    "df = pd.read_csv('wisk2SPSSdatafile_def.csv')\n",
    "display(df)"
   ]
  },
  {
   "cell_type": "code",
   "execution_count": 5,
   "id": "b4aaddc3",
   "metadata": {
    "collapsed": true
   },
   "outputs": [
    {
     "name": "stdout",
     "output_type": "stream",
     "text": [
      "<class 'pandas.core.frame.DataFrame'>\n",
      "RangeIndex: 400 entries, 0 to 399\n",
      "Data columns (total 39 columns):\n",
      " #   Column                         Non-Null Count  Dtype  \n",
      "---  ------                         --------------  -----  \n",
      " 0   Geslacht                       400 non-null    int64  \n",
      " 1   Leeftijd                       400 non-null    int64  \n",
      " 2   Hoogste_opleiding              400 non-null    int64  \n",
      " 3   Roker                          400 non-null    int64  \n",
      " 4   Sigaretten_per_dag             400 non-null    int64  \n",
      " 5   Bloeddrukmedicatie             400 non-null    object \n",
      " 6   Hersenbloeding                 400 non-null    int64  \n",
      " 7   Hoge_bloeddruk                 400 non-null    int64  \n",
      " 8   Suikerziekte                   400 non-null    int64  \n",
      " 9   Cholesterolwaarde              400 non-null    int64  \n",
      " 10  Bloeddruk_systolisch           400 non-null    float64\n",
      " 11  Bloeddruk_diastolisch          400 non-null    float64\n",
      " 12  BMI_waarde                     400 non-null    float64\n",
      " 13  Hartslagen                     400 non-null    int64  \n",
      " 14  Glucosegehalte                 400 non-null    int64  \n",
      " 15  Hoog_hartaanval_risico         400 non-null    int64  \n",
      " 16  Harddruggebruik                400 non-null    int64  \n",
      " 17  Softdruggebruik                400 non-null    int64  \n",
      " 18  Jaarlijks_medische_checkup     400 non-null    int64  \n",
      " 19  Wekelijkse_uren_screentime     400 non-null    int64  \n",
      " 20  Partner                        400 non-null    int64  \n",
      " 21  Gescheiden_ouders              400 non-null    int64  \n",
      " 22  Werkeloos                      400 non-null    int64  \n",
      " 23  Voldoende_dagelijkse_beweging  400 non-null    int64  \n",
      " 24  Fruitconsumptie                400 non-null    int64  \n",
      " 25  Groentenconsumptie             400 non-null    int64  \n",
      " 26  Alcoholconsumptie              400 non-null    int64  \n",
      " 27  Lid_sportclub                  400 non-null    int64  \n",
      " 28  Chronische_ziekte              400 non-null    int64  \n",
      " 29  Fysieke_gezondheid             400 non-null    int64  \n",
      " 30  Mentale_gezondheid             400 non-null    int64  \n",
      " 31  Kinderen                       400 non-null    int64  \n",
      " 32  Autobezit                      400 non-null    int64  \n",
      " 33  Sociaal_functioneren           400 non-null    int64  \n",
      " 34  Empatisch_reageren             400 non-null    int64  \n",
      " 35  Positieve_levenshouding        400 non-null    int64  \n",
      " 36  Mentale_vaardigheden           400 non-null    int64  \n",
      " 37  Leven_in_balans                400 non-null    int64  \n",
      " 38  Persoonlijke_grenzen           400 non-null    int64  \n",
      "dtypes: float64(3), int64(35), object(1)\n",
      "memory usage: 122.0+ KB\n"
     ]
    },
    {
     "data": {
      "text/html": [
       "<div>\n",
       "<style scoped>\n",
       "    .dataframe tbody tr th:only-of-type {\n",
       "        vertical-align: middle;\n",
       "    }\n",
       "\n",
       "    .dataframe tbody tr th {\n",
       "        vertical-align: top;\n",
       "    }\n",
       "\n",
       "    .dataframe thead th {\n",
       "        text-align: right;\n",
       "    }\n",
       "</style>\n",
       "<table border=\"1\" class=\"dataframe\">\n",
       "  <thead>\n",
       "    <tr style=\"text-align: right;\">\n",
       "      <th></th>\n",
       "      <th>Geslacht</th>\n",
       "      <th>Leeftijd</th>\n",
       "      <th>Hoogste_opleiding</th>\n",
       "      <th>Roker</th>\n",
       "      <th>Sigaretten_per_dag</th>\n",
       "      <th>Hersenbloeding</th>\n",
       "      <th>Hoge_bloeddruk</th>\n",
       "      <th>Suikerziekte</th>\n",
       "      <th>Cholesterolwaarde</th>\n",
       "      <th>Bloeddruk_systolisch</th>\n",
       "      <th>...</th>\n",
       "      <th>Fysieke_gezondheid</th>\n",
       "      <th>Mentale_gezondheid</th>\n",
       "      <th>Kinderen</th>\n",
       "      <th>Autobezit</th>\n",
       "      <th>Sociaal_functioneren</th>\n",
       "      <th>Empatisch_reageren</th>\n",
       "      <th>Positieve_levenshouding</th>\n",
       "      <th>Mentale_vaardigheden</th>\n",
       "      <th>Leven_in_balans</th>\n",
       "      <th>Persoonlijke_grenzen</th>\n",
       "    </tr>\n",
       "  </thead>\n",
       "  <tbody>\n",
       "    <tr>\n",
       "      <th>count</th>\n",
       "      <td>400.000000</td>\n",
       "      <td>400.000000</td>\n",
       "      <td>400.000000</td>\n",
       "      <td>400.000000</td>\n",
       "      <td>400.000000</td>\n",
       "      <td>400.0000</td>\n",
       "      <td>400.000000</td>\n",
       "      <td>400.000000</td>\n",
       "      <td>400.000000</td>\n",
       "      <td>400.000000</td>\n",
       "      <td>...</td>\n",
       "      <td>400.000000</td>\n",
       "      <td>400.000000</td>\n",
       "      <td>400.00000</td>\n",
       "      <td>400.00000</td>\n",
       "      <td>400.000000</td>\n",
       "      <td>400.000000</td>\n",
       "      <td>400.000000</td>\n",
       "      <td>400.000000</td>\n",
       "      <td>400.000000</td>\n",
       "      <td>400.000000</td>\n",
       "    </tr>\n",
       "    <tr>\n",
       "      <th>mean</th>\n",
       "      <td>0.405000</td>\n",
       "      <td>49.600000</td>\n",
       "      <td>1.975000</td>\n",
       "      <td>0.477500</td>\n",
       "      <td>9.490000</td>\n",
       "      <td>0.0025</td>\n",
       "      <td>0.300000</td>\n",
       "      <td>0.030000</td>\n",
       "      <td>237.482500</td>\n",
       "      <td>132.225000</td>\n",
       "      <td>...</td>\n",
       "      <td>2.877500</td>\n",
       "      <td>4.797500</td>\n",
       "      <td>0.29250</td>\n",
       "      <td>0.38750</td>\n",
       "      <td>2.892500</td>\n",
       "      <td>2.597500</td>\n",
       "      <td>3.065000</td>\n",
       "      <td>2.732500</td>\n",
       "      <td>3.092500</td>\n",
       "      <td>2.770000</td>\n",
       "    </tr>\n",
       "    <tr>\n",
       "      <th>std</th>\n",
       "      <td>0.491507</td>\n",
       "      <td>8.881001</td>\n",
       "      <td>1.032978</td>\n",
       "      <td>0.500119</td>\n",
       "      <td>12.724964</td>\n",
       "      <td>0.0500</td>\n",
       "      <td>0.458831</td>\n",
       "      <td>0.170801</td>\n",
       "      <td>43.296665</td>\n",
       "      <td>22.392363</td>\n",
       "      <td>...</td>\n",
       "      <td>1.109311</td>\n",
       "      <td>1.029146</td>\n",
       "      <td>0.45548</td>\n",
       "      <td>0.48779</td>\n",
       "      <td>1.210209</td>\n",
       "      <td>1.154915</td>\n",
       "      <td>1.272723</td>\n",
       "      <td>1.244917</td>\n",
       "      <td>1.306987</td>\n",
       "      <td>1.255404</td>\n",
       "    </tr>\n",
       "    <tr>\n",
       "      <th>min</th>\n",
       "      <td>0.000000</td>\n",
       "      <td>34.000000</td>\n",
       "      <td>1.000000</td>\n",
       "      <td>0.000000</td>\n",
       "      <td>0.000000</td>\n",
       "      <td>0.0000</td>\n",
       "      <td>0.000000</td>\n",
       "      <td>0.000000</td>\n",
       "      <td>129.000000</td>\n",
       "      <td>94.000000</td>\n",
       "      <td>...</td>\n",
       "      <td>1.000000</td>\n",
       "      <td>2.000000</td>\n",
       "      <td>0.00000</td>\n",
       "      <td>0.00000</td>\n",
       "      <td>1.000000</td>\n",
       "      <td>1.000000</td>\n",
       "      <td>1.000000</td>\n",
       "      <td>1.000000</td>\n",
       "      <td>1.000000</td>\n",
       "      <td>0.000000</td>\n",
       "    </tr>\n",
       "    <tr>\n",
       "      <th>25%</th>\n",
       "      <td>0.000000</td>\n",
       "      <td>42.000000</td>\n",
       "      <td>1.000000</td>\n",
       "      <td>0.000000</td>\n",
       "      <td>0.000000</td>\n",
       "      <td>0.0000</td>\n",
       "      <td>0.000000</td>\n",
       "      <td>0.000000</td>\n",
       "      <td>207.000000</td>\n",
       "      <td>116.000000</td>\n",
       "      <td>...</td>\n",
       "      <td>2.000000</td>\n",
       "      <td>4.000000</td>\n",
       "      <td>0.00000</td>\n",
       "      <td>0.00000</td>\n",
       "      <td>2.000000</td>\n",
       "      <td>2.000000</td>\n",
       "      <td>2.000000</td>\n",
       "      <td>2.000000</td>\n",
       "      <td>2.000000</td>\n",
       "      <td>2.000000</td>\n",
       "    </tr>\n",
       "    <tr>\n",
       "      <th>50%</th>\n",
       "      <td>0.000000</td>\n",
       "      <td>49.000000</td>\n",
       "      <td>2.000000</td>\n",
       "      <td>0.000000</td>\n",
       "      <td>0.000000</td>\n",
       "      <td>0.0000</td>\n",
       "      <td>0.000000</td>\n",
       "      <td>0.000000</td>\n",
       "      <td>238.000000</td>\n",
       "      <td>128.000000</td>\n",
       "      <td>...</td>\n",
       "      <td>3.000000</td>\n",
       "      <td>5.000000</td>\n",
       "      <td>0.00000</td>\n",
       "      <td>0.00000</td>\n",
       "      <td>3.000000</td>\n",
       "      <td>3.000000</td>\n",
       "      <td>3.000000</td>\n",
       "      <td>3.000000</td>\n",
       "      <td>3.000000</td>\n",
       "      <td>3.000000</td>\n",
       "    </tr>\n",
       "    <tr>\n",
       "      <th>75%</th>\n",
       "      <td>1.000000</td>\n",
       "      <td>56.000000</td>\n",
       "      <td>3.000000</td>\n",
       "      <td>1.000000</td>\n",
       "      <td>20.000000</td>\n",
       "      <td>0.0000</td>\n",
       "      <td>1.000000</td>\n",
       "      <td>0.000000</td>\n",
       "      <td>265.000000</td>\n",
       "      <td>144.000000</td>\n",
       "      <td>...</td>\n",
       "      <td>4.000000</td>\n",
       "      <td>6.000000</td>\n",
       "      <td>1.00000</td>\n",
       "      <td>1.00000</td>\n",
       "      <td>4.000000</td>\n",
       "      <td>3.000000</td>\n",
       "      <td>4.000000</td>\n",
       "      <td>4.000000</td>\n",
       "      <td>4.000000</td>\n",
       "      <td>4.000000</td>\n",
       "    </tr>\n",
       "    <tr>\n",
       "      <th>max</th>\n",
       "      <td>1.000000</td>\n",
       "      <td>68.000000</td>\n",
       "      <td>4.000000</td>\n",
       "      <td>1.000000</td>\n",
       "      <td>60.000000</td>\n",
       "      <td>1.0000</td>\n",
       "      <td>1.000000</td>\n",
       "      <td>1.000000</td>\n",
       "      <td>464.000000</td>\n",
       "      <td>215.000000</td>\n",
       "      <td>...</td>\n",
       "      <td>5.000000</td>\n",
       "      <td>6.000000</td>\n",
       "      <td>1.00000</td>\n",
       "      <td>1.00000</td>\n",
       "      <td>5.000000</td>\n",
       "      <td>5.000000</td>\n",
       "      <td>5.000000</td>\n",
       "      <td>5.000000</td>\n",
       "      <td>5.000000</td>\n",
       "      <td>5.000000</td>\n",
       "    </tr>\n",
       "  </tbody>\n",
       "</table>\n",
       "<p>8 rows × 38 columns</p>\n",
       "</div>"
      ],
      "text/plain": [
       "         Geslacht    Leeftijd  Hoogste_opleiding       Roker  \\\n",
       "count  400.000000  400.000000         400.000000  400.000000   \n",
       "mean     0.405000   49.600000           1.975000    0.477500   \n",
       "std      0.491507    8.881001           1.032978    0.500119   \n",
       "min      0.000000   34.000000           1.000000    0.000000   \n",
       "25%      0.000000   42.000000           1.000000    0.000000   \n",
       "50%      0.000000   49.000000           2.000000    0.000000   \n",
       "75%      1.000000   56.000000           3.000000    1.000000   \n",
       "max      1.000000   68.000000           4.000000    1.000000   \n",
       "\n",
       "       Sigaretten_per_dag  Hersenbloeding  Hoge_bloeddruk  Suikerziekte  \\\n",
       "count          400.000000        400.0000      400.000000    400.000000   \n",
       "mean             9.490000          0.0025        0.300000      0.030000   \n",
       "std             12.724964          0.0500        0.458831      0.170801   \n",
       "min              0.000000          0.0000        0.000000      0.000000   \n",
       "25%              0.000000          0.0000        0.000000      0.000000   \n",
       "50%              0.000000          0.0000        0.000000      0.000000   \n",
       "75%             20.000000          0.0000        1.000000      0.000000   \n",
       "max             60.000000          1.0000        1.000000      1.000000   \n",
       "\n",
       "       Cholesterolwaarde  Bloeddruk_systolisch  ...  Fysieke_gezondheid  \\\n",
       "count         400.000000            400.000000  ...          400.000000   \n",
       "mean          237.482500            132.225000  ...            2.877500   \n",
       "std            43.296665             22.392363  ...            1.109311   \n",
       "min           129.000000             94.000000  ...            1.000000   \n",
       "25%           207.000000            116.000000  ...            2.000000   \n",
       "50%           238.000000            128.000000  ...            3.000000   \n",
       "75%           265.000000            144.000000  ...            4.000000   \n",
       "max           464.000000            215.000000  ...            5.000000   \n",
       "\n",
       "       Mentale_gezondheid   Kinderen  Autobezit  Sociaal_functioneren  \\\n",
       "count          400.000000  400.00000  400.00000            400.000000   \n",
       "mean             4.797500    0.29250    0.38750              2.892500   \n",
       "std              1.029146    0.45548    0.48779              1.210209   \n",
       "min              2.000000    0.00000    0.00000              1.000000   \n",
       "25%              4.000000    0.00000    0.00000              2.000000   \n",
       "50%              5.000000    0.00000    0.00000              3.000000   \n",
       "75%              6.000000    1.00000    1.00000              4.000000   \n",
       "max              6.000000    1.00000    1.00000              5.000000   \n",
       "\n",
       "       Empatisch_reageren  Positieve_levenshouding  Mentale_vaardigheden  \\\n",
       "count          400.000000               400.000000            400.000000   \n",
       "mean             2.597500                 3.065000              2.732500   \n",
       "std              1.154915                 1.272723              1.244917   \n",
       "min              1.000000                 1.000000              1.000000   \n",
       "25%              2.000000                 2.000000              2.000000   \n",
       "50%              3.000000                 3.000000              3.000000   \n",
       "75%              3.000000                 4.000000              4.000000   \n",
       "max              5.000000                 5.000000              5.000000   \n",
       "\n",
       "       Leven_in_balans  Persoonlijke_grenzen  \n",
       "count       400.000000            400.000000  \n",
       "mean          3.092500              2.770000  \n",
       "std           1.306987              1.255404  \n",
       "min           1.000000              0.000000  \n",
       "25%           2.000000              2.000000  \n",
       "50%           3.000000              3.000000  \n",
       "75%           4.000000              4.000000  \n",
       "max           5.000000              5.000000  \n",
       "\n",
       "[8 rows x 38 columns]"
      ]
     },
     "metadata": {},
     "output_type": "display_data"
    },
    {
     "data": {
      "text/plain": [
       "None"
      ]
     },
     "metadata": {},
     "output_type": "display_data"
    }
   ],
   "source": [
    "display(df.describe(), df.info())"
   ]
  },
  {
   "cell_type": "markdown",
   "id": "86d04de5",
   "metadata": {},
   "source": [
    "[Terug naar het begin](#begin)"
   ]
  },
  {
   "cell_type": "markdown",
   "id": "f370d3b2",
   "metadata": {},
   "source": [
    "# Deel A: <a name = 'deela'></a>\n",
    "\n",
    "Om te beginnen moeten er 5 kolommen worden gekozen, deze kolommen moeten alle verschillende meetniveau's bevatten. Er is gekozen voor de volgende 5 kolommen: Geslacht, Leeftijd, Hoogste_opleiding, BMI_waarde en Werkeloos."
   ]
  },
  {
   "cell_type": "code",
   "execution_count": 29,
   "id": "38dcb611",
   "metadata": {},
   "outputs": [
    {
     "data": {
      "text/html": [
       "<div>\n",
       "<style scoped>\n",
       "    .dataframe tbody tr th:only-of-type {\n",
       "        vertical-align: middle;\n",
       "    }\n",
       "\n",
       "    .dataframe tbody tr th {\n",
       "        vertical-align: top;\n",
       "    }\n",
       "\n",
       "    .dataframe thead th {\n",
       "        text-align: right;\n",
       "    }\n",
       "</style>\n",
       "<table border=\"1\" class=\"dataframe\">\n",
       "  <thead>\n",
       "    <tr style=\"text-align: right;\">\n",
       "      <th></th>\n",
       "      <th>Geslacht</th>\n",
       "      <th>Leeftijd</th>\n",
       "      <th>Hoogste_opleiding</th>\n",
       "      <th>BMI_waarde</th>\n",
       "      <th>Werkeloos</th>\n",
       "    </tr>\n",
       "  </thead>\n",
       "  <tbody>\n",
       "    <tr>\n",
       "      <th>0</th>\n",
       "      <td>1</td>\n",
       "      <td>39</td>\n",
       "      <td>4</td>\n",
       "      <td>26.97</td>\n",
       "      <td>0</td>\n",
       "    </tr>\n",
       "    <tr>\n",
       "      <th>1</th>\n",
       "      <td>0</td>\n",
       "      <td>46</td>\n",
       "      <td>2</td>\n",
       "      <td>28.73</td>\n",
       "      <td>0</td>\n",
       "    </tr>\n",
       "    <tr>\n",
       "      <th>2</th>\n",
       "      <td>1</td>\n",
       "      <td>48</td>\n",
       "      <td>1</td>\n",
       "      <td>25.34</td>\n",
       "      <td>0</td>\n",
       "    </tr>\n",
       "    <tr>\n",
       "      <th>3</th>\n",
       "      <td>0</td>\n",
       "      <td>61</td>\n",
       "      <td>3</td>\n",
       "      <td>28.58</td>\n",
       "      <td>0</td>\n",
       "    </tr>\n",
       "    <tr>\n",
       "      <th>4</th>\n",
       "      <td>0</td>\n",
       "      <td>46</td>\n",
       "      <td>3</td>\n",
       "      <td>23.10</td>\n",
       "      <td>0</td>\n",
       "    </tr>\n",
       "  </tbody>\n",
       "</table>\n",
       "</div>"
      ],
      "text/plain": [
       "   Geslacht  Leeftijd  Hoogste_opleiding  BMI_waarde  Werkeloos\n",
       "0         1        39                  4       26.97          0\n",
       "1         0        46                  2       28.73          0\n",
       "2         1        48                  1       25.34          0\n",
       "3         0        61                  3       28.58          0\n",
       "4         0        46                  3       23.10          0"
      ]
     },
     "metadata": {},
     "output_type": "display_data"
    }
   ],
   "source": [
    "# Tonen van de eerste 5 rijen van de 5 gekozen kolommen\n",
    "display(df[['Geslacht', 'Leeftijd', 'Hoogste_opleiding',\n",
    "            'BMI_waarde', 'Werkeloos']].head())"
   ]
  },
  {
   "cell_type": "markdown",
   "id": "5bf705d9",
   "metadata": {},
   "source": [
    "[Terug naar het begin](#begin)"
   ]
  },
  {
   "cell_type": "markdown",
   "id": "56ddc752",
   "metadata": {},
   "source": [
    "## Analyse van 5 kolommen <a name='analys'></a>\n",
    "\n",
    "Om te kijken waarmee er gewerkt gaat worden, zal er eerst gekeken worden naar de eerste 5 regels van de dataset. Op basis daarvan worden de eerste keuzes voor de kengetallen en meetniveau's gemaakt."
   ]
  },
  {
   "cell_type": "markdown",
   "id": "67bad306",
   "metadata": {},
   "source": [
    "### Geslacht <a name='geslacht'></a>\n",
    "Het geslacht bevindt zich op het nominale meetniveau, voor deze reden zal de modus gebruikt worden als kengetal. Om op een duidelijke manier met deze waarde om te kunnen gaan in python, zijn de waardes omgezet naar het volgende: {0 : man, 1 : vrouw}.\n",
    "\n",
    "De modus van de eerste 5 regels is 0, er zijn namelijk 3 nullen en 2 énen. Dit geeft aan, op basis van de eerste 5 regels, dat de meest voorkomende geslacht man is.\n",
    "\n",
    "Omdat bij de kolom 'Geslacht' sprake is van een nominale waarde met 2 mogelijke opties, is er gekozen voor een staafdiagram. Op deze manier is het makkelijk te zien hoe de verdeling in elkaar zit. Ook is het verschil tussen de waarde 'man' en 'vrouw' op deze manier het makkelijkst te tonen. Deze grafiek kan worden opgesteld worden door de seaborn functie sns.countplot te gebruiken, zoals te zien in het voorbeeld hieronder."
   ]
  },
  {
   "cell_type": "code",
   "execution_count": 30,
   "id": "e3fbfabf",
   "metadata": {},
   "outputs": [
    {
     "data": {
      "image/png": "[encoded data removed]",
      "text/plain": [
       "<Figure size 432x288 with 1 Axes>"
      ]
     },
     "metadata": {},
     "output_type": "display_data"
    }
   ],
   "source": [
    "# Het plotten van de grafiek\n",
    "sns.countplot(data=df, x='Geslacht')\n",
    "\n",
    "# Aanpassen van de labels en titels\n",
    "plt.xlabel('Geslacht')\n",
    "plt.ylabel('Aantal waarnemingen')\n",
    "plt.xticks([0, 1], ['Man', 'Vrouw'])\n",
    "plt.title('Verdeling van Geslacht')\n",
    "plt.show()"
   ]
  },
  {
   "cell_type": "markdown",
   "id": "0180f524",
   "metadata": {},
   "source": [
    "Het geslacht heeft in deze dataset 2 verschillende waardes, mannelijk en vrouwelijk. Deze waarde kennen geen numerieke schaal of volgorde. Het ene geslacht is namelijk niet beter dan het andere.\n",
    "\n",
    "Het kengetal dat het beste past bij elke nominale waarde is de modus, dit is omdat er voor de andere kengetallen gebruik gemaakt moet worden van volgorde of duidelijke numerieke waarden. Voor nominale waarden is het daarom dus makkelijker om te kijken naar de frequentie en de modus."
   ]
  },
  {
   "cell_type": "code",
   "execution_count": 31,
   "id": "c9f65eee",
   "metadata": {
    "scrolled": false
   },
   "outputs": [
    {
     "name": "stdout",
     "output_type": "stream",
     "text": [
      "0    238\n",
      "1    162\n",
      "Name: Geslacht, dtype: int64\n"
     ]
    }
   ],
   "source": [
    "# Tonen van de frequentie\n",
    "print(df['Geslacht'].value_counts())"
   ]
  },
  {
   "cell_type": "markdown",
   "id": "92a04243",
   "metadata": {},
   "source": [
    "Bij het bekijken van de frequentie is er te zien dat de waarde 0 (= man) vaker gezien is dan de waarde 1 (= vrouw). Aangezien het totaal aantal rijen van deze dataset 400 is, geeft de frequentie weer dat ongeveer 60% van de mensen een man is. Dit geeft ook meteen het meest voorkomende geslacht in de dataset aan."
   ]
  },
  {
   "cell_type": "markdown",
   "id": "57edac02",
   "metadata": {},
   "source": [
    "[Terug naar het begin](#begin)"
   ]
  },
  {
   "cell_type": "markdown",
   "id": "9bc69341",
   "metadata": {},
   "source": [
    "--------------------"
   ]
  },
  {
   "cell_type": "markdown",
   "id": "aeaebc4b",
   "metadata": {},
   "source": [
    "### Hoogste opleiding <a name='hopl'></a>\n",
    "De hoogst behaalde opleiding bevindt zich op het ordinale meetniveau, daarom zal de mediaan gebruikt worden. Het verschil tussen een variabel als geslacht en deze is dat de hoogste opleiding wel een volgorde kent. Door deze volgorde is het een ordinaal meetniveau, aangezien de betreffende waardes zelf geen getallen zijn. Ook hierbij zijn de waardes weer omgezet naar getallen, deze betreffen: {1 : Middelbare School, 2 : MBO, 3 : HBO, 4 : Universiteit}. Deze waardes gaan in niveau omhoog, op dezelfde waarde als de getallen die er aan zijn toegewezen, 1 is het laagste niveau en 4 is het hoogste niveau.\n",
    "\n",
    "De mediaan van deze 5 regels is 3, het HBO. Dit is bepaald door de kennis dat de mediaan het middelste getal is in een reeks. De reeks voor deze eerste 5 regels is {1, 2, 3, 3, 4}. Omdat het een oneven aantal is kan er voor het middelste getal worden gekozen. Bij de mediaan hoort ook de IQR, deze waarde wordt als volgt berekent:\n",
    "``` \n",
    "Eerst bepalen we Q1 en Q3. Q1 heeft een waarde van 1.5, de mediaan van {1, 2}. Q3 heeft een waarde van 3.5, de mediaan van {3, 4}. Om de IQR te bepalen halen we Q1 van Q3 af. Dit geeft ons Q3 - Q1 = IQR, dit leidt tot 3.5 - 1.5 = 2.\n",
    "```\n",
    "\n",
    "Ook voor de hoogste opleiding zal gebruik worden gemaakt van een staafdiagram. Deze variabele heeft ook meerdere categorieën en in een staafdiagram kan duidelijk de frequentie van een staafdiagram worden getoond. Deze waardes zullen ook van 1 naar 4 genummerd staan in de grafiek. Ook deze grafiek zal worden getoond met behulp van sns.countplot."
   ]
  },
  {
   "cell_type": "code",
   "execution_count": 32,
   "id": "6545e2af",
   "metadata": {
    "collapsed": true
   },
   "outputs": [
    {
     "data": {
      "image/png": "[encoded data removed]",
      "text/plain": [
       "<Figure size 432x288 with 1 Axes>"
      ]
     },
     "metadata": {},
     "output_type": "display_data"
    }
   ],
   "source": [
    "sns.countplot(data=df, x='Hoogste_opleiding')\n",
    "plt.xlabel('Hoogste opleiding')\n",
    "plt.ylabel('Aantal waarnemingen')\n",
    "plt.xticks([0, 1, 2, 3], ['Middelbare School', 'MBO', 'HBO', 'Universiteit'])\n",
    "plt.title('Verdeling van Hoogste opleiding')\n",
    "plt.show()"
   ]
  },
  {
   "cell_type": "markdown",
   "id": "d55859ee",
   "metadata": {},
   "source": [
    "Bij een ordinaal meetniveau word altijd gekeken naar de mediaan. Hoewel de modus ook een mogelijkheid zou zijn, is deze waarde vaak niet geschikt als kengetal bij ordinale variabelen. De modus kan namelijk zal namelijk het meest voorkomende niveau geven, in plaats van dat de mediaan het middelste niveau weergeeft."
   ]
  },
  {
   "cell_type": "code",
   "execution_count": 10,
   "id": "32983061",
   "metadata": {},
   "outputs": [
    {
     "name": "stdout",
     "output_type": "stream",
     "text": [
      "2.0\n"
     ]
    }
   ],
   "source": [
    "print(np.median(df['Hoogste_opleiding']))"
   ]
  },
  {
   "cell_type": "markdown",
   "id": "6ac076e6",
   "metadata": {},
   "source": [
    "De mediaan geeft als waarde 2 terug, dit geeft aan dat het middelste niveau van de personen in de dataset het MBO is. Als de mediaan wordt bepaalt geeft dat ook opening om te kijken naar de spreiding, om een duidelijker beeld te schetsten. Hiervoor wordt De IQR, Inter Quartile Range, gebruikt. Dit kan op de volgende manier:"
   ]
  },
  {
   "cell_type": "code",
   "execution_count": 11,
   "id": "6a73b8a0",
   "metadata": {},
   "outputs": [
    {
     "name": "stdout",
     "output_type": "stream",
     "text": [
      "3.0 - 1.0 = 2.0\n"
     ]
    }
   ],
   "source": [
    "q1, q3 = np.percentile(df['Hoogste_opleiding'], [25, 75])\n",
    "iqr = q3 - q1\n",
    "print(f'{q3} - {q1} = {iqr}')"
   ]
  },
  {
   "cell_type": "markdown",
   "id": "617b2ea1",
   "metadata": {},
   "source": [
    "Zoals te zien is aan de getoonde berekening, is de q1 waarde 1 (= Middelbare School) en de q3 waarde is 3 (= HBO). Dit geeft aan dat op de afstand tussen de zones van 25% en 75% van de data 2 niveaus groot is."
   ]
  },
  {
   "cell_type": "markdown",
   "id": "ff32954e",
   "metadata": {},
   "source": [
    "[Terug naar het begin](#begin)"
   ]
  },
  {
   "cell_type": "markdown",
   "id": "e77450a4",
   "metadata": {},
   "source": [
    "--------------------"
   ]
  },
  {
   "cell_type": "markdown",
   "id": "8ebb8902",
   "metadata": {},
   "source": [
    "### Leeftijd <a name='age'></a>\n",
    "Leeftijd bevindt zich op het meetniveau ratio. Ten opzichte van een interval, nemen wij de waarde leeftijd aan met de geboorte als absoluut nulpunt. Daardoor is er een keuze tussen het gemiddelde en de mediaan. Wegens de hoeveelheid data en kennis beschikbaar is er gekozen voor de mediaan. Leeftijd kan namelijk erg breedt zijn, ook in de eerste 5 regels is dit te zien. De hoogste waarde is 61 en de laagste waarde is 39. De mediaan van de leeftijd is 46, het middelste getal van de getallenreeks {39, 46, 46, 48, 61}. Ook hier moet de IQR weer worden berekent:\n",
    "```\n",
    "Q1 is 43, het midden van {39, 46} en Q3 is 54, het midden van {48, 61}. De IQR is dan weer Q3 - Q1 = IQR, dus 54 - 43 = 11\n",
    "```\n",
    "\n",
    "Voor de variabele Leeftijd in de gehele dataset, kunnen we een geschikte grafiek maken om de verdeling van leeftijden te visualiseren. Aangezien Leeftijd een numerieke variabele is, kunnen we een histogram gebruiken om de frequentie of het aantal waarnemingen in verschillende leeftijdsgroepen weer te geven. Deze grafiek wordt getoond met behulp van de sns.histplot functie."
   ]
  },
  {
   "cell_type": "code",
   "execution_count": 33,
   "id": "87d43417",
   "metadata": {
    "collapsed": true
   },
   "outputs": [
    {
     "data": {
      "image/png": "[encoded data removed]",
      "text/plain": [
       "<Figure size 432x288 with 1 Axes>"
      ]
     },
     "metadata": {},
     "output_type": "display_data"
    }
   ],
   "source": [
    "sns.histplot(data=df, x='Leeftijd')\n",
    "plt.xlabel('Leeftijd')\n",
    "plt.ylabel('Aantal waarnemingen')\n",
    "plt.title('Verdeling van Leeftijd')\n",
    "plt.show()"
   ]
  },
  {
   "cell_type": "markdown",
   "id": "7482d447",
   "metadata": {},
   "source": [
    "Voor numerieke waardes van interval of ratio niveau is een keuze tussen de mediaan of het gemiddelde als kengetal belangrijk. Voor de leeftijd is gekozen om de mediaan te nemen. Deze waarde is gekozen omdat de verdeling meerdere pieken heeft rond bepaalde leeftijdsgroeperingen, hierdoor is het lastig te zeggen of de data goed normaal verdeeld is."
   ]
  },
  {
   "cell_type": "code",
   "execution_count": 13,
   "id": "ecb6ca46",
   "metadata": {},
   "outputs": [
    {
     "name": "stdout",
     "output_type": "stream",
     "text": [
      "49.0\n"
     ]
    }
   ],
   "source": [
    "print(np.median(df['Leeftijd']))"
   ]
  },
  {
   "cell_type": "markdown",
   "id": "e455a733",
   "metadata": {},
   "source": [
    "Het bepalen van de mediaan geeft de leeftijd 49 weer. Dit betekent dat de middelste waarde tussen alle leeftijden 49 is. Het gemiddelde kan hiervan afwijken, omdat deze sneller wordt beïnvloedt door outliers. Bij de mediaan hoort ook nog de IQR, deze zal meer inzage geven over de spreiding van de leeftijd."
   ]
  },
  {
   "cell_type": "code",
   "execution_count": 14,
   "id": "0a9b26fc",
   "metadata": {},
   "outputs": [
    {
     "name": "stdout",
     "output_type": "stream",
     "text": [
      "56.0 - 42.0 = 14.0\n"
     ]
    }
   ],
   "source": [
    "q1, q3 = np.percentile(df['Leeftijd'], [25, 75])\n",
    "iqr = q3 - q1\n",
    "print(f'{q3} - {q1} = {iqr}')"
   ]
  },
  {
   "cell_type": "markdown",
   "id": "83b1a952",
   "metadata": {},
   "source": [
    "Deze berekening geeft aan dat er 14 jaar zit tussen de 25% en de 75% lijn van de totale data. Aangezien de data van de Leeftijd variabele strekt van 34 tot 66, is er te zien dat de data buiten deze percentielen meer gespreid is dan de data binnen de percentielen."
   ]
  },
  {
   "cell_type": "markdown",
   "id": "492abaa2",
   "metadata": {},
   "source": [
    "[Terug naar het begin](#begin)"
   ]
  },
  {
   "cell_type": "markdown",
   "id": "e87e2460",
   "metadata": {},
   "source": [
    "--------------------"
   ]
  },
  {
   "cell_type": "markdown",
   "id": "5466713c",
   "metadata": {},
   "source": [
    "### BMI <a name='bmi'></a>\n",
    "De BMI waarde bevindt zich op interval niveau. Dit is omdat deze numerieke waarde geen duidelijk absoluut nulpunt heeft. Dit is omdat een BMI van 0 niet speceficeerd welk van de 2 waardes dan nul zou zijn, de lengte van een individu of het gewicht van een individu. Daarnaast is het onmogelijk om als persoon geen lengte of gewicht te hebben op aarde, waardoor een BMI van nul niet al nulpunt kan worden beschouwd. Omdat de BMI een wat stabielere waarde is dan leeftijd, hiermee wordt bedoeld dat de waarde meer consistent tussen bepaalde waardes in ligt, wordt er gekozen voor het gemiddelde. Het gemiddelde is de som van alle waarden gedeeld door het aantal waarnemingen. De waarde is:\n",
    "\n",
    "$ (26.97 + 28.73 +25.34 + 28.58 + 23.10) / 5 = 132.72 / 5 = 26.54 $ \n",
    "\n",
    "Bij het gemiddelde komt ook de standaard deviatie kijken, een waarde die meer inzage geeft over de spreiding van de data. Deze waarde wordt berekent door de wortel te nemen van de varaintie. In de onderstaande formule worden deze gecombineerd, waarbij de berekening binnen de wortel van de variantie is. Omdat de gebruikte data maar een deel van de totale data is zal bij het aantal waarnemingen (n) er de waarde 1 vanaf getrokken worden, om te corrigeren voor de potetiële bias. \n",
    "\n",
    "$\\sqrt{\\frac{\\sum(x - gem)^2}{n - 1}} $\n",
    "\n",
    "\n",
    "De waarde van n - 1 is: <br> $ n - 1 = 5 - 1 = 4 $ <br>\n",
    "De waarde van SOM(x-gem) is: <br> $ (26.97 - 26.54)^2 + (28.73 - 26.54)^2 + (25.34 - 26.54)^2 + (28.58 - 26.54)^2 + (23.10 - 26.54)^2 = 22.41619999999 $<br>\n",
    "De variantie is: <br> $ \\frac{22.41619999999}{4} = 5.6040499999999955 $ <br>\n",
    "De standaard deviatie is: <br> $ \\sqrt5.6040499999999955 = 2.3672874772616854 $\n",
    "\n",
    "\n",
    "De grafiek die het beste past bij het tonen van de verdeling van de BMI is een histogram. Histogrammen laten duidelijk de spreiding zien van de waardes in de kolom. Deze waardes zullen dichter bij elkaar liggen wegens de waardes die BMI kan aannemen. De verwachting is dat de BMI waarden een rechtsscheve verdeling gaan tonen, omdat de meeste mensen een gezond tot licht overgewicht als BMI zullen hebben. Dit zijn de waardes 20 tot en met 30. Ook deze data wordt gevisualiseerd met behulp van de sns.histplot functie."
   ]
  },
  {
   "cell_type": "code",
   "execution_count": 34,
   "id": "6073c189",
   "metadata": {},
   "outputs": [
    {
     "data": {
      "image/png": "[encoded data removed]",
      "text/plain": [
       "<Figure size 432x288 with 1 Axes>"
      ]
     },
     "metadata": {},
     "output_type": "display_data"
    }
   ],
   "source": [
    "sns.histplot(data=df, x='BMI_waarde')\n",
    "plt.xlabel('BMI waarde')\n",
    "plt.ylabel('Aantal waarnemingen')\n",
    "plt.title('Verdeling van BMI')\n",
    "plt.show()"
   ]
  },
  {
   "cell_type": "markdown",
   "id": "56f18878",
   "metadata": {},
   "source": [
    "Voor numerieke waardes van interval of ratio niveau is een keuze tussen de mediaan of het gemiddelde als kengetal belangrijk. Na het bekijken van de verdeling is er voor de BMI is gekozen om de mediaan te nemen. Deze waarde is gekozen omdat er outliers aanwezig zijn. De bedoeling is om de outliers zo min mogelijk mee te laten wegen, de mediaan zal hierbij helpen. Ook is de data niet normaal verdeeld, waardoor het gemiddelde niet accuraat zal zijn."
   ]
  },
  {
   "cell_type": "code",
   "execution_count": 16,
   "id": "c093bd10",
   "metadata": {},
   "outputs": [
    {
     "name": "stdout",
     "output_type": "stream",
     "text": [
      "25.36\n"
     ]
    }
   ],
   "source": [
    "print(np.median(df['BMI_waarde']))"
   ]
  },
  {
   "cell_type": "markdown",
   "id": "de650365",
   "metadata": {},
   "source": [
    "Het bepalen van de mediaan geeft een BMI van 25.36 weer. Dit betekent dat de middelste waarde tussen alle BMI waardes 25.36 is. Het gemiddelde kan hiervan afwijken, omdat deze sneller wordt beïnvloedt door outliers. Bij de mediaan hoort ook nog de IQR, deze zal meer inzage geven over de spreiding van de leeftijd."
   ]
  },
  {
   "cell_type": "code",
   "execution_count": 17,
   "id": "2e7a9b4e",
   "metadata": {
    "scrolled": true
   },
   "outputs": [
    {
     "name": "stdout",
     "output_type": "stream",
     "text": [
      "28.225 - 22.8975 = 5.327500000000001\n"
     ]
    }
   ],
   "source": [
    "q1, q3 = np.percentile(df['BMI_waarde'], [25, 75])\n",
    "iqr = q3 - q1\n",
    "print(f'{q3} - {q1} = {iqr}')"
   ]
  },
  {
   "cell_type": "markdown",
   "id": "8d539f09",
   "metadata": {},
   "source": [
    "Deze berekening geeft aan dat er tussen de 25% en de 75% lijn van de data maar een verschil is van 5.33. Dit is ten opzichte van de totale range (die van ca. 16 tot ca. 45 gaat) erg weinig. Dit betekent dat de meeste data erg dicht bij elkaar licht, zoals ook op de histogram te zien is. De spreiding van de data is rondom de mediaan is dus nauwelijks aanwezig."
   ]
  },
  {
   "cell_type": "markdown",
   "id": "c5e0b3dd",
   "metadata": {},
   "source": [
    "[Terug naar het begin](#begin)"
   ]
  },
  {
   "cell_type": "markdown",
   "id": "0bc639c6",
   "metadata": {},
   "source": [
    "--------------------"
   ]
  },
  {
   "cell_type": "markdown",
   "id": "35a4afcf",
   "metadata": {},
   "source": [
    "### Werkeloos <a name='werkeloos'></a>\n",
    "De kolom werkeloos bevindt zich op het nominale meetniveau, voor deze reden zal de modus gebruikt worden als kengetal. Om op een duidelijke manier met deze waarde om te kunnen gaan in python, zijn de waardes omgezet naar het volgende: {0 : werkeloos, 1 : niet werkeloos}.\n",
    "\n",
    "De modus van de eerste 5 regels is 0, er zijn namelijk 5 nullen te vinden. Dit geeft aan, op basis van de eerste 5 regels, dat de meest voorkomende waarde werkeloos is.\n",
    "\n",
    "Omdat bij de kolom 'Werkeloos' sprake is van een nominale waarde met 2 mogelijke opties, is er gekozen voor een staafdiagram. Op deze manier is het makkelijk te zien hoe de verdeling in elkaar zit. Ook is het verschil tussen de waarde 'werkeloos' en 'niet werkeloos' op deze manier het makkelijkst te tonen. Deze grafiek kan worden opgesteld worden door de seaborn functie sns.countplot te gebruiken, zoals te zien in het voorbeeld hieronder."
   ]
  },
  {
   "cell_type": "code",
   "execution_count": 35,
   "id": "8518ef2a",
   "metadata": {},
   "outputs": [
    {
     "data": {
      "image/png": "[encoded data removed]",
      "text/plain": [
       "<Figure size 432x288 with 1 Axes>"
      ]
     },
     "metadata": {},
     "output_type": "display_data"
    }
   ],
   "source": [
    "sns.countplot(data=df, x='Werkeloos')\n",
    "plt.xlabel('Wel of niet werkeloos')\n",
    "plt.ylabel('Aantal waarnemingen')\n",
    "plt.xticks([0, 1], ['Werkeloos', 'Niet Werkeloos'])\n",
    "plt.title('Verdeling van werkeloosheid')\n",
    "plt.show()"
   ]
  },
  {
   "cell_type": "markdown",
   "id": "1314b533",
   "metadata": {},
   "source": [
    "Het kengetal dat het beste past bij elke nominale waarde is de modus, dit is omdat er voor de andere kengetallen gebruik gemaakt moet worden van volgorde of duidelijke numerieke waarden. Voor nominale waarden is het daarom dus makkelijker om te kijken naar de frequentie en de modus."
   ]
  },
  {
   "cell_type": "code",
   "execution_count": 19,
   "id": "89c86af5",
   "metadata": {
    "scrolled": true
   },
   "outputs": [
    {
     "name": "stdout",
     "output_type": "stream",
     "text": [
      "0    347\n",
      "1     53\n",
      "Name: Werkeloos, dtype: int64\n"
     ]
    }
   ],
   "source": [
    "print(df['Werkeloos'].value_counts())"
   ]
  },
  {
   "cell_type": "markdown",
   "id": "790ff70a",
   "metadata": {},
   "source": [
    "Door naar de frequentie te kijken van de waardes is duidelijk te zien dat de meeste mensen 0 (= werkeloos) hebben ingevuld. Dit geeft aan dat de modus, met een redelijk hoog percentage van ongeveer 87%, op werkeloos ligt in deze dataset."
   ]
  },
  {
   "cell_type": "markdown",
   "id": "880816a8",
   "metadata": {},
   "source": [
    "[Terug naar het begin](#begin)"
   ]
  },
  {
   "cell_type": "markdown",
   "id": "5f3bc1e0",
   "metadata": {},
   "source": [
    "------------"
   ]
  },
  {
   "cell_type": "markdown",
   "id": "dc37a2d5",
   "metadata": {},
   "source": [
    "## Tabel van kengetallen en grafieken <a name='tabel'></a>\n",
    "Hier is een tabel gemaakt met de kengetallen en grafieken die zinvol zijn om te gebruiken bij het analyseren van de data.\n",
    "\n",
    "<table align='left'>\n",
    "  <tr>\n",
    "    <th>Meetniveau's</th>\n",
    "    <th>Centrummaten</th>\n",
    "    <th>Spreidingsmaten</th>\n",
    "    <th>Welke maat wanneer?</th>\n",
    "    <th>Grafieken</th>\n",
    "    <th>Welke grafiek wanneer?</th>\n",
    "  </tr>\n",
    "  <tr>\n",
    "    <td>Nominaal</td>\n",
    "    <td>- Modus</td>\n",
    "    <td>- Geen</td>\n",
    "    <td>- N.V.T.</td>\n",
    "    <td>- Staafdiagram<br>- Cirkeldiagram</td>\n",
    "    <td>- Voor de frequentie van de variabelen<br>- Voor de proporties van de variabelen</td>\n",
    "  </tr>\n",
    "  <tr>\n",
    "    <td>Ordinaal</td>\n",
    "    <td>- Modus<br>- Mediaan</td>\n",
    "    <td>- Geen<br>- Inter Quartile Range</td>\n",
    "    <td>- Vinden van de meest populaire optie<br>- Vinden van de middelste waarde</td>\n",
    "    <td>- Staafdiagram</td>\n",
    "    <td>- N.V.T.</td>\n",
    "  </tr>\n",
    "  <tr>\n",
    "    <td>Interval</td>\n",
    "    <td>- Mediaan<br>- Gemiddelde</td>\n",
    "    <td>- Inter Quartile Range<br>- Variantie/Standaard deviatie</td>\n",
    "    <td>- Outliers of niet-normaal verdeeld<br>- Normaal verdeeld en weinig outliers</td>\n",
    "      <td>- Histogram<br>- Lijngrafiek<br>- Boxplot</td>\n",
    "    <td>- Voor de verdeling van de variabelen<br>- Voor het tonen van de variabelen t.o.v. continue variabel<br>- Bekijken van mediaan, verdeling en outliers</td>\n",
    "  </tr>\n",
    "  <tr>\n",
    "    <td>Ratio</td>\n",
    "    <td>- Mediaan<br>- Gemiddelde</td>\n",
    "    <td>- Inter Quartile Range<br>- Variantie/Standaard deviatie</td>\n",
    "    <td>- Outliers of niet-normaal verdeeld<br>- Normaal verdeeld en weinig outliers</td>\n",
    "    <td>- Zelfde als Interval<br>- Scatterplot<br>- Staafdiagram</td>\n",
    "    <td>- Zie interval niveau<br>- Voor het tonen van de waarden t.o.v. een andere numerieke waarde<br>- Voor het tonen van de verdeling op basis van categorie</td>\n",
    "  </tr>\n",
    "</table>\n",
    "\n"
   ]
  },
  {
   "cell_type": "markdown",
   "id": "1d15d513",
   "metadata": {},
   "source": [
    "[Terug naar het begin](#begin)"
   ]
  },
  {
   "cell_type": "markdown",
   "id": "8eec22fb",
   "metadata": {},
   "source": [
    "------------"
   ]
  },
  {
   "cell_type": "markdown",
   "id": "d9781212",
   "metadata": {},
   "source": [
    "## Analyse van een binaire kolom <a name='rokers'></a>\n",
    "De waardes van een binaire kolom zijn altijd 0 en 1. Deze waarden zijn ook terug te vinden in de Roker kolom, deze kolom heeft dus de volgende waardes: <br>{0 : ja, 1 : nee}. Om het aantal rokers te vinden kunnen de rijen geteld worden waarbij de waarde gelijk staat aan 0. Voor het aantal mensen dat deel nam aan de enquete kan de lengte van de dataset worden gebruikt. Deze waarden samen worden gebruikt om het percentage rokers uit te rekenen, dit gebeurt door middel van de volgende methode: \n",
    "\n",
    "${\\frac{Deel}{Geheel}} * 100 $"
   ]
  },
  {
   "cell_type": "code",
   "execution_count": 20,
   "id": "b70f960d",
   "metadata": {},
   "outputs": [
    {
     "name": "stdout",
     "output_type": "stream",
     "text": [
      "Het aantal rokers in de dataset is: 209\n",
      "Het totaal aantal personen is: 400\n",
      "Het percentage mensen dat rookt is: 52.25%\n"
     ]
    }
   ],
   "source": [
    "# Tonen van aantal rokers en het totaal aantal personen\n",
    "aantal_rokers = len(df[df['Roker'] == 0])\n",
    "totaal_personen = len(df)\n",
    "print(f'Het aantal rokers in de dataset is: {aantal_rokers}')\n",
    "print(f'Het totaal aantal personen is: {totaal_personen}')\n",
    "\n",
    "# Berekenen en tonen van percentage mensen dat rookt\n",
    "percentage_rokers = aantal_rokers / totaal_personen * 100\n",
    "print(f'Het percentage mensen dat rookt is: {percentage_rokers}%')"
   ]
  },
  {
   "cell_type": "markdown",
   "id": "89f41298",
   "metadata": {},
   "source": [
    "Vervolgens word de kans berekend dat 3 willekeurige personen het antwoord 'ja' hebben ingevuld. Het percentage mensen dat rookt volgens de data is 52.25%. Door deze waarde tot de macht van 3 te nemen wordt de kans berekent dat deze gebeurtenis 3 maal voor zal komen. Deze berekening verloop als volgt:\n",
    "\n",
    "$ 0.5225^3 = 0.142645766 $\n",
    "\n",
    "Deze berekening geeft aan dat de kans dat 3 willekeurige mensen allemaal ja hebben ingevuld gelijk is aan:\n",
    "\n",
    "$ 0.142645766 * 100 = 14.26\\% $"
   ]
  },
  {
   "cell_type": "markdown",
   "id": "394ac7b9",
   "metadata": {},
   "source": [
    "Nadat deze berekening is gedaan wordt de kans berekent dat slechts 1 van deze 3 personen ja heeft ingevuld. De mogelijke scenario's voor deze kans zijn:<br>u = {nee, nee, ja}, u = {nee, ja, nee} en u = {ja, nee, nee}. De kans dat 1 persoon een roker is volgens de dataset is 52.25%, dit betekent dat er een 47.75% kans is om een niet roker te zijn. \n",
    "\n",
    "Daarna worden de kans op deze gebeurtenis vermenigvuldigd met 3, om zo de kans te berekenen dat dit exacte scenario voorkomt. Om dit te berekenen word de formule voor binominale kans toegepast:<br>\n",
    "$ P(X = k) = C(n, k) * p^k * (1 - p)^{n - k}$<br>\n",
    "\n",
    "Dit geeft de volgende kans: <br>\n",
    "$ P(X = 1) = C(3, 1) * 0.5225^1 * (1 - 0.5225)^{3 - 1} = 3 * 0.5225 * 0.4775^2 = 0.357399796875 $<br>\n",
    "\n",
    "De berekening laat zien dat de kans dat deze gebeurtenis voor zal komen is 35.74%."
   ]
  },
  {
   "cell_type": "markdown",
   "id": "ea7498fa",
   "metadata": {},
   "source": [
    "[Terug naar het begin](#begin)"
   ]
  },
  {
   "cell_type": "markdown",
   "id": "d5e1b647",
   "metadata": {},
   "source": [
    "--------------------"
   ]
  },
  {
   "cell_type": "markdown",
   "id": "72331639",
   "metadata": {},
   "source": [
    "## Discrete en Continue verdelingen <a name='cholesterol'></a>"
   ]
  },
  {
   "cell_type": "markdown",
   "id": "d0e9ab2e",
   "metadata": {},
   "source": [
    "In de wereld van kansrekenen spreken we van 2 verschillende soorten verdelingen, discrete en continue verdelingen. Het verschil tussen de twee verdelingen ligt in het type waardes dat ze aan kunnen nemen. Continue verdelingen beschijven de mogelijkheden en kunnen waardes aannemen van eindeloze variatie, dit is een groep variabelen die een oneindige en ontelbare variatie heeft. Bij continue verdelingen wordt vaak gekeken of de waarde binnen een bepaald interval valt. Voorbeelden van continue verdelingen zijn de normaal verdeling en de exponetiële verdeling.\n",
    "\n",
    "Discrete verdelingen beschrijven de waarschijnlijkheid van het voorkomen van bepaalde variabelen. Deze verdeling heeft telbare variabelen, zoals een inventarisatie van niet-negatieve gehele getallen. Bij discrete verdelingen wordt er vaak gekeken wat de kans is op die gebeurtenis. Voorbeelden van discrete verdelingen zijn de binominale verdeling en de poisson verdeling."
   ]
  },
  {
   "cell_type": "markdown",
   "id": "6787c4e9",
   "metadata": {},
   "source": [
    "Voor alle soorten verdelingen moeten de volgende twee eigenschappen kloppen:\n",
    "\n",
    "- De kans van elke uitkomst heeft een waarde van 0 t/m 1, deze waarde kan dus nooit negatief zijn.\n",
    "- De totale som van de kans is gelijk aan 1."
   ]
  },
  {
   "cell_type": "markdown",
   "id": "2a16dadc",
   "metadata": {},
   "source": [
    "Cholesterol is een aparte waarde, dit komt door het type verdeling dat deze waarde vaak aanneemt. Technisch gezien is cholesterol een discrete variabele, maar toch word de cholesterol waarde vaak als continue variabel gebruikt. Dit heeft de volgende redenen:\n",
    "\n",
    "- **Geen verlies van data**: Als cholesterol als discrete variabel aangenomen zou worden, zullen de subtielere verschillen wegvallen.\n",
    "- **Medisch onderzoek**: Bij medisch onderzoek is het belangrijk dat onderzoekers meer gedetailleerde kunnen uitvoeren met cholesterol, om bijvoorbeeld te kijken of het invloed heeft op andere gezondheidsfactoren.\n",
    "- **Nauwkeurigheid**: Doordat cholesterol als continue wordt gezien zijn de modellen die ermee worden gemaakt veel nauwkeuriger dan wanneer cholesterol een discrete verdeling zou hebben."
   ]
  },
  {
   "cell_type": "markdown",
   "id": "2e9e35b8",
   "metadata": {},
   "source": [
    "[Terug naar het begin](#begin)"
   ]
  },
  {
   "cell_type": "markdown",
   "id": "5126b94f",
   "metadata": {},
   "source": [
    "------------"
   ]
  },
  {
   "cell_type": "markdown",
   "id": "4ac359a1",
   "metadata": {},
   "source": [
    "## Correlatie tussen kolommen <a name='corr_1'></a>"
   ]
  },
  {
   "cell_type": "code",
   "execution_count": 45,
   "id": "3af82cf5",
   "metadata": {
    "collapsed": true
   },
   "outputs": [
    {
     "name": "stderr",
     "output_type": "stream",
     "text": [
      "1:80: E501 line too long (82 > 79 characters)\n",
      "2:80: E501 line too long (90 > 79 characters)\n"
     ]
    },
    {
     "name": "stdout",
     "output_type": "stream",
     "text": [
      "Correlatie tussen Roker en Sigaretten_per_dag: 0.7811054235896487, p-value: 2.005976452124073e-83\n"
     ]
    }
   ],
   "source": [
    "correlation, p_value = scipy.stats.pearsonr(df['Roker'], df['Sigaretten_per_dag'])\n",
    "print(f\"Correlatie tussen Roker en Sigaretten_per_dag: {correlation}, p-value: {p_value}\")"
   ]
  },
  {
   "cell_type": "markdown",
   "id": "c2d7bf09",
   "metadata": {},
   "source": [
    "1 = roker en Sigaretten_per_dag<br>\n",
    "De Pearson correlatiecoëfficiënt is 0.781, een sterke positieve correlatie dus. dit houd in dat rokers over het algemeen meer sigaretten per dag roken. de p-waarde is praktisch 0, de correlatie is dus zeer significant. Roker en Sigaretten_per_dag"
   ]
  },
  {
   "cell_type": "code",
   "execution_count": 44,
   "id": "55a97414",
   "metadata": {
    "collapsed": true
   },
   "outputs": [
    {
     "name": "stderr",
     "output_type": "stream",
     "text": [
      "2:80: E501 line too long (81 > 79 characters)\n",
      "3:80: E501 line too long (89 > 79 characters)\n"
     ]
    },
    {
     "name": "stdout",
     "output_type": "stream",
     "text": [
      "Correlatie tussen Leeftijd en Hoge_bloeddruk: 0.2700079215403774, p-value: 4.1236757048904313e-08\n"
     ]
    }
   ],
   "source": [
    "# Leeftijd en Hoge_bloeddruk\n",
    "correlation, p_value = scipy.stats.pearsonr(df['Leeftijd'], df['Hoge_bloeddruk'])\n",
    "print(f\"Correlatie tussen Leeftijd en Hoge_bloeddruk: {correlation}, p-value: {p_value}\")"
   ]
  },
  {
   "cell_type": "code",
   "execution_count": 43,
   "id": "b4572b2c",
   "metadata": {
    "collapsed": true
   },
   "outputs": [
    {
     "name": "stderr",
     "output_type": "stream",
     "text": [
      "2:80: E501 line too long (90 > 79 characters)\n",
      "3:80: E501 line too long (98 > 79 characters)\n"
     ]
    },
    {
     "name": "stdout",
     "output_type": "stream",
     "text": [
      "Correlatie tussen Cholesterolwaarde en Hoge_bloeddruk: 0.12705508764735815, p-value: 0.010975903208677027\n"
     ]
    }
   ],
   "source": [
    "# Cholesterolwaarde en Hoge_bloeddruk\n",
    "correlation, p_value = scipy.stats.pearsonr(df['Cholesterolwaarde'], df['Hoge_bloeddruk'])\n",
    "print(f\"Correlatie tussen Cholesterolwaarde en Hoge_bloeddruk: {correlation}, p-value: {p_value}\")"
   ]
  },
  {
   "cell_type": "markdown",
   "id": "44482fef",
   "metadata": {},
   "source": [
    "dit zijn de koppels van variabele die we hebben gekozen met uitleg waarom we die hebben gekozen;\n",
    "\n",
    "roken en Sigaretten_per_dag: deze hebben we gekozen omdat we denken dat mensen die roken ook een hoger aantal sigaretten per dag hebben. we verwachten dus een sterke positieve correlatie.\n",
    "\n",
    "2= leeftijd en Hoge_bloeddruk: we verwachten dat mensen die ouder zijn ook een hogere bloeddruk hebben. we verwachten dus hier ook een positieve correlatie\n",
    "\n",
    "3= Cholesterolwaarde en hoge_bloeddruk: we verwachten dat mensen met een hogere cholesterolwaarde ook een hogere bloeddruk hebben. we verwachten dus hier ook een postieve correlatie.\n",
    "\n",
    "vervolgens moeten we de correlatie tussen de koppels ook daadwerkelijk gaan uitrekenen. hiervoor gebruiken we de Pearson correlatiecoëfficiënt. we hebben voor de Pearson correlatiecoëfficiënt gekozen omdat het over lineaire variabelen gaat en de variabelen op continue schaal worden gemeten. dit zijn de berekeningen:\n",
    "\n",
    "2= leeftijd en Hoge_bloeddruk: correlation, p_value = scipy.stats.pearsonr(df['Leeftijd'], df['Hoge_bloeddruk']) print(f\"Correlatie tussen Leeftijd en Hoge_bloeddruk: {correlation}, p-value: {p_value}\") De Pearson correlatiecoëfficiënt is 0.270, een zwakke positieve correlatie dus. dit betekent dat ouderen een iets hogere bloeddruk hebben. de p-waarde is een stuk kleiner dan 0.05, dit betekent dat de correlatie niet significant is.\n",
    "\n",
    "3= Cholesterolwaarde en hoge_bloeddruk: correlation, p_value = scipy.stats.pearsonr(df['Cholesterolwaarde'], df['Hoge_bloeddruk']) print(f\"Correlatie tussen Cholesterolwaarde en Hoge_bloeddruk: {correlation}, p-value: {p_value}\") De Pearson correlatiecoëfficiënt is 0.127, een zeer zwakke correlatie dus. dit betekend dat mensen met een hogere Cholesterolwaarde enigzins vaker hoge bloeddruk hebben, maar verband is erg zwak dus hoeft niet per se vaak zo te zijn. De p-waarde is net onder 0.05, wat aangeeft dat de correlatie significant is.\n",
    "\n",
    "het komt er dus op neer dat onze verwachtingen enigzins kloppen. het verband is tussen roken en Sigaretten_per_dag het sterkste. de correlaties van leeftijd en cholesterolwaarde met bloeddruk zijn zwakker maar alsnog wel significant."
   ]
  },
  {
   "cell_type": "markdown",
   "id": "9c4cc5e4",
   "metadata": {},
   "source": [
    "[Terug naar het begin](#begin)"
   ]
  },
  {
   "cell_type": "markdown",
   "id": "bee38455",
   "metadata": {},
   "source": [
    "--------------------"
   ]
  },
  {
   "cell_type": "markdown",
   "id": "58cee011",
   "metadata": {},
   "source": [
    "# Deel B <a name = 'deelb'> </a>"
   ]
  },
  {
   "cell_type": "markdown",
   "id": "276084f8",
   "metadata": {},
   "source": [
    "## Basiswaarden samengestelde variabele <a name='bas'></a>"
   ]
  },
  {
   "cell_type": "markdown",
   "id": "e7b96355",
   "metadata": {},
   "source": [
    "Het combineren van verschillende variabelen tot een samengestelde variabele, zoals in dit geval \"Mental_Health\", vereist dat aan enkele basisvoorwaarden wordt voldaan:\n",
    "\n",
    "**Consistentie van meetniveaus**: Alle variabelen die worden gebruikt, moeten op een vergelijkbaar niveau worden gemeten. Als de variabelen in rangorde worden gemeten (zoals: slecht, midden, goed), dan moeten alle variabelen op deze schaal worden gemeten om ze bij elkaar op te kunnen tellen voor een nieuwe variabele.\n",
    "\n",
    "**Gelijkwaardig belang**: Wanneer je de 'scores', van de variabelen waaruit \"Mental_Health\" wordt gemaakt, optelt, wordt er vanuit gegaan dat elke variabele even zwaar weegt voor de uiteindelijke variabele. Als één variabele zwaarder weegt dan de andere, dan moet er een gewichtsfactor toegepast worden wanneer de scores bij elkaar worden opgeteld. Als geen van de variabele zwaarder weegt dan de andere, en ze allemaal even zwaar wegen, dan dragen de aspecten evenredig bij aan \"Mental_Health\".\n",
    "\n",
    "**Controle**: Er moet nagegaan worden of mensen die goed of slecht presteren op verschillende aspecten, ook goed of slecht scoren op \"Mental_Health\". Dit kan gebeuren door te kijken naar de verbanden tussen elke afzonderlijke variabele en \"Mental_Health\". Ook kan er gekeken worden naar de eventuele verschillen tussen de \"Mental_Health\" kolom en de al bestaande \"Mentale_gezondheid\" kolom.\n",
    "\n",
    "**Betrouwbaarheid**: Alle metingen bij elke variabele moeten betrouwbaar zijn. Dus als we dezelfde variabelen op een ander tijdstip meten, moeten er dezelfde antwoorden uitkomen.\n",
    "\n",
    "Het is goed om te weten dat dit soort samengevoegde variabelen, hoewel ze handig zijn, ook beperkingen hebben. Deze variabelen kunnen helpen om algemene patronen te zien, maar ze kunnen ook de unieke ervaringen van mensen verbergen. Daarom moet er zowel naar de samengevoegde variabele \"Mental_Health\" als naar de losse variabelen kijken als de resultaten van het onderzoek begrepen willen worden."
   ]
  },
  {
   "cell_type": "markdown",
   "id": "bd09439c",
   "metadata": {},
   "source": [
    "--------------------"
   ]
  },
  {
   "cell_type": "markdown",
   "id": "24425e9a",
   "metadata": {},
   "source": [
    "## Het maken van Mental_Health <a name='mental'></a>"
   ]
  },
  {
   "cell_type": "markdown",
   "id": "630e22f1",
   "metadata": {},
   "source": [
    "Eerst is er gekeken naar alle kolommen die gebruikt worden om op te tellen:"
   ]
  },
  {
   "cell_type": "code",
   "execution_count": 36,
   "id": "a19dd1c6",
   "metadata": {
    "collapsed": true
   },
   "outputs": [
    {
     "name": "stdout",
     "output_type": "stream",
     "text": [
      "Spreiding Sociaal_functioneren:\n"
     ]
    },
    {
     "data": {
      "text/plain": [
       "4    104\n",
       "3    102\n",
       "2     97\n",
       "1     61\n",
       "5     36\n",
       "Name: Sociaal_functioneren, dtype: int64"
      ]
     },
     "metadata": {},
     "output_type": "display_data"
    },
    {
     "name": "stdout",
     "output_type": "stream",
     "text": [
      "Spreiding Empatisch_reageren:\n"
     ]
    },
    {
     "data": {
      "text/plain": [
       "3    115\n",
       "2    107\n",
       "1     84\n",
       "4     74\n",
       "5     20\n",
       "Name: Empatisch_reageren, dtype: int64"
      ]
     },
     "metadata": {},
     "output_type": "display_data"
    },
    {
     "name": "stdout",
     "output_type": "stream",
     "text": [
      "Spreiding Positieve_levenshouding:\n"
     ]
    },
    {
     "data": {
      "text/plain": [
       "4    109\n",
       "2     91\n",
       "3     88\n",
       "5     58\n",
       "1     54\n",
       "Name: Positieve_levenshouding, dtype: int64"
      ]
     },
     "metadata": {},
     "output_type": "display_data"
    },
    {
     "name": "stdout",
     "output_type": "stream",
     "text": [
      "Spreiding Mentale_vaardigheden:\n"
     ]
    },
    {
     "data": {
      "text/plain": [
       "2    98\n",
       "3    98\n",
       "4    89\n",
       "1    82\n",
       "5    33\n",
       "Name: Mentale_vaardigheden, dtype: int64"
      ]
     },
     "metadata": {},
     "output_type": "display_data"
    },
    {
     "name": "stdout",
     "output_type": "stream",
     "text": [
      "Spreiding Leven_in_balans:\n"
     ]
    },
    {
     "data": {
      "text/plain": [
       "4    103\n",
       "3     87\n",
       "2     86\n",
       "5     67\n",
       "1     57\n",
       "Name: Leven_in_balans, dtype: int64"
      ]
     },
     "metadata": {},
     "output_type": "display_data"
    },
    {
     "name": "stdout",
     "output_type": "stream",
     "text": [
      "Spreiding Persoonlijke_grenzen:\n"
     ]
    },
    {
     "data": {
      "text/plain": [
       "2    101\n",
       "3     94\n",
       "4     92\n",
       "1     77\n",
       "5     36\n",
       "Name: Persoonlijke_grenzen, dtype: int64"
      ]
     },
     "metadata": {},
     "output_type": "display_data"
    }
   ],
   "source": [
    "kolommen = ['Sociaal_functioneren', 'Empatisch_reageren',\n",
    "            'Positieve_levenshouding', 'Mentale_vaardigheden',\n",
    "            'Leven_in_balans', 'Persoonlijke_grenzen']\n",
    "\n",
    "for kol in kolommen:\n",
    "    print(f'Spreiding {kol}:')\n",
    "    display(df[kol].value_counts())"
   ]
  },
  {
   "cell_type": "markdown",
   "id": "80e61a78",
   "metadata": {},
   "source": [
    "Wat hier opviel is dat de kolom 'Persoonlijke_grenzen' 1 waarde heeft die op 0 staat. Deze waarde moet omgezet worden naar 1, wat de laagst mogelijke waarde hoort te zijn."
   ]
  },
  {
   "cell_type": "code",
   "execution_count": 37,
   "id": "87b73581",
   "metadata": {
    "collapsed": true
   },
   "outputs": [
    {
     "data": {
      "text/plain": [
       "2    101\n",
       "3     94\n",
       "4     92\n",
       "1     77\n",
       "5     36\n",
       "Name: Persoonlijke_grenzen, dtype: int64"
      ]
     },
     "execution_count": 37,
     "metadata": {},
     "output_type": "execute_result"
    }
   ],
   "source": [
    "df.Persoonlijke_grenzen.replace(0, 1, inplace=True)\n",
    "df['Persoonlijke_grenzen'].value_counts()"
   ]
  },
  {
   "cell_type": "markdown",
   "id": "303ec136",
   "metadata": {},
   "source": [
    "Nu dit probleem is verholpen word de kolom aangemaakt door de waardes bij elkaar op te tellen."
   ]
  },
  {
   "cell_type": "code",
   "execution_count": 42,
   "id": "033bf52a",
   "metadata": {
    "collapsed": true
   },
   "outputs": [
    {
     "data": {
      "text/plain": [
       "0      14\n",
       "1      24\n",
       "2      25\n",
       "3      22\n",
       "4      16\n",
       "       ..\n",
       "395    23\n",
       "396    16\n",
       "397    15\n",
       "398    20\n",
       "399    20\n",
       "Name: mental_health, Length: 400, dtype: int64"
      ]
     },
     "metadata": {},
     "output_type": "display_data"
    }
   ],
   "source": [
    "df['Mental_Health'] = df[kolommen].sum(axis=1)\n",
    "display(df['Mental_Health'])"
   ]
  },
  {
   "cell_type": "markdown",
   "id": "01916d55",
   "metadata": {},
   "source": [
    "De gemaakte variabele \"Mental_Health\" is ordinair van aard. Dat betekent dat de waarden in een bepaalde volgorde voorkomen, maar er is geen vaste, gelijke afstand en betekenis tussen de waardes die deze variabele aan kan nemen.\n",
    "\n",
    "Dit komt omdat \"Mental_Health\" de optelsom is van zes andere variabelen die ook ordinair zijn. Deze variabelen zijn \"sociaal_functioneren\", \"empatisch_reageren\", \"positieve_levenshouding\", \"mentale_vaardigheden\", \"leven_in_balans\" en \"persoonlijke_grenzen\". Ze worden allemaal gemeten op een schaal van 1 tot 5, waarbij 1 betekent \"niet\" en 5 betekent \"volledig\".\n",
    "\n",
    "Hoewel \"Mental_Health\" soms behandeld kan worden alsof het een interval is (wat betekent dat de stappen tussen de waarde een vaste, gelijke afstand en betekenis hebben), is dat niet correct en kan het soms tot misleidende resultaten leiden. Het is dus belangrijk om te onthouden dat \"Mental_Health\" ordinair is wanneer deze variabele gebruikt wordt in analyses."
   ]
  },
  {
   "cell_type": "markdown",
   "id": "e842ca72",
   "metadata": {},
   "source": [
    "[Terug naar het begin](#begin)"
   ]
  },
  {
   "cell_type": "markdown",
   "id": "9dbbf938",
   "metadata": {},
   "source": [
    "--------------------"
   ]
  },
  {
   "cell_type": "markdown",
   "id": "3816faaa",
   "metadata": {},
   "source": [
    "## Opgave 16"
   ]
  },
  {
   "cell_type": "code",
   "execution_count": null,
   "id": "1caa51ea",
   "metadata": {},
   "outputs": [],
   "source": []
  },
  {
   "cell_type": "markdown",
   "id": "2bd6e9c7",
   "metadata": {},
   "source": [
    "[Terug naar het begin](#begin)"
   ]
  },
  {
   "cell_type": "markdown",
   "id": "041c2c69",
   "metadata": {},
   "source": [
    "--------------------"
   ]
  },
  {
   "cell_type": "markdown",
   "id": "bfb69224",
   "metadata": {},
   "source": [
    "## Opgave 17"
   ]
  },
  {
   "cell_type": "code",
   "execution_count": null,
   "id": "e7ef8ab8",
   "metadata": {},
   "outputs": [],
   "source": []
  },
  {
   "cell_type": "markdown",
   "id": "841900ef",
   "metadata": {},
   "source": [
    "[Terug naar het begin](#begin)"
   ]
  },
  {
   "cell_type": "markdown",
   "id": "a640748c",
   "metadata": {},
   "source": [
    "--------------------"
   ]
  },
  {
   "cell_type": "markdown",
   "id": "b5e9c24a",
   "metadata": {},
   "source": [
    "# Deel C <a name='deelc'></a>"
   ]
  },
  {
   "cell_type": "markdown",
   "id": "703a507b",
   "metadata": {},
   "source": [
    "## Het lineaire verband <a name='lineair'></a>"
   ]
  },
  {
   "cell_type": "markdown",
   "id": "95fcc66d",
   "metadata": {},
   "source": [
    "Een lineair verband is de relatie tussen twee variabelen waarbij de verandering in een van de variabelen samenhangt met de andere variabele op een rechte lijn. Dit houd in dat als een van de variabelen toeneemt, de ander dit op een constante en voorspelbare wijze ook doet.\n",
    "\n",
    "In wiskundige termen kan dit worden uitgedrukt in de standaard lineaire vergelijking: $ y = ax + b $. Deze formule bestaat uit vier waardes: x, y, a en b.\n",
    "- x is de onafhankelijke variabele\n",
    "- y is de afhankelijke variabele\n",
    "- a is de richtingscoëfficient\n",
    "- b de kruising van de lijn met de y-as.\n",
    "\n",
    "Bij deze formule zijn a en b constante waardes, deze kunnen in een verband niet van waarde veranderen. Doordat de waardes van a en b constant zijn, kan er in één oog opslag gezien worden hoe de lijn in het verband zich vormt. De a-waarde laat zien hoeveel de y-waarde beweegt voor elke stap die x zet. Terwijl de b-waarde toont wat de y-waarde zal zijn als x niet aanwezig is. Samen zorgen de vier variabelen voor een stabiele en simpel voorspelbare lijn. In het kort is een lineair verband dus de constante en voorspelbare correlatie tussen twee variabelen in de vorm van een rechte lijn."
   ]
  },
  {
   "cell_type": "markdown",
   "id": "f111672b",
   "metadata": {},
   "source": [
    "[Terug naar het begin](#begin)"
   ]
  },
  {
   "cell_type": "markdown",
   "id": "c65d79de",
   "metadata": {},
   "source": [
    "--------------------"
   ]
  },
  {
   "cell_type": "markdown",
   "id": "a20fe93f",
   "metadata": {},
   "source": [
    "## Opgave 19"
   ]
  },
  {
   "cell_type": "code",
   "execution_count": null,
   "id": "664715f7",
   "metadata": {},
   "outputs": [],
   "source": []
  },
  {
   "cell_type": "markdown",
   "id": "f222724e",
   "metadata": {},
   "source": [
    "[Terug naar het begin](#begin)"
   ]
  },
  {
   "cell_type": "markdown",
   "id": "17515630",
   "metadata": {},
   "source": [
    "--------------------"
   ]
  },
  {
   "cell_type": "markdown",
   "id": "a88881c4",
   "metadata": {},
   "source": [
    "## Opgave 20"
   ]
  },
  {
   "cell_type": "code",
   "execution_count": null,
   "id": "6a556830",
   "metadata": {},
   "outputs": [],
   "source": []
  },
  {
   "cell_type": "markdown",
   "id": "fae22381",
   "metadata": {},
   "source": [
    "[Terug naar het begin](#begin)"
   ]
  },
  {
   "cell_type": "markdown",
   "id": "2391996b",
   "metadata": {},
   "source": [
    "--------------------"
   ]
  },
  {
   "cell_type": "markdown",
   "id": "4785be82",
   "metadata": {},
   "source": [
    "## Opgave 21"
   ]
  },
  {
   "cell_type": "code",
   "execution_count": null,
   "id": "226bd470",
   "metadata": {},
   "outputs": [],
   "source": []
  },
  {
   "cell_type": "markdown",
   "id": "50af7452",
   "metadata": {},
   "source": [
    "[Terug naar het begin](#begin)"
   ]
  },
  {
   "cell_type": "markdown",
   "id": "e9e0d22f",
   "metadata": {},
   "source": [
    "--------------------"
   ]
  },
  {
   "cell_type": "markdown",
   "id": "bedb338d",
   "metadata": {},
   "source": [
    "## Opgave 22"
   ]
  },
  {
   "cell_type": "code",
   "execution_count": null,
   "id": "5affeee9",
   "metadata": {},
   "outputs": [],
   "source": []
  },
  {
   "cell_type": "markdown",
   "id": "7339587b",
   "metadata": {},
   "source": [
    "[Terug naar het begin](#begin)"
   ]
  },
  {
   "cell_type": "markdown",
   "id": "eee152e5",
   "metadata": {},
   "source": [
    "--------------------"
   ]
  },
  {
   "cell_type": "markdown",
   "id": "0f6c4a67",
   "metadata": {},
   "source": [
    "## Opgave 23"
   ]
  },
  {
   "cell_type": "code",
   "execution_count": null,
   "id": "7da67c75",
   "metadata": {},
   "outputs": [],
   "source": []
  },
  {
   "cell_type": "markdown",
   "id": "416a55f9",
   "metadata": {},
   "source": [
    "[Terug naar het begin](#begin)"
   ]
  },
  {
   "cell_type": "markdown",
   "id": "84b2c7b1",
   "metadata": {},
   "source": [
    "--------------------"
   ]
  },
  {
   "cell_type": "markdown",
   "id": "c9766dca",
   "metadata": {},
   "source": [
    "## Opgave 24"
   ]
  },
  {
   "cell_type": "code",
   "execution_count": null,
   "id": "7bd24213",
   "metadata": {},
   "outputs": [],
   "source": []
  },
  {
   "cell_type": "markdown",
   "id": "06e9032b",
   "metadata": {},
   "source": [
    "[Terug naar het begin](#begin)"
   ]
  },
  {
   "cell_type": "markdown",
   "id": "0922be6c",
   "metadata": {},
   "source": [
    "--------------------"
   ]
  },
  {
   "cell_type": "markdown",
   "id": "586f4324",
   "metadata": {},
   "source": [
    "## Opgave 25"
   ]
  },
  {
   "cell_type": "code",
   "execution_count": null,
   "id": "666f15c2",
   "metadata": {},
   "outputs": [],
   "source": []
  },
  {
   "cell_type": "markdown",
   "id": "73aaa5b6",
   "metadata": {},
   "source": [
    "[Terug naar het begin](#begin)"
   ]
  },
  {
   "cell_type": "markdown",
   "id": "165b5e43",
   "metadata": {},
   "source": [
    "--------------------"
   ]
  },
  {
   "cell_type": "markdown",
   "id": "0e7fd77e",
   "metadata": {},
   "source": [
    "## Opgave 26"
   ]
  },
  {
   "cell_type": "code",
   "execution_count": null,
   "id": "cffad0b6",
   "metadata": {},
   "outputs": [],
   "source": []
  },
  {
   "cell_type": "markdown",
   "id": "a5d18239",
   "metadata": {},
   "source": [
    "[Terug naar het begin](#begin)"
   ]
  },
  {
   "cell_type": "markdown",
   "id": "2593d9d9",
   "metadata": {},
   "source": [
    "--------------------"
   ]
  },
  {
   "cell_type": "markdown",
   "id": "4b7874d7",
   "metadata": {},
   "source": [
    "## Opgave 27"
   ]
  },
  {
   "cell_type": "code",
   "execution_count": null,
   "id": "bdafeb31",
   "metadata": {},
   "outputs": [],
   "source": []
  },
  {
   "cell_type": "markdown",
   "id": "fd07fb1f",
   "metadata": {},
   "source": [
    "[Terug naar het begin](#begin)"
   ]
  },
  {
   "cell_type": "markdown",
   "id": "1d5c2a4f",
   "metadata": {},
   "source": [
    "--------------------"
   ]
  },
  {
   "cell_type": "markdown",
   "id": "dd36d133",
   "metadata": {},
   "source": [
    "## Opgave 28"
   ]
  },
  {
   "cell_type": "code",
   "execution_count": null,
   "id": "8da20f1a",
   "metadata": {},
   "outputs": [],
   "source": []
  },
  {
   "cell_type": "markdown",
   "id": "de21903e",
   "metadata": {},
   "source": [
    "[Terug naar het begin](#begin)"
   ]
  },
  {
   "cell_type": "markdown",
   "id": "1317df62",
   "metadata": {},
   "source": [
    "--------------------"
   ]
  },
  {
   "cell_type": "markdown",
   "id": "6d757b4e",
   "metadata": {},
   "source": [
    "## Opgave 29"
   ]
  },
  {
   "cell_type": "code",
   "execution_count": null,
   "id": "a868f2d9",
   "metadata": {},
   "outputs": [],
   "source": []
  },
  {
   "cell_type": "markdown",
   "id": "b87133dc",
   "metadata": {},
   "source": [
    "[Terug naar het begin](#begin)"
   ]
  },
  {
   "cell_type": "markdown",
   "id": "8e6c1c5c",
   "metadata": {},
   "source": [
    "--------------------"
   ]
  },
  {
   "cell_type": "markdown",
   "id": "6c0ca7da",
   "metadata": {},
   "source": [
    "## Opgave 30"
   ]
  },
  {
   "cell_type": "code",
   "execution_count": null,
   "id": "40ee3f99",
   "metadata": {},
   "outputs": [],
   "source": []
  },
  {
   "cell_type": "markdown",
   "id": "381181c8",
   "metadata": {},
   "source": [
    "[Terug naar het begin](#begin)"
   ]
  },
  {
   "cell_type": "markdown",
   "id": "c3d5f181",
   "metadata": {},
   "source": [
    "--------------------"
   ]
  },
  {
   "cell_type": "markdown",
   "id": "75c68bc6",
   "metadata": {},
   "source": [
    "## Opgave 31"
   ]
  },
  {
   "cell_type": "code",
   "execution_count": null,
   "id": "0bb15ad4",
   "metadata": {},
   "outputs": [],
   "source": []
  },
  {
   "cell_type": "markdown",
   "id": "b6958799",
   "metadata": {},
   "source": [
    "[Terug naar het begin](#begin)"
   ]
  },
  {
   "cell_type": "markdown",
   "id": "58d08ec1",
   "metadata": {},
   "source": [
    "--------------------"
   ]
  },
  {
   "cell_type": "markdown",
   "id": "2beffc41",
   "metadata": {},
   "source": [
    "## Opgave 32"
   ]
  },
  {
   "cell_type": "code",
   "execution_count": null,
   "id": "6ed1a672",
   "metadata": {},
   "outputs": [],
   "source": []
  },
  {
   "cell_type": "markdown",
   "id": "1f8672c8",
   "metadata": {},
   "source": [
    "[Terug naar het begin](#begin)"
   ]
  },
  {
   "cell_type": "markdown",
   "id": "24e55650",
   "metadata": {},
   "source": [
    "--------------------"
   ]
  },
  {
   "cell_type": "markdown",
   "id": "123d20db",
   "metadata": {},
   "source": [
    "## Opgave 33"
   ]
  },
  {
   "cell_type": "code",
   "execution_count": null,
   "id": "3f437938",
   "metadata": {},
   "outputs": [],
   "source": []
  },
  {
   "cell_type": "markdown",
   "id": "63f4971e",
   "metadata": {},
   "source": [
    "[Terug naar het begin](#begin)"
   ]
  },
  {
   "cell_type": "markdown",
   "id": "a2ba410e",
   "metadata": {},
   "source": [
    "--------------------"
   ]
  }
 ],
 "metadata": {
  "kernelspec": {
   "display_name": "Python 3 (ipykernel)",
   "language": "python",
   "name": "python3"
  },
  "language_info": {
   "codemirror_mode": {
    "name": "ipython",
    "version": 3
   },
   "file_extension": ".py",
   "mimetype": "text/x-python",
   "name": "python",
   "nbconvert_exporter": "python",
   "pygments_lexer": "ipython3",
   "version": "3.9.12"
  }
 },
 "nbformat": 4,
 "nbformat_minor": 5
}
