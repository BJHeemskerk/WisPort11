{
 "cells": [
  {
   "cell_type": "markdown",
   "id": "180ea95b",
   "metadata": {},
   "source": [
    "# Wiskunde II: Portfolio\n",
    "\n",
    "Datum van inleveren: 16-6-2023<br>\n",
    "Vak: Wiskunde II<br>\n",
    "Groepsnummer: 11<br>\n",
    "Leden:<br>\n",
    "- Busse Heemskerk\n",
    "- Jesse van Leeuwen\n",
    "- Yara Passchier\n"
   ]
  },
  {
   "cell_type": "markdown",
   "id": "ceff7d72",
   "metadata": {},
   "source": [
    "---"
   ]
  },
  {
   "cell_type": "markdown",
   "id": "156cd1af",
   "metadata": {},
   "source": [
    "## Inhoud <a name = 'begin'></a>\n",
    "\n",
    "1. [De class, WisHelper](#WisHelper)\n",
    "1. [Deel A](#deela)\n",
    "    1. [Analyse van 5 kolommen](#analys)\n",
    "        1. [Geslacht](#geslacht)\n",
    "        2. [Hoogste opleiding](#hopl)\n",
    "        3. [Leeftijd](#age)\n",
    "        4. [BMI](#bmi)\n",
    "        5. [Werkeloos](#werkeloos)\n",
    "    2. [Tabel van kengetallen en grafieken](#tabel)\n",
    "    3. [Analyse van een binaire kolom](#rokers)\n",
    "    4. [Discrete en continue verdelingen](#cholesterol)\n",
    "    5. [Correlaties tussen kolommen](#corr_1)\n",
    "2. [Deel B](#deelb)\n",
    "    1. [Basiswaarden samengestelde variabele](#bas)\n",
    "    2. [Het maken van Mental_Health](#mental)\n",
    "    3. [](#)\n",
    "3. [Deel C](#deelc)\n",
    "    1. [Het lineaire verband](#lineair)\n",
    "    2. [Onderzoek van Cholesterolwaarde](#cho)\n",
    "        1. [Kans op hoge cholesterol](#kans)\n",
    "        2. [Eerste test](#test1)\n",
    "        2. [Betrouwbaarheidsintervallen](#betr)\n",
    "        3. [Tweede test](#test2)\n",
    "    3. [Onderzoeken van diastolische bloeddruk](#bloed)\n",
    "    4. [Suikerziekte en BMI](#suiker)"
   ]
  },
  {
   "cell_type": "markdown",
   "id": "ee2aad46",
   "metadata": {},
   "source": [
    "--------------------"
   ]
  },
  {
   "cell_type": "markdown",
   "id": "e19f5362",
   "metadata": {},
   "source": [
    "## Importeren van de dataset en modules"
   ]
  },
  {
   "cell_type": "markdown",
   "id": "551a60d0",
   "metadata": {},
   "source": [
    "Eerst worden de benodigde modules geïmporteerd en de dataset wordt ingeladen."
   ]
  },
  {
   "cell_type": "code",
   "execution_count": 1,
   "id": "7e9ff872",
   "metadata": {},
   "outputs": [],
   "source": [
    "# Importeren van libraries\n",
    "import pandas as pd\n",
    "import numpy as np\n",
    "import matplotlib.pyplot as plt\n",
    "import seaborn as sns\n",
    "import scipy.stats as stats\n",
    "\n",
    "# Zetten van grafiek stijl naar darkgrid\n",
    "sns.set_style('darkgrid')"
   ]
  },
  {
   "cell_type": "code",
   "execution_count": 2,
   "id": "9f9a555d",
   "metadata": {},
   "outputs": [
    {
     "name": "stdout",
     "output_type": "stream",
     "text": [
      "<class 'pandas.core.frame.DataFrame'>\n",
      "RangeIndex: 400 entries, 0 to 399\n",
      "Data columns (total 39 columns):\n",
      " #   Column                         Non-Null Count  Dtype  \n",
      "---  ------                         --------------  -----  \n",
      " 0   Geslacht                       400 non-null    int64  \n",
      " 1   Leeftijd                       400 non-null    int64  \n",
      " 2   Hoogste_opleiding              400 non-null    int64  \n",
      " 3   Roker                          400 non-null    int64  \n",
      " 4   Sigaretten_per_dag             400 non-null    int64  \n",
      " 5   Bloeddrukmedicatie             400 non-null    object \n",
      " 6   Hersenbloeding                 400 non-null    int64  \n",
      " 7   Hoge_bloeddruk                 400 non-null    int64  \n",
      " 8   Suikerziekte                   400 non-null    int64  \n",
      " 9   Cholesterolwaarde              400 non-null    int64  \n",
      " 10  Bloeddruk_systolisch           400 non-null    float64\n",
      " 11  Bloeddruk_diastolisch          400 non-null    float64\n",
      " 12  BMI_waarde                     400 non-null    float64\n",
      " 13  Hartslagen                     400 non-null    int64  \n",
      " 14  Glucosegehalte                 400 non-null    int64  \n",
      " 15  Hoog_hartaanval_risico         400 non-null    int64  \n",
      " 16  Harddruggebruik                400 non-null    int64  \n",
      " 17  Softdruggebruik                400 non-null    int64  \n",
      " 18  Jaarlijks_medische_checkup     400 non-null    int64  \n",
      " 19  Wekelijkse_uren_screentime     400 non-null    int64  \n",
      " 20  Partner                        400 non-null    int64  \n",
      " 21  Gescheiden_ouders              400 non-null    int64  \n",
      " 22  Werkeloos                      400 non-null    int64  \n",
      " 23  Voldoende_dagelijkse_beweging  400 non-null    int64  \n",
      " 24  Fruitconsumptie                400 non-null    int64  \n",
      " 25  Groentenconsumptie             400 non-null    int64  \n",
      " 26  Alcoholconsumptie              400 non-null    int64  \n",
      " 27  Lid_sportclub                  400 non-null    int64  \n",
      " 28  Chronische_ziekte              400 non-null    int64  \n",
      " 29  Fysieke_gezondheid             400 non-null    int64  \n",
      " 30  Mentale_gezondheid             400 non-null    int64  \n",
      " 31  Kinderen                       400 non-null    int64  \n",
      " 32  Autobezit                      400 non-null    int64  \n",
      " 33  Sociaal_functioneren           400 non-null    int64  \n",
      " 34  Empatisch_reageren             400 non-null    int64  \n",
      " 35  Positieve_levenshouding        400 non-null    int64  \n",
      " 36  Mentale_vaardigheden           400 non-null    int64  \n",
      " 37  Leven_in_balans                400 non-null    int64  \n",
      " 38  Persoonlijke_grenzen           400 non-null    int64  \n",
      "dtypes: float64(3), int64(35), object(1)\n",
      "memory usage: 122.0+ KB\n"
     ]
    },
    {
     "data": {
      "text/html": [
       "<div>\n",
       "<style scoped>\n",
       "    .dataframe tbody tr th:only-of-type {\n",
       "        vertical-align: middle;\n",
       "    }\n",
       "\n",
       "    .dataframe tbody tr th {\n",
       "        vertical-align: top;\n",
       "    }\n",
       "\n",
       "    .dataframe thead th {\n",
       "        text-align: right;\n",
       "    }\n",
       "</style>\n",
       "<table border=\"1\" class=\"dataframe\">\n",
       "  <thead>\n",
       "    <tr style=\"text-align: right;\">\n",
       "      <th></th>\n",
       "      <th>Geslacht</th>\n",
       "      <th>Leeftijd</th>\n",
       "      <th>Hoogste_opleiding</th>\n",
       "      <th>Roker</th>\n",
       "      <th>Sigaretten_per_dag</th>\n",
       "      <th>Hersenbloeding</th>\n",
       "      <th>Hoge_bloeddruk</th>\n",
       "      <th>Suikerziekte</th>\n",
       "      <th>Cholesterolwaarde</th>\n",
       "      <th>Bloeddruk_systolisch</th>\n",
       "      <th>...</th>\n",
       "      <th>Fysieke_gezondheid</th>\n",
       "      <th>Mentale_gezondheid</th>\n",
       "      <th>Kinderen</th>\n",
       "      <th>Autobezit</th>\n",
       "      <th>Sociaal_functioneren</th>\n",
       "      <th>Empatisch_reageren</th>\n",
       "      <th>Positieve_levenshouding</th>\n",
       "      <th>Mentale_vaardigheden</th>\n",
       "      <th>Leven_in_balans</th>\n",
       "      <th>Persoonlijke_grenzen</th>\n",
       "    </tr>\n",
       "  </thead>\n",
       "  <tbody>\n",
       "    <tr>\n",
       "      <th>count</th>\n",
       "      <td>400.000000</td>\n",
       "      <td>400.000000</td>\n",
       "      <td>400.000000</td>\n",
       "      <td>400.000000</td>\n",
       "      <td>400.000000</td>\n",
       "      <td>400.0000</td>\n",
       "      <td>400.000000</td>\n",
       "      <td>400.000000</td>\n",
       "      <td>400.000000</td>\n",
       "      <td>400.000000</td>\n",
       "      <td>...</td>\n",
       "      <td>400.000000</td>\n",
       "      <td>400.000000</td>\n",
       "      <td>400.00000</td>\n",
       "      <td>400.00000</td>\n",
       "      <td>400.000000</td>\n",
       "      <td>400.000000</td>\n",
       "      <td>400.000000</td>\n",
       "      <td>400.000000</td>\n",
       "      <td>400.000000</td>\n",
       "      <td>400.000000</td>\n",
       "    </tr>\n",
       "    <tr>\n",
       "      <th>mean</th>\n",
       "      <td>0.405000</td>\n",
       "      <td>49.600000</td>\n",
       "      <td>1.975000</td>\n",
       "      <td>0.477500</td>\n",
       "      <td>9.490000</td>\n",
       "      <td>0.0025</td>\n",
       "      <td>0.300000</td>\n",
       "      <td>0.030000</td>\n",
       "      <td>237.482500</td>\n",
       "      <td>132.225000</td>\n",
       "      <td>...</td>\n",
       "      <td>2.877500</td>\n",
       "      <td>4.797500</td>\n",
       "      <td>0.29250</td>\n",
       "      <td>0.38750</td>\n",
       "      <td>2.892500</td>\n",
       "      <td>2.597500</td>\n",
       "      <td>3.065000</td>\n",
       "      <td>2.732500</td>\n",
       "      <td>3.092500</td>\n",
       "      <td>2.770000</td>\n",
       "    </tr>\n",
       "    <tr>\n",
       "      <th>std</th>\n",
       "      <td>0.491507</td>\n",
       "      <td>8.881001</td>\n",
       "      <td>1.032978</td>\n",
       "      <td>0.500119</td>\n",
       "      <td>12.724964</td>\n",
       "      <td>0.0500</td>\n",
       "      <td>0.458831</td>\n",
       "      <td>0.170801</td>\n",
       "      <td>43.296665</td>\n",
       "      <td>22.392363</td>\n",
       "      <td>...</td>\n",
       "      <td>1.109311</td>\n",
       "      <td>1.029146</td>\n",
       "      <td>0.45548</td>\n",
       "      <td>0.48779</td>\n",
       "      <td>1.210209</td>\n",
       "      <td>1.154915</td>\n",
       "      <td>1.272723</td>\n",
       "      <td>1.244917</td>\n",
       "      <td>1.306987</td>\n",
       "      <td>1.255404</td>\n",
       "    </tr>\n",
       "    <tr>\n",
       "      <th>min</th>\n",
       "      <td>0.000000</td>\n",
       "      <td>34.000000</td>\n",
       "      <td>1.000000</td>\n",
       "      <td>0.000000</td>\n",
       "      <td>0.000000</td>\n",
       "      <td>0.0000</td>\n",
       "      <td>0.000000</td>\n",
       "      <td>0.000000</td>\n",
       "      <td>129.000000</td>\n",
       "      <td>94.000000</td>\n",
       "      <td>...</td>\n",
       "      <td>1.000000</td>\n",
       "      <td>2.000000</td>\n",
       "      <td>0.00000</td>\n",
       "      <td>0.00000</td>\n",
       "      <td>1.000000</td>\n",
       "      <td>1.000000</td>\n",
       "      <td>1.000000</td>\n",
       "      <td>1.000000</td>\n",
       "      <td>1.000000</td>\n",
       "      <td>0.000000</td>\n",
       "    </tr>\n",
       "    <tr>\n",
       "      <th>25%</th>\n",
       "      <td>0.000000</td>\n",
       "      <td>42.000000</td>\n",
       "      <td>1.000000</td>\n",
       "      <td>0.000000</td>\n",
       "      <td>0.000000</td>\n",
       "      <td>0.0000</td>\n",
       "      <td>0.000000</td>\n",
       "      <td>0.000000</td>\n",
       "      <td>207.000000</td>\n",
       "      <td>116.000000</td>\n",
       "      <td>...</td>\n",
       "      <td>2.000000</td>\n",
       "      <td>4.000000</td>\n",
       "      <td>0.00000</td>\n",
       "      <td>0.00000</td>\n",
       "      <td>2.000000</td>\n",
       "      <td>2.000000</td>\n",
       "      <td>2.000000</td>\n",
       "      <td>2.000000</td>\n",
       "      <td>2.000000</td>\n",
       "      <td>2.000000</td>\n",
       "    </tr>\n",
       "    <tr>\n",
       "      <th>50%</th>\n",
       "      <td>0.000000</td>\n",
       "      <td>49.000000</td>\n",
       "      <td>2.000000</td>\n",
       "      <td>0.000000</td>\n",
       "      <td>0.000000</td>\n",
       "      <td>0.0000</td>\n",
       "      <td>0.000000</td>\n",
       "      <td>0.000000</td>\n",
       "      <td>238.000000</td>\n",
       "      <td>128.000000</td>\n",
       "      <td>...</td>\n",
       "      <td>3.000000</td>\n",
       "      <td>5.000000</td>\n",
       "      <td>0.00000</td>\n",
       "      <td>0.00000</td>\n",
       "      <td>3.000000</td>\n",
       "      <td>3.000000</td>\n",
       "      <td>3.000000</td>\n",
       "      <td>3.000000</td>\n",
       "      <td>3.000000</td>\n",
       "      <td>3.000000</td>\n",
       "    </tr>\n",
       "    <tr>\n",
       "      <th>75%</th>\n",
       "      <td>1.000000</td>\n",
       "      <td>56.000000</td>\n",
       "      <td>3.000000</td>\n",
       "      <td>1.000000</td>\n",
       "      <td>20.000000</td>\n",
       "      <td>0.0000</td>\n",
       "      <td>1.000000</td>\n",
       "      <td>0.000000</td>\n",
       "      <td>265.000000</td>\n",
       "      <td>144.000000</td>\n",
       "      <td>...</td>\n",
       "      <td>4.000000</td>\n",
       "      <td>6.000000</td>\n",
       "      <td>1.00000</td>\n",
       "      <td>1.00000</td>\n",
       "      <td>4.000000</td>\n",
       "      <td>3.000000</td>\n",
       "      <td>4.000000</td>\n",
       "      <td>4.000000</td>\n",
       "      <td>4.000000</td>\n",
       "      <td>4.000000</td>\n",
       "    </tr>\n",
       "    <tr>\n",
       "      <th>max</th>\n",
       "      <td>1.000000</td>\n",
       "      <td>68.000000</td>\n",
       "      <td>4.000000</td>\n",
       "      <td>1.000000</td>\n",
       "      <td>60.000000</td>\n",
       "      <td>1.0000</td>\n",
       "      <td>1.000000</td>\n",
       "      <td>1.000000</td>\n",
       "      <td>464.000000</td>\n",
       "      <td>215.000000</td>\n",
       "      <td>...</td>\n",
       "      <td>5.000000</td>\n",
       "      <td>6.000000</td>\n",
       "      <td>1.00000</td>\n",
       "      <td>1.00000</td>\n",
       "      <td>5.000000</td>\n",
       "      <td>5.000000</td>\n",
       "      <td>5.000000</td>\n",
       "      <td>5.000000</td>\n",
       "      <td>5.000000</td>\n",
       "      <td>5.000000</td>\n",
       "    </tr>\n",
       "  </tbody>\n",
       "</table>\n",
       "<p>8 rows × 38 columns</p>\n",
       "</div>"
      ],
      "text/plain": [
       "         Geslacht    Leeftijd  Hoogste_opleiding       Roker  \\\n",
       "count  400.000000  400.000000         400.000000  400.000000   \n",
       "mean     0.405000   49.600000           1.975000    0.477500   \n",
       "std      0.491507    8.881001           1.032978    0.500119   \n",
       "min      0.000000   34.000000           1.000000    0.000000   \n",
       "25%      0.000000   42.000000           1.000000    0.000000   \n",
       "50%      0.000000   49.000000           2.000000    0.000000   \n",
       "75%      1.000000   56.000000           3.000000    1.000000   \n",
       "max      1.000000   68.000000           4.000000    1.000000   \n",
       "\n",
       "       Sigaretten_per_dag  Hersenbloeding  Hoge_bloeddruk  Suikerziekte  \\\n",
       "count          400.000000        400.0000      400.000000    400.000000   \n",
       "mean             9.490000          0.0025        0.300000      0.030000   \n",
       "std             12.724964          0.0500        0.458831      0.170801   \n",
       "min              0.000000          0.0000        0.000000      0.000000   \n",
       "25%              0.000000          0.0000        0.000000      0.000000   \n",
       "50%              0.000000          0.0000        0.000000      0.000000   \n",
       "75%             20.000000          0.0000        1.000000      0.000000   \n",
       "max             60.000000          1.0000        1.000000      1.000000   \n",
       "\n",
       "       Cholesterolwaarde  Bloeddruk_systolisch  ...  Fysieke_gezondheid  \\\n",
       "count         400.000000            400.000000  ...          400.000000   \n",
       "mean          237.482500            132.225000  ...            2.877500   \n",
       "std            43.296665             22.392363  ...            1.109311   \n",
       "min           129.000000             94.000000  ...            1.000000   \n",
       "25%           207.000000            116.000000  ...            2.000000   \n",
       "50%           238.000000            128.000000  ...            3.000000   \n",
       "75%           265.000000            144.000000  ...            4.000000   \n",
       "max           464.000000            215.000000  ...            5.000000   \n",
       "\n",
       "       Mentale_gezondheid   Kinderen  Autobezit  Sociaal_functioneren  \\\n",
       "count          400.000000  400.00000  400.00000            400.000000   \n",
       "mean             4.797500    0.29250    0.38750              2.892500   \n",
       "std              1.029146    0.45548    0.48779              1.210209   \n",
       "min              2.000000    0.00000    0.00000              1.000000   \n",
       "25%              4.000000    0.00000    0.00000              2.000000   \n",
       "50%              5.000000    0.00000    0.00000              3.000000   \n",
       "75%              6.000000    1.00000    1.00000              4.000000   \n",
       "max              6.000000    1.00000    1.00000              5.000000   \n",
       "\n",
       "       Empatisch_reageren  Positieve_levenshouding  Mentale_vaardigheden  \\\n",
       "count          400.000000               400.000000            400.000000   \n",
       "mean             2.597500                 3.065000              2.732500   \n",
       "std              1.154915                 1.272723              1.244917   \n",
       "min              1.000000                 1.000000              1.000000   \n",
       "25%              2.000000                 2.000000              2.000000   \n",
       "50%              3.000000                 3.000000              3.000000   \n",
       "75%              3.000000                 4.000000              4.000000   \n",
       "max              5.000000                 5.000000              5.000000   \n",
       "\n",
       "       Leven_in_balans  Persoonlijke_grenzen  \n",
       "count       400.000000            400.000000  \n",
       "mean          3.092500              2.770000  \n",
       "std           1.306987              1.255404  \n",
       "min           1.000000              0.000000  \n",
       "25%           2.000000              2.000000  \n",
       "50%           3.000000              3.000000  \n",
       "75%           4.000000              4.000000  \n",
       "max           5.000000              5.000000  \n",
       "\n",
       "[8 rows x 38 columns]"
      ]
     },
     "metadata": {},
     "output_type": "display_data"
    },
    {
     "data": {
      "text/plain": [
       "None"
      ]
     },
     "metadata": {},
     "output_type": "display_data"
    }
   ],
   "source": [
    "# Inlezen van het CSV bestand\n",
    "df = pd.read_csv('wisk2SPSSdatafile_def.csv')\n",
    "display(df.describe(), df.info())"
   ]
  },
  {
   "cell_type": "markdown",
   "id": "924556d5",
   "metadata": {},
   "source": [
    "Er is een waarde van de kolom Bloeddrukmedicatie die later kan zorgen voor problemen. Deze kolom wordt eerst verder onderzocht en daarna mogelijk vervangen."
   ]
  },
  {
   "cell_type": "code",
   "execution_count": 3,
   "id": "4a0362ca",
   "metadata": {},
   "outputs": [
    {
     "name": "stdout",
     "output_type": "stream",
     "text": [
      "<class 'str'>\n",
      "0         383\n",
      "1          16\n",
      "#NULL!      1\n",
      "Name: Bloeddrukmedicatie, dtype: int64\n"
     ]
    }
   ],
   "source": [
    "print(type(df['Bloeddrukmedicatie'][0]))\n",
    "print(df['Bloeddrukmedicatie'].value_counts())"
   ]
  },
  {
   "cell_type": "markdown",
   "id": "5e142bd5",
   "metadata": {},
   "source": [
    "Schijnbaar zijn alle waardes in deze kolom strings. Deze worden nu omgezet naar integers om mee te kunnen rekenen indien nodig. Ook voor de kolommen 'Mentale_gezondheid' en 'Persoonlijke_grenzen' kloppen de schalen niet. Dit zal worden aangepast."
   ]
  },
  {
   "cell_type": "code",
   "execution_count": 4,
   "id": "b4aaddc3",
   "metadata": {},
   "outputs": [
    {
     "name": "stdout",
     "output_type": "stream",
     "text": [
      "<class 'pandas.core.frame.DataFrame'>\n",
      "RangeIndex: 400 entries, 0 to 399\n",
      "Data columns (total 39 columns):\n",
      " #   Column                         Non-Null Count  Dtype  \n",
      "---  ------                         --------------  -----  \n",
      " 0   Geslacht                       400 non-null    int64  \n",
      " 1   Leeftijd                       400 non-null    int64  \n",
      " 2   Hoogste_opleiding              400 non-null    int64  \n",
      " 3   Roker                          400 non-null    int64  \n",
      " 4   Sigaretten_per_dag             400 non-null    int64  \n",
      " 5   Bloeddrukmedicatie             400 non-null    int64  \n",
      " 6   Hersenbloeding                 400 non-null    int64  \n",
      " 7   Hoge_bloeddruk                 400 non-null    int64  \n",
      " 8   Suikerziekte                   400 non-null    int64  \n",
      " 9   Cholesterolwaarde              400 non-null    int64  \n",
      " 10  Bloeddruk_systolisch           400 non-null    float64\n",
      " 11  Bloeddruk_diastolisch          400 non-null    float64\n",
      " 12  BMI_waarde                     400 non-null    float64\n",
      " 13  Hartslagen                     400 non-null    int64  \n",
      " 14  Glucosegehalte                 400 non-null    int64  \n",
      " 15  Hoog_hartaanval_risico         400 non-null    int64  \n",
      " 16  Harddruggebruik                400 non-null    int64  \n",
      " 17  Softdruggebruik                400 non-null    int64  \n",
      " 18  Jaarlijks_medische_checkup     400 non-null    int64  \n",
      " 19  Wekelijkse_uren_screentime     400 non-null    int64  \n",
      " 20  Partner                        400 non-null    int64  \n",
      " 21  Gescheiden_ouders              400 non-null    int64  \n",
      " 22  Werkeloos                      400 non-null    int64  \n",
      " 23  Voldoende_dagelijkse_beweging  400 non-null    int64  \n",
      " 24  Fruitconsumptie                400 non-null    int64  \n",
      " 25  Groentenconsumptie             400 non-null    int64  \n",
      " 26  Alcoholconsumptie              400 non-null    int64  \n",
      " 27  Lid_sportclub                  400 non-null    int64  \n",
      " 28  Chronische_ziekte              400 non-null    int64  \n",
      " 29  Fysieke_gezondheid             400 non-null    int64  \n",
      " 30  Mentale_gezondheid             400 non-null    int64  \n",
      " 31  Kinderen                       400 non-null    int64  \n",
      " 32  Autobezit                      400 non-null    int64  \n",
      " 33  Sociaal_functioneren           400 non-null    int64  \n",
      " 34  Empatisch_reageren             400 non-null    int64  \n",
      " 35  Positieve_levenshouding        400 non-null    int64  \n",
      " 36  Mentale_vaardigheden           400 non-null    int64  \n",
      " 37  Leven_in_balans                400 non-null    int64  \n",
      " 38  Persoonlijke_grenzen           400 non-null    int64  \n",
      "dtypes: float64(3), int64(36)\n",
      "memory usage: 122.0 KB\n"
     ]
    },
    {
     "data": {
      "text/html": [
       "<div>\n",
       "<style scoped>\n",
       "    .dataframe tbody tr th:only-of-type {\n",
       "        vertical-align: middle;\n",
       "    }\n",
       "\n",
       "    .dataframe tbody tr th {\n",
       "        vertical-align: top;\n",
       "    }\n",
       "\n",
       "    .dataframe thead th {\n",
       "        text-align: right;\n",
       "    }\n",
       "</style>\n",
       "<table border=\"1\" class=\"dataframe\">\n",
       "  <thead>\n",
       "    <tr style=\"text-align: right;\">\n",
       "      <th></th>\n",
       "      <th>Geslacht</th>\n",
       "      <th>Leeftijd</th>\n",
       "      <th>Hoogste_opleiding</th>\n",
       "      <th>Roker</th>\n",
       "      <th>Sigaretten_per_dag</th>\n",
       "      <th>Bloeddrukmedicatie</th>\n",
       "      <th>Hersenbloeding</th>\n",
       "      <th>Hoge_bloeddruk</th>\n",
       "      <th>Suikerziekte</th>\n",
       "      <th>Cholesterolwaarde</th>\n",
       "      <th>...</th>\n",
       "      <th>Fysieke_gezondheid</th>\n",
       "      <th>Mentale_gezondheid</th>\n",
       "      <th>Kinderen</th>\n",
       "      <th>Autobezit</th>\n",
       "      <th>Sociaal_functioneren</th>\n",
       "      <th>Empatisch_reageren</th>\n",
       "      <th>Positieve_levenshouding</th>\n",
       "      <th>Mentale_vaardigheden</th>\n",
       "      <th>Leven_in_balans</th>\n",
       "      <th>Persoonlijke_grenzen</th>\n",
       "    </tr>\n",
       "  </thead>\n",
       "  <tbody>\n",
       "    <tr>\n",
       "      <th>count</th>\n",
       "      <td>400.000000</td>\n",
       "      <td>400.000000</td>\n",
       "      <td>400.000000</td>\n",
       "      <td>400.000000</td>\n",
       "      <td>400.000000</td>\n",
       "      <td>400.000000</td>\n",
       "      <td>400.0000</td>\n",
       "      <td>400.000000</td>\n",
       "      <td>400.000000</td>\n",
       "      <td>400.000000</td>\n",
       "      <td>...</td>\n",
       "      <td>400.000000</td>\n",
       "      <td>400.000000</td>\n",
       "      <td>400.00000</td>\n",
       "      <td>400.00000</td>\n",
       "      <td>400.000000</td>\n",
       "      <td>400.000000</td>\n",
       "      <td>400.000000</td>\n",
       "      <td>400.000000</td>\n",
       "      <td>400.000000</td>\n",
       "      <td>400.000000</td>\n",
       "    </tr>\n",
       "    <tr>\n",
       "      <th>mean</th>\n",
       "      <td>0.405000</td>\n",
       "      <td>49.600000</td>\n",
       "      <td>1.975000</td>\n",
       "      <td>0.477500</td>\n",
       "      <td>9.490000</td>\n",
       "      <td>0.040000</td>\n",
       "      <td>0.0025</td>\n",
       "      <td>0.300000</td>\n",
       "      <td>0.030000</td>\n",
       "      <td>237.482500</td>\n",
       "      <td>...</td>\n",
       "      <td>2.877500</td>\n",
       "      <td>3.797500</td>\n",
       "      <td>0.29250</td>\n",
       "      <td>0.38750</td>\n",
       "      <td>2.892500</td>\n",
       "      <td>2.597500</td>\n",
       "      <td>3.065000</td>\n",
       "      <td>2.732500</td>\n",
       "      <td>3.092500</td>\n",
       "      <td>2.772500</td>\n",
       "    </tr>\n",
       "    <tr>\n",
       "      <th>std</th>\n",
       "      <td>0.491507</td>\n",
       "      <td>8.881001</td>\n",
       "      <td>1.032978</td>\n",
       "      <td>0.500119</td>\n",
       "      <td>12.724964</td>\n",
       "      <td>0.196205</td>\n",
       "      <td>0.0500</td>\n",
       "      <td>0.458831</td>\n",
       "      <td>0.170801</td>\n",
       "      <td>43.296665</td>\n",
       "      <td>...</td>\n",
       "      <td>1.109311</td>\n",
       "      <td>1.029146</td>\n",
       "      <td>0.45548</td>\n",
       "      <td>0.48779</td>\n",
       "      <td>1.210209</td>\n",
       "      <td>1.154915</td>\n",
       "      <td>1.272723</td>\n",
       "      <td>1.244917</td>\n",
       "      <td>1.306987</td>\n",
       "      <td>1.250862</td>\n",
       "    </tr>\n",
       "    <tr>\n",
       "      <th>min</th>\n",
       "      <td>0.000000</td>\n",
       "      <td>34.000000</td>\n",
       "      <td>1.000000</td>\n",
       "      <td>0.000000</td>\n",
       "      <td>0.000000</td>\n",
       "      <td>0.000000</td>\n",
       "      <td>0.0000</td>\n",
       "      <td>0.000000</td>\n",
       "      <td>0.000000</td>\n",
       "      <td>129.000000</td>\n",
       "      <td>...</td>\n",
       "      <td>1.000000</td>\n",
       "      <td>1.000000</td>\n",
       "      <td>0.00000</td>\n",
       "      <td>0.00000</td>\n",
       "      <td>1.000000</td>\n",
       "      <td>1.000000</td>\n",
       "      <td>1.000000</td>\n",
       "      <td>1.000000</td>\n",
       "      <td>1.000000</td>\n",
       "      <td>1.000000</td>\n",
       "    </tr>\n",
       "    <tr>\n",
       "      <th>25%</th>\n",
       "      <td>0.000000</td>\n",
       "      <td>42.000000</td>\n",
       "      <td>1.000000</td>\n",
       "      <td>0.000000</td>\n",
       "      <td>0.000000</td>\n",
       "      <td>0.000000</td>\n",
       "      <td>0.0000</td>\n",
       "      <td>0.000000</td>\n",
       "      <td>0.000000</td>\n",
       "      <td>207.000000</td>\n",
       "      <td>...</td>\n",
       "      <td>2.000000</td>\n",
       "      <td>3.000000</td>\n",
       "      <td>0.00000</td>\n",
       "      <td>0.00000</td>\n",
       "      <td>2.000000</td>\n",
       "      <td>2.000000</td>\n",
       "      <td>2.000000</td>\n",
       "      <td>2.000000</td>\n",
       "      <td>2.000000</td>\n",
       "      <td>2.000000</td>\n",
       "    </tr>\n",
       "    <tr>\n",
       "      <th>50%</th>\n",
       "      <td>0.000000</td>\n",
       "      <td>49.000000</td>\n",
       "      <td>2.000000</td>\n",
       "      <td>0.000000</td>\n",
       "      <td>0.000000</td>\n",
       "      <td>0.000000</td>\n",
       "      <td>0.0000</td>\n",
       "      <td>0.000000</td>\n",
       "      <td>0.000000</td>\n",
       "      <td>238.000000</td>\n",
       "      <td>...</td>\n",
       "      <td>3.000000</td>\n",
       "      <td>4.000000</td>\n",
       "      <td>0.00000</td>\n",
       "      <td>0.00000</td>\n",
       "      <td>3.000000</td>\n",
       "      <td>3.000000</td>\n",
       "      <td>3.000000</td>\n",
       "      <td>3.000000</td>\n",
       "      <td>3.000000</td>\n",
       "      <td>3.000000</td>\n",
       "    </tr>\n",
       "    <tr>\n",
       "      <th>75%</th>\n",
       "      <td>1.000000</td>\n",
       "      <td>56.000000</td>\n",
       "      <td>3.000000</td>\n",
       "      <td>1.000000</td>\n",
       "      <td>20.000000</td>\n",
       "      <td>0.000000</td>\n",
       "      <td>0.0000</td>\n",
       "      <td>1.000000</td>\n",
       "      <td>0.000000</td>\n",
       "      <td>265.000000</td>\n",
       "      <td>...</td>\n",
       "      <td>4.000000</td>\n",
       "      <td>5.000000</td>\n",
       "      <td>1.00000</td>\n",
       "      <td>1.00000</td>\n",
       "      <td>4.000000</td>\n",
       "      <td>3.000000</td>\n",
       "      <td>4.000000</td>\n",
       "      <td>4.000000</td>\n",
       "      <td>4.000000</td>\n",
       "      <td>4.000000</td>\n",
       "    </tr>\n",
       "    <tr>\n",
       "      <th>max</th>\n",
       "      <td>1.000000</td>\n",
       "      <td>68.000000</td>\n",
       "      <td>4.000000</td>\n",
       "      <td>1.000000</td>\n",
       "      <td>60.000000</td>\n",
       "      <td>1.000000</td>\n",
       "      <td>1.0000</td>\n",
       "      <td>1.000000</td>\n",
       "      <td>1.000000</td>\n",
       "      <td>464.000000</td>\n",
       "      <td>...</td>\n",
       "      <td>5.000000</td>\n",
       "      <td>5.000000</td>\n",
       "      <td>1.00000</td>\n",
       "      <td>1.00000</td>\n",
       "      <td>5.000000</td>\n",
       "      <td>5.000000</td>\n",
       "      <td>5.000000</td>\n",
       "      <td>5.000000</td>\n",
       "      <td>5.000000</td>\n",
       "      <td>5.000000</td>\n",
       "    </tr>\n",
       "  </tbody>\n",
       "</table>\n",
       "<p>8 rows × 39 columns</p>\n",
       "</div>"
      ],
      "text/plain": [
       "         Geslacht    Leeftijd  Hoogste_opleiding       Roker  \\\n",
       "count  400.000000  400.000000         400.000000  400.000000   \n",
       "mean     0.405000   49.600000           1.975000    0.477500   \n",
       "std      0.491507    8.881001           1.032978    0.500119   \n",
       "min      0.000000   34.000000           1.000000    0.000000   \n",
       "25%      0.000000   42.000000           1.000000    0.000000   \n",
       "50%      0.000000   49.000000           2.000000    0.000000   \n",
       "75%      1.000000   56.000000           3.000000    1.000000   \n",
       "max      1.000000   68.000000           4.000000    1.000000   \n",
       "\n",
       "       Sigaretten_per_dag  Bloeddrukmedicatie  Hersenbloeding  Hoge_bloeddruk  \\\n",
       "count          400.000000          400.000000        400.0000      400.000000   \n",
       "mean             9.490000            0.040000          0.0025        0.300000   \n",
       "std             12.724964            0.196205          0.0500        0.458831   \n",
       "min              0.000000            0.000000          0.0000        0.000000   \n",
       "25%              0.000000            0.000000          0.0000        0.000000   \n",
       "50%              0.000000            0.000000          0.0000        0.000000   \n",
       "75%             20.000000            0.000000          0.0000        1.000000   \n",
       "max             60.000000            1.000000          1.0000        1.000000   \n",
       "\n",
       "       Suikerziekte  Cholesterolwaarde  ...  Fysieke_gezondheid  \\\n",
       "count    400.000000         400.000000  ...          400.000000   \n",
       "mean       0.030000         237.482500  ...            2.877500   \n",
       "std        0.170801          43.296665  ...            1.109311   \n",
       "min        0.000000         129.000000  ...            1.000000   \n",
       "25%        0.000000         207.000000  ...            2.000000   \n",
       "50%        0.000000         238.000000  ...            3.000000   \n",
       "75%        0.000000         265.000000  ...            4.000000   \n",
       "max        1.000000         464.000000  ...            5.000000   \n",
       "\n",
       "       Mentale_gezondheid   Kinderen  Autobezit  Sociaal_functioneren  \\\n",
       "count          400.000000  400.00000  400.00000            400.000000   \n",
       "mean             3.797500    0.29250    0.38750              2.892500   \n",
       "std              1.029146    0.45548    0.48779              1.210209   \n",
       "min              1.000000    0.00000    0.00000              1.000000   \n",
       "25%              3.000000    0.00000    0.00000              2.000000   \n",
       "50%              4.000000    0.00000    0.00000              3.000000   \n",
       "75%              5.000000    1.00000    1.00000              4.000000   \n",
       "max              5.000000    1.00000    1.00000              5.000000   \n",
       "\n",
       "       Empatisch_reageren  Positieve_levenshouding  Mentale_vaardigheden  \\\n",
       "count          400.000000               400.000000            400.000000   \n",
       "mean             2.597500                 3.065000              2.732500   \n",
       "std              1.154915                 1.272723              1.244917   \n",
       "min              1.000000                 1.000000              1.000000   \n",
       "25%              2.000000                 2.000000              2.000000   \n",
       "50%              3.000000                 3.000000              3.000000   \n",
       "75%              3.000000                 4.000000              4.000000   \n",
       "max              5.000000                 5.000000              5.000000   \n",
       "\n",
       "       Leven_in_balans  Persoonlijke_grenzen  \n",
       "count       400.000000            400.000000  \n",
       "mean          3.092500              2.772500  \n",
       "std           1.306987              1.250862  \n",
       "min           1.000000              1.000000  \n",
       "25%           2.000000              2.000000  \n",
       "50%           3.000000              3.000000  \n",
       "75%           4.000000              4.000000  \n",
       "max           5.000000              5.000000  \n",
       "\n",
       "[8 rows x 39 columns]"
      ]
     },
     "metadata": {},
     "output_type": "display_data"
    },
    {
     "data": {
      "text/plain": [
       "None"
      ]
     },
     "metadata": {},
     "output_type": "display_data"
    }
   ],
   "source": [
    "# Vervangen van #NULL! en verkeerde waardes\n",
    "df.Bloeddrukmedicatie.replace(('#NULL!', '0', '1'), (0, 0, 1), inplace=True)\n",
    "df.Mentale_gezondheid.replace((2, 3, 4, 5, 6), (1, 2, 3, 4, 5), inplace=True)\n",
    "df.Persoonlijke_grenzen.replace(0, 1, inplace=True)\n",
    "\n",
    "# Opnieuw tonen van .describe() en .info()\n",
    "display(df.describe(), df.info())"
   ]
  },
  {
   "cell_type": "markdown",
   "id": "86d04de5",
   "metadata": {},
   "source": [
    "[Terug naar het begin](#begin)"
   ]
  },
  {
   "cell_type": "markdown",
   "id": "b54557e0",
   "metadata": {},
   "source": [
    "--------------------"
   ]
  },
  {
   "cell_type": "markdown",
   "id": "5bab1b6e",
   "metadata": {},
   "source": [
    "# De class, WisHelper <a name='WisHelper'></a>"
   ]
  },
  {
   "cell_type": "markdown",
   "id": "8bf98359",
   "metadata": {},
   "source": [
    "Om te helpen met code die vaker voor komt in het notebook word er gebruik gemaakt van OOP. De class die daarmee is ontstaan is WisHelper, hiervan is de code en de uitleg in de onderstaande cel verwerkt."
   ]
  },
  {
   "cell_type": "code",
   "execution_count": 5,
   "id": "1dfc5e8e",
   "metadata": {},
   "outputs": [],
   "source": [
    "class WisHelper:\n",
    "    \"\"\"\n",
    "    Een class voor dit wiskunde portfolio\n",
    "\n",
    "    Attributes:\n",
    "    --------------------\n",
    "    df : pandas.DataFrame\n",
    "        Het dataframe waarop je de code toepast\n",
    "\n",
    "    Methods:\n",
    "    --------------------\n",
    "    def verdeling_d(self, column, dictionary):\n",
    "        Deze methode bekijkt de verdeling van\n",
    "        een nominale of ordinale variabele.\n",
    "    \n",
    "    def verdeling_c(self, column, th=0.5)\n",
    "        Deze methode bekijkt de scheefheid van de\n",
    "        data in een gegeven kolom\n",
    "    \n",
    "    def corr(self, corr_type, col1, col2):\n",
    "        Deze methode berekent de correlatie via de\n",
    "        methode van spearman, pearson of kendall voor\n",
    "        2 gegeven kolommen.\n",
    "    \n",
    "    def one_sample_t(self, col, mu, alpha=0.05):\n",
    "        Berekent de p-waarde aan de hand van\n",
    "        een one-sample t-test. Deze p-waarde toont\n",
    "        of de nulhypothese verworpen kan worden, \n",
    "        door deze te vergelijken met de alpha\n",
    "\n",
    "    def b_interval(self, alpha, mu, sigma, n):\n",
    "        Berekent het betrouwbaarheids interval op basis\n",
    "        van de alpha, mu, sigma en n waardes.\n",
    "    \"\"\"\n",
    "\n",
    "    def __init__(self, df):\n",
    "        \"\"\"\n",
    "        De constructor, maakt een dataframe aan\n",
    "        binnen de class\n",
    "        \n",
    "        Parameters:\n",
    "        --------------------\n",
    "        self :\n",
    "            De instantie van de class\n",
    "        \n",
    "        df : pandas.DataFrame\n",
    "            Het dataframe waarop je de code toepast\n",
    "        \"\"\"\n",
    "\n",
    "        self.data = df\n",
    "        self.dfstat = pd.DataFrame({\n",
    "            'Mode': df.mode().iloc[0],\n",
    "            'Median': df.median(),\n",
    "            'IQR': df.quantile(0.75) - df.quantile(0.25),\n",
    "            'Mean': df.mean(),\n",
    "            'Std': df.std()\n",
    "        })\n",
    "        self.dfstat.columns = ['Mode', 'Median', 'IQR', 'Mean', 'Std']\n",
    "        self.dfstat.index = df.columns\n",
    "\n",
    "    def verdeling_d(self, column, dictionary=None):\n",
    "        \"\"\"\n",
    "        Deze methode bekijkt de verdelingvan\n",
    "        een nominale of ordinale variabele.\n",
    "\n",
    "        Parameters:\n",
    "        --------------------\n",
    "        self :\n",
    "            De instantie van de class\n",
    "\n",
    "        column : str\n",
    "            De kolom die wordt bekeken\n",
    "            \n",
    "        dictionary : dict\n",
    "            Een dictionary met de keys als\n",
    "            nummers voor x-ticks en de values\n",
    "            als de nieuwe labels\n",
    "        \"\"\"\n",
    "        \n",
    "        # Visualiseren van de verdeling\n",
    "        plt.figure(figsize=(8, 6))\n",
    "        sns.countplot(data=self.data, x=column)\n",
    "        plt.xlabel(f'{column}')\n",
    "        plt.ylabel('Aantal waarnemingen')\n",
    "        if dictionary != None:\n",
    "            plt.xticks(list(dictionary.keys()), list(dictionary.values()))\n",
    "        plt.title(f'Verdeling van {column}')\n",
    "        plt.show()\n",
    "\n",
    "    def verdeling_c(self, column, th=0.5):\n",
    "        \"\"\"\n",
    "        Deze methode bekijkt de scheefheid van de\n",
    "        data in een gegeven kolom. Deze kolom heeft\n",
    "        een continue waarde.\n",
    "\n",
    "        Parameters:\n",
    "        --------------------\n",
    "        self :\n",
    "            De instantie van de class\n",
    "\n",
    "        column : str\n",
    "            De kolom die wordt bekeken\n",
    "            \n",
    "        th : float (default = 0.5)\n",
    "            De grenswaarde waarmee gekeken wordt\n",
    "            of een kolom scheef of normaal is verdeeld\n",
    "        \"\"\"\n",
    "        \n",
    "        # Bepalen van de scheefheid\n",
    "        skewness = self.data[column].skew()\n",
    "\n",
    "         # If-statement voor de verdelings-type\n",
    "        if abs(skewness) <= th:\n",
    "            skewness_type = \"Normaal-verdeeld\"\n",
    "        elif skewness > 0:\n",
    "            skewness_type = \"Rechts-scheef\"\n",
    "        else:\n",
    "            skewness_type = \"Links-scheef\"\n",
    "\n",
    "        # Printen van de skewness\n",
    "        print(f\"Skewness type: {skewness_type}\")\n",
    "        print(f\"Skewness waarde: {skewness}\")\n",
    "\n",
    "        # Visualiseren van de verdeling\n",
    "        plt.figure(figsize=(8, 6))\n",
    "        sns.histplot(self.data[column], kde=True)\n",
    "        plt.xlabel(f\"Waardes van {column}\")\n",
    "        plt.ylabel(\"Frequentie\")\n",
    "        plt.title(f\"Verdeling van {column}\")\n",
    "        plt.show()\n",
    "        \n",
    "    def corr(self, corr_type, col1, col2):\n",
    "        \"\"\"\n",
    "        Deze methode berekent de correlatie via de\n",
    "        methode van spearman, pearson of kendall voor\n",
    "        2 gegeven kolommen.\n",
    "        \n",
    "        Parameters:\n",
    "        --------------------\n",
    "        self :\n",
    "            De instantie van de class\n",
    "        \n",
    "        corr_type : str\n",
    "            De type correlatie die wordt berekent. Er is\n",
    "            keuze uit spearman, pearson of kendall\n",
    "            \n",
    "        col1 : str\n",
    "            De naam van kolom A\n",
    "            \n",
    "        col2 : str\n",
    "            De naam van kolom B\n",
    "        \"\"\"\n",
    "        \n",
    "        # Als corr_type spearman is, bereken spearmans r\n",
    "        if corr_type == 'spearman':\n",
    "            spearman_correlation, p_value = stats.spearmanr(self.data[col1], self.data[col2])\n",
    "            print(f\"Spearman correlatie tussen {col1} en {col2}: {spearman_correlation}\\nP-waarde: {p_value}\")\n",
    "            \n",
    "        # Als corr_type pearson is, bereken pearsons r\n",
    "        elif corr_type == 'pearson':\n",
    "            pearson_correlation, p_value = stats.pearsonr(self.data[col1], self.data[col2])\n",
    "            print(f\"Pearson correlatie tussen {col1} en {col2}: {pearson_correlation}\\nP-waarde: {p_value}\")\n",
    "            \n",
    "        # Als corr_type kendall is, bereken kendalls tau\n",
    "        elif corr_type == 'kendall':\n",
    "            kendall_correlation, p_value = stats.kendalltau(self.data[col1], self.data[col2])\n",
    "            print(f\"Kendall correlatie tussen {col1} en {col2}: {kendall_correlation}\\nP-waarde: {p_value}\")\n",
    "            \n",
    "        else:\n",
    "            raise ValueError(f\"De waarde {corr_type} kan niet worden gebruikt, u kan kiezen uit: spearman, pearson of kendall\")\n",
    "        \n",
    "    def one_sample_t(self, col, mu, alpha=0.05):\n",
    "        \"\"\"\n",
    "        Berekent de p-waarde aan de hand van\n",
    "        een one-sample t-test. Deze p-waarde toont\n",
    "        of de nulhypothese verworpen kan worden, \n",
    "        door deze te vergelijken met de alpha\n",
    "        \n",
    "        Parameters:\n",
    "        --------------------\n",
    "        self :\n",
    "            De instantie van de class\n",
    "        \n",
    "        col : str\n",
    "            Een kolom uit de dataset die als sample\n",
    "            wordt genomen\n",
    "            \n",
    "        mu : int or float\n",
    "            Het populatiegemiddelde\n",
    "            \n",
    "        alpha : float (default = 0.05)\n",
    "            De grenswaarde waarop gebaseerd wordt\n",
    "            of de p-waarde de nulhypothese verwerpt\n",
    "        \"\"\"\n",
    "        \n",
    "        # Bepaal de p_waarde\n",
    "        t_waarde, p_waarde = stats.ttest_1samp(self.data[col], mu)\n",
    "\n",
    "        # Bekijk de resultaten\n",
    "        if p_waarde < alpha:\n",
    "            print('De nulhypothese wordt verworpen omdat de '\n",
    "                    f'P-waarde {p_waarde} kleiner is dan alpha {alpha}')\n",
    "        else:\n",
    "            print('De nulhypothese wordt behouden omdat de '\n",
    "                    f'P-waarde {p_waarde} groter is dan alpha {alpha}')\n",
    "    \n",
    "    def b_interval(self, alpha, X, s, n):\n",
    "        \"\"\"\n",
    "        Berekent het betrouwbaarheids interval op basis\n",
    "        van de alpha, mu, sigma en n waardes.\n",
    "        \n",
    "        Parameters:\n",
    "        --------------------\n",
    "        self :\n",
    "            De instantie van de class\n",
    "            \n",
    "        alpha : float\n",
    "            De waarde van alpha, bijv 0.05 of 0.1\n",
    "        \n",
    "        X : int or float\n",
    "            Het gemiddelde van de steekproef\n",
    "            \n",
    "        s : int or float\n",
    "            De standaard deviatie van de steekproef\n",
    "        \n",
    "        n : int\n",
    "            Het aantal waarnemingen van de steekproef\n",
    "        \"\"\"\n",
    "        # Berekenen van alpha en t\n",
    "        a_value = 1 - (alpha / 2)\n",
    "        t_crit = stats.t.ppf(a_value, df=n-1)\n",
    "        \n",
    "        # Bereken het betrouwbaarheidsinterval\n",
    "        l_range = X - t_crit * (s / np.sqrt(n))\n",
    "        u_range = X + t_crit * (s / np.sqrt(n))\n",
    "\n",
    "        # Print de resultaten\n",
    "        print(f\"Betrouwbaarheidsinterval bij alpha {alpha}: [{l_range}, {u_range}]\")"
   ]
  },
  {
   "cell_type": "markdown",
   "id": "63b0edd3",
   "metadata": {},
   "source": [
    "De class wordt meteen aangeroepen, omdat er maar van 1 dataframe gebruik wordt gemaakt."
   ]
  },
  {
   "cell_type": "code",
   "execution_count": 6,
   "id": "3b52cf58",
   "metadata": {},
   "outputs": [
    {
     "data": {
      "text/html": [
       "<div>\n",
       "<style scoped>\n",
       "    .dataframe tbody tr th:only-of-type {\n",
       "        vertical-align: middle;\n",
       "    }\n",
       "\n",
       "    .dataframe tbody tr th {\n",
       "        vertical-align: top;\n",
       "    }\n",
       "\n",
       "    .dataframe thead th {\n",
       "        text-align: right;\n",
       "    }\n",
       "</style>\n",
       "<table border=\"1\" class=\"dataframe\">\n",
       "  <thead>\n",
       "    <tr style=\"text-align: right;\">\n",
       "      <th></th>\n",
       "      <th>Mode</th>\n",
       "      <th>Median</th>\n",
       "      <th>IQR</th>\n",
       "      <th>Mean</th>\n",
       "      <th>Std</th>\n",
       "    </tr>\n",
       "  </thead>\n",
       "  <tbody>\n",
       "    <tr>\n",
       "      <th>Geslacht</th>\n",
       "      <td>0.0</td>\n",
       "      <td>0.0</td>\n",
       "      <td>1.0</td>\n",
       "      <td>0.4050</td>\n",
       "      <td>0.491507</td>\n",
       "    </tr>\n",
       "    <tr>\n",
       "      <th>Leeftijd</th>\n",
       "      <td>39.0</td>\n",
       "      <td>49.0</td>\n",
       "      <td>14.0</td>\n",
       "      <td>49.6000</td>\n",
       "      <td>8.881001</td>\n",
       "    </tr>\n",
       "    <tr>\n",
       "      <th>Hoogste_opleiding</th>\n",
       "      <td>1.0</td>\n",
       "      <td>2.0</td>\n",
       "      <td>2.0</td>\n",
       "      <td>1.9750</td>\n",
       "      <td>1.032978</td>\n",
       "    </tr>\n",
       "    <tr>\n",
       "      <th>Roker</th>\n",
       "      <td>0.0</td>\n",
       "      <td>0.0</td>\n",
       "      <td>1.0</td>\n",
       "      <td>0.4775</td>\n",
       "      <td>0.500119</td>\n",
       "    </tr>\n",
       "    <tr>\n",
       "      <th>Sigaretten_per_dag</th>\n",
       "      <td>0.0</td>\n",
       "      <td>0.0</td>\n",
       "      <td>20.0</td>\n",
       "      <td>9.4900</td>\n",
       "      <td>12.724964</td>\n",
       "    </tr>\n",
       "  </tbody>\n",
       "</table>\n",
       "</div>"
      ],
      "text/plain": [
       "                    Mode  Median   IQR     Mean        Std\n",
       "Geslacht             0.0     0.0   1.0   0.4050   0.491507\n",
       "Leeftijd            39.0    49.0  14.0  49.6000   8.881001\n",
       "Hoogste_opleiding    1.0     2.0   2.0   1.9750   1.032978\n",
       "Roker                0.0     0.0   1.0   0.4775   0.500119\n",
       "Sigaretten_per_dag   0.0     0.0  20.0   9.4900  12.724964"
      ]
     },
     "execution_count": 6,
     "metadata": {},
     "output_type": "execute_result"
    }
   ],
   "source": [
    "# Aanroepen van class onder naam math\n",
    "math = WisHelper(df)\n",
    "math.dfstat.head()"
   ]
  },
  {
   "cell_type": "markdown",
   "id": "d43c074f",
   "metadata": {},
   "source": [
    "[Terug naar het begin](#begin)"
   ]
  },
  {
   "cell_type": "markdown",
   "id": "3df6c65d",
   "metadata": {},
   "source": [
    "--------------------"
   ]
  },
  {
   "cell_type": "markdown",
   "id": "f370d3b2",
   "metadata": {},
   "source": [
    "# Deel A: <a name = 'deela'></a>\n",
    "\n",
    "Om te beginnen moeten er 5 kolommen worden gekozen, deze kolommen moeten alle verschillende meetniveau's bevatten. Er is gekozen voor de volgende 5 kolommen: Geslacht, Leeftijd, Hoogste_opleiding, BMI_waarde en Werkeloos."
   ]
  },
  {
   "cell_type": "code",
   "execution_count": 7,
   "id": "38dcb611",
   "metadata": {
    "scrolled": true
   },
   "outputs": [
    {
     "data": {
      "text/html": [
       "<div>\n",
       "<style scoped>\n",
       "    .dataframe tbody tr th:only-of-type {\n",
       "        vertical-align: middle;\n",
       "    }\n",
       "\n",
       "    .dataframe tbody tr th {\n",
       "        vertical-align: top;\n",
       "    }\n",
       "\n",
       "    .dataframe thead th {\n",
       "        text-align: right;\n",
       "    }\n",
       "</style>\n",
       "<table border=\"1\" class=\"dataframe\">\n",
       "  <thead>\n",
       "    <tr style=\"text-align: right;\">\n",
       "      <th></th>\n",
       "      <th>Geslacht</th>\n",
       "      <th>Leeftijd</th>\n",
       "      <th>Hoogste_opleiding</th>\n",
       "      <th>BMI_waarde</th>\n",
       "      <th>Werkeloos</th>\n",
       "    </tr>\n",
       "  </thead>\n",
       "  <tbody>\n",
       "    <tr>\n",
       "      <th>0</th>\n",
       "      <td>1</td>\n",
       "      <td>39</td>\n",
       "      <td>4</td>\n",
       "      <td>26.97</td>\n",
       "      <td>0</td>\n",
       "    </tr>\n",
       "    <tr>\n",
       "      <th>1</th>\n",
       "      <td>0</td>\n",
       "      <td>46</td>\n",
       "      <td>2</td>\n",
       "      <td>28.73</td>\n",
       "      <td>0</td>\n",
       "    </tr>\n",
       "    <tr>\n",
       "      <th>2</th>\n",
       "      <td>1</td>\n",
       "      <td>48</td>\n",
       "      <td>1</td>\n",
       "      <td>25.34</td>\n",
       "      <td>0</td>\n",
       "    </tr>\n",
       "    <tr>\n",
       "      <th>3</th>\n",
       "      <td>0</td>\n",
       "      <td>61</td>\n",
       "      <td>3</td>\n",
       "      <td>28.58</td>\n",
       "      <td>0</td>\n",
       "    </tr>\n",
       "    <tr>\n",
       "      <th>4</th>\n",
       "      <td>0</td>\n",
       "      <td>46</td>\n",
       "      <td>3</td>\n",
       "      <td>23.10</td>\n",
       "      <td>0</td>\n",
       "    </tr>\n",
       "  </tbody>\n",
       "</table>\n",
       "</div>"
      ],
      "text/plain": [
       "   Geslacht  Leeftijd  Hoogste_opleiding  BMI_waarde  Werkeloos\n",
       "0         1        39                  4       26.97          0\n",
       "1         0        46                  2       28.73          0\n",
       "2         1        48                  1       25.34          0\n",
       "3         0        61                  3       28.58          0\n",
       "4         0        46                  3       23.10          0"
      ]
     },
     "metadata": {},
     "output_type": "display_data"
    }
   ],
   "source": [
    "# Tonen van de eerste 5 rijen van de 5 gekozen kolommen\n",
    "display(df[['Geslacht', 'Leeftijd', 'Hoogste_opleiding',\n",
    "            'BMI_waarde', 'Werkeloos']].head())"
   ]
  },
  {
   "cell_type": "markdown",
   "id": "5bf705d9",
   "metadata": {},
   "source": [
    "[Terug naar het begin](#begin)"
   ]
  },
  {
   "cell_type": "markdown",
   "id": "c111c717",
   "metadata": {},
   "source": [
    "--------------------"
   ]
  },
  {
   "cell_type": "markdown",
   "id": "56ddc752",
   "metadata": {},
   "source": [
    "## Analyse van 5 kolommen <a name='analys'></a>\n",
    "\n",
    "Om te kijken waarmee er gewerkt gaat worden, zal er eerst gekeken worden naar de eerste 5 regels van de dataset. Op basis daarvan worden de eerste keuzes voor de kengetallen en meetniveau's gemaakt."
   ]
  },
  {
   "cell_type": "markdown",
   "id": "67bad306",
   "metadata": {},
   "source": [
    "### Geslacht <a name='geslacht'></a>\n",
    "Het geslacht bevindt zich op het nominale meetniveau, voor deze reden zal de modus gebruikt worden als kengetal. Om op een duidelijke manier met deze waarde om te kunnen gaan in python, zijn de waardes omgezet naar het volgende: {0 : man, 1 : vrouw}.\n",
    "\n",
    "De modus van de eerste 5 regels is 0, er zijn namelijk 3 nullen en 2 énen. Dit geeft aan, op basis van de eerste 5 regels, dat de meest voorkomende geslacht man is.\n",
    "\n",
    "Omdat bij de kolom 'Geslacht' sprake is van een nominale waarde met 2 mogelijke opties, is er gekozen voor een staafdiagram. Op deze manier is het makkelijk te zien hoe de verdeling in elkaar zit. Ook is het verschil tussen de waarde 'man' en 'vrouw' op deze manier het makkelijkst te tonen. Deze grafiek wordt gemaakt door gebruik te maken van de classe WisHelper en haar methode verdeling_d."
   ]
  },
  {
   "cell_type": "code",
   "execution_count": 8,
   "id": "e3fbfabf",
   "metadata": {},
   "outputs": [
    {
     "data": {
      "image/png": "[encoded data removed]",
      "text/plain": [
       "<Figure size 576x432 with 1 Axes>"
      ]
     },
     "metadata": {},
     "output_type": "display_data"
    }
   ],
   "source": [
    "# Maken dictionary voor x_ticks\n",
    "ticks_geslacht = {0:'Man', 1:'Vrouw'}\n",
    "\n",
    "# Gebruik van math.verdeling_d\n",
    "math.verdeling_d('Geslacht', ticks_geslacht)"
   ]
  },
  {
   "cell_type": "markdown",
   "id": "0180f524",
   "metadata": {},
   "source": [
    "Het geslacht heeft in deze dataset 2 verschillende waardes, mannelijk en vrouwelijk. Deze waarde kennen geen numerieke schaal of volgorde. Het ene geslacht is namelijk niet beter dan het andere.\n",
    "\n",
    "Het kengetal dat het beste past bij elke nominale waarde is de modus, dit is omdat er voor de andere kengetallen gebruik gemaakt moet worden van volgorde of duidelijke numerieke waarden. Voor nominale waarden is het daarom dus makkelijker om te kijken naar de frequentie en de modus."
   ]
  },
  {
   "cell_type": "code",
   "execution_count": 9,
   "id": "c9f65eee",
   "metadata": {
    "scrolled": false
   },
   "outputs": [
    {
     "name": "stdout",
     "output_type": "stream",
     "text": [
      "0    238\n",
      "1    162\n",
      "Name: Geslacht, dtype: int64\n"
     ]
    }
   ],
   "source": [
    "# Tonen van de frequentie\n",
    "print(df['Geslacht'].value_counts())"
   ]
  },
  {
   "cell_type": "markdown",
   "id": "92a04243",
   "metadata": {},
   "source": [
    "Bij het bekijken van de frequentie is er te zien dat de waarde 0 (= man) vaker gezien is dan de waarde 1 (= vrouw). Aangezien het totaal aantal rijen van deze dataset 400 is, geeft de frequentie weer dat ongeveer 60% van de mensen een man is. Dit geeft ook meteen het meest voorkomende geslacht in de dataset aan."
   ]
  },
  {
   "cell_type": "markdown",
   "id": "57edac02",
   "metadata": {},
   "source": [
    "[Terug naar het begin](#begin)"
   ]
  },
  {
   "cell_type": "markdown",
   "id": "9bc69341",
   "metadata": {},
   "source": [
    "--------------------"
   ]
  },
  {
   "cell_type": "markdown",
   "id": "aeaebc4b",
   "metadata": {},
   "source": [
    "### Hoogste opleiding <a name='hopl'></a>\n",
    "De hoogst behaalde opleiding bevindt zich op het ordinale meetniveau, daarom zal de mediaan gebruikt worden. Het verschil tussen een variabel als geslacht en deze is dat de hoogste opleiding wel een volgorde kent. Door deze volgorde is het een ordinaal meetniveau, aangezien de betreffende waardes zelf geen getallen zijn. Ook hierbij zijn de waardes weer omgezet naar getallen, deze betreffen: {1 : Middelbare School, 2 : MBO, 3 : HBO, 4 : Universiteit}. Deze waardes gaan in niveau omhoog, op dezelfde waarde als de getallen die er aan zijn toegewezen, 1 is het laagste niveau en 4 is het hoogste niveau.\n",
    "\n",
    "De mediaan van deze 5 regels is 3, het HBO. Dit is bepaald door de kennis dat de mediaan het middelste getal is in een reeks. De reeks voor deze eerste 5 regels is {1, 2, 3, 3, 4}. Omdat het een oneven aantal is kan er voor het middelste getal worden gekozen. Bij de mediaan hoort ook de IQR, deze waarde wordt als volgt berekent:\n",
    "``` \n",
    "Eerst bepalen we Q1 en Q3. Q1 heeft een waarde van 1.5, de mediaan van {1, 2}. Q3 heeft een waarde van 3.5, de mediaan van {3, 4}. Om de IQR te bepalen halen we Q1 van Q3 af. Dit geeft ons Q3 - Q1 = IQR, dit leidt tot 3.5 - 1.5 = 2.\n",
    "```\n",
    "\n",
    "Ook voor de hoogste opleiding zal gebruik worden gemaakt van een staafdiagram. Deze variabele heeft ook meerdere categorieën en in een staafdiagram kan duidelijk de frequentie van een staafdiagram worden getoond. Deze waardes zullen ook van 1 naar 4 genummerd staan in de grafiek. Deze grafiek wordt gemaakt door gebruik te maken van de classe WisHelper en haar methode verdeling_d."
   ]
  },
  {
   "cell_type": "code",
   "execution_count": 10,
   "id": "6545e2af",
   "metadata": {},
   "outputs": [
    {
     "data": {
      "image/png": "[encoded data removed]",
      "text/plain": [
       "<Figure size 576x432 with 1 Axes>"
      ]
     },
     "metadata": {},
     "output_type": "display_data"
    }
   ],
   "source": [
    "# Maken dictionary voor x_ticks\n",
    "ticks_opleiding = {0:'Middelbare school', 1:'MBO', 2:'HBO', 3:'Universiteit'}\n",
    "\n",
    "# Gebruik van math.verdeling_d\n",
    "math.verdeling_d('Hoogste_opleiding', ticks_opleiding)"
   ]
  },
  {
   "cell_type": "markdown",
   "id": "d55859ee",
   "metadata": {},
   "source": [
    "Bij een ordinaal meetniveau word altijd gekeken naar de mediaan. Hoewel de modus ook een mogelijkheid zou zijn, is deze waarde vaak niet geschikt als kengetal bij ordinale variabelen. De modus kan namelijk zal namelijk het meest voorkomende niveau geven, in plaats van dat de mediaan het middelste niveau weergeeft."
   ]
  },
  {
   "cell_type": "code",
   "execution_count": 11,
   "id": "32983061",
   "metadata": {},
   "outputs": [
    {
     "name": "stdout",
     "output_type": "stream",
     "text": [
      "2.0\n"
     ]
    }
   ],
   "source": [
    "print(math.dfstat.Median.Hoogste_opleiding)"
   ]
  },
  {
   "cell_type": "markdown",
   "id": "6ac076e6",
   "metadata": {},
   "source": [
    "De mediaan geeft als waarde 2 terug, dit geeft aan dat het middelste niveau van de personen in de dataset het MBO is. Als de mediaan wordt bepaalt geeft dat ook opening om te kijken naar de spreiding, om een duidelijker beeld te schetsten. Hiervoor wordt De IQR, Inter Quartile Range, gebruikt. Dit kan op de volgende manier:"
   ]
  },
  {
   "cell_type": "code",
   "execution_count": 12,
   "id": "6a73b8a0",
   "metadata": {},
   "outputs": [
    {
     "name": "stdout",
     "output_type": "stream",
     "text": [
      "2.0\n"
     ]
    }
   ],
   "source": [
    "print(math.dfstat.IQR.Hoogste_opleiding)"
   ]
  },
  {
   "cell_type": "markdown",
   "id": "617b2ea1",
   "metadata": {},
   "source": [
    "Zoals te zien is aan de getoonde berekening, is de q1 waarde 1 (= Middelbare School) en de q3 waarde is 3 (= HBO). Dit geeft aan dat op de afstand tussen de zones van 25% en 75% van de data 2 niveaus groot is."
   ]
  },
  {
   "cell_type": "markdown",
   "id": "ff32954e",
   "metadata": {},
   "source": [
    "[Terug naar het begin](#begin)"
   ]
  },
  {
   "cell_type": "markdown",
   "id": "e77450a4",
   "metadata": {},
   "source": [
    "--------------------"
   ]
  },
  {
   "cell_type": "markdown",
   "id": "8ebb8902",
   "metadata": {},
   "source": [
    "### Leeftijd <a name='age'></a>\n",
    "\n",
    "Leeftijd bevindt zich op het meetniveau ratio. Ten opzichte van een interval, nemen wij de waarde leeftijd aan met de geboorte als absoluut nulpunt. Daardoor is er een keuze tussen het gemiddelde en de mediaan. Wegens de hoeveelheid data en kennis beschikbaar is er gekozen voor de mediaan. Leeftijd kan namelijk erg breedt zijn, ook in de eerste 5 regels is dit te zien. De hoogste waarde is 61 en de laagste waarde is 39. De mediaan van de leeftijd is 46, het middelste getal van de getallenreeks {39, 46, 46, 48, 61}. Ook hier moet de IQR weer worden berekent:\n",
    "```\n",
    "Q1 is 43, het midden van {39, 46} en Q3 is 54, het midden van {48, 61}. De IQR is dan weer Q3 - Q1 = IQR, dus 54 - 43 = 11\n",
    "```\n",
    "\n",
    "Voor de variabele Leeftijd in de gehele dataset, kunnen we een geschikte grafiek maken om de verdeling van leeftijden te visualiseren. Aangezien Leeftijd een numerieke variabele is, kunnen we een histogram gebruiken om de frequentie of het aantal waarnemingen in verschillende leeftijdsgroepen weer te geven. Deze grafiek wordt gemaakt door gebruik te maken van de classe WisHelper en haar methode verdeling_c."
   ]
  },
  {
   "cell_type": "code",
   "execution_count": 13,
   "id": "87d43417",
   "metadata": {},
   "outputs": [
    {
     "name": "stdout",
     "output_type": "stream",
     "text": [
      "Skewness type: Normaal-verdeeld\n",
      "Skewness waarde: 0.23538475436743705\n"
     ]
    },
    {
     "data": {
      "image/png": "[encoded data removed]",
      "text/plain": [
       "<Figure size 576x432 with 1 Axes>"
      ]
     },
     "metadata": {},
     "output_type": "display_data"
    }
   ],
   "source": [
    "# Toepassen math.verdeling_c\n",
    "math.verdeling_c('Leeftijd')"
   ]
  },
  {
   "cell_type": "markdown",
   "id": "7482d447",
   "metadata": {},
   "source": [
    "Voor numerieke waardes van interval of ratio niveau is een keuze tussen de mediaan of het gemiddelde als kengetal belangrijk. Voor de leeftijd is gekozen om de mediaan te nemen. Deze waarde is gekozen omdat de verdeling meerdere pieken heeft rond bepaalde leeftijdsgroeperingen, hierdoor is het lastig te zeggen of de data goed normaal verdeeld is."
   ]
  },
  {
   "cell_type": "code",
   "execution_count": 14,
   "id": "ecb6ca46",
   "metadata": {},
   "outputs": [
    {
     "name": "stdout",
     "output_type": "stream",
     "text": [
      "49.0\n"
     ]
    }
   ],
   "source": [
    "print(math.dfstat.Median.Leeftijd)"
   ]
  },
  {
   "cell_type": "markdown",
   "id": "e455a733",
   "metadata": {},
   "source": [
    "Het bepalen van de mediaan geeft de leeftijd 49 weer. Dit betekent dat de middelste waarde tussen alle leeftijden 49 is. Het gemiddelde kan hiervan afwijken, omdat deze sneller wordt beïnvloedt door outliers. Bij de mediaan hoort ook nog de IQR, deze zal meer inzage geven over de spreiding van de leeftijd."
   ]
  },
  {
   "cell_type": "code",
   "execution_count": 15,
   "id": "0a9b26fc",
   "metadata": {},
   "outputs": [
    {
     "name": "stdout",
     "output_type": "stream",
     "text": [
      "14.0\n"
     ]
    }
   ],
   "source": [
    "print(math.dfstat.IQR.Leeftijd)"
   ]
  },
  {
   "cell_type": "markdown",
   "id": "83b1a952",
   "metadata": {},
   "source": [
    "Deze berekening geeft aan dat er 14 jaar zit tussen de 25% en de 75% lijn van de totale data. Aangezien de data van de Leeftijd variabele strekt van 34 tot 66, is er te zien dat de data buiten deze percentielen meer gespreid is dan de data binnen de percentielen."
   ]
  },
  {
   "cell_type": "markdown",
   "id": "492abaa2",
   "metadata": {},
   "source": [
    "[Terug naar het begin](#begin)"
   ]
  },
  {
   "cell_type": "markdown",
   "id": "e87e2460",
   "metadata": {},
   "source": [
    "--------------------"
   ]
  },
  {
   "cell_type": "markdown",
   "id": "5466713c",
   "metadata": {},
   "source": [
    "### BMI <a name='bmi'></a>\n",
    "\n",
    "De BMI waarde bevindt zich op interval niveau. Dit is omdat deze numerieke waarde geen duidelijk absoluut nulpunt heeft. Dit is omdat een BMI van 0 niet speceficeerd welk van de 2 waardes dan nul zou zijn, de lengte van een individu of het gewicht van een individu. Daarnaast is het onmogelijk om als persoon geen lengte of gewicht te hebben op aarde, waardoor een BMI van nul niet al nulpunt kan worden beschouwd. Omdat de BMI een wat stabielere waarde is dan leeftijd, hiermee wordt bedoeld dat de waarde meer consistent tussen bepaalde waardes in ligt, wordt er gekozen voor het gemiddelde. Het gemiddelde is de som van alle waarden gedeeld door het aantal waarnemingen. De waarde is:\n",
    "\n",
    "$ \\frac{(26.97 + 28.73 +25.34 + 28.58 + 23.10)}{5} = \\frac{132.72}{5} = 26.54 $ \n",
    "\n",
    "Bij het gemiddelde komt ook de standaard deviatie kijken, een waarde die meer inzage geeft over de spreiding van de data. Deze waarde wordt berekent door de wortel te nemen van de varaintie. In de onderstaande formule worden deze gecombineerd, waarbij de berekening binnen de wortel van de variantie is. Omdat de gebruikte data maar een deel van de totale data is zal bij het aantal waarnemingen (n) er de waarde 1 vanaf getrokken worden, om te corrigeren voor de potetiële bias. \n",
    "\n",
    "$\\sqrt{\\frac{\\sum(x - gem)^2}{n - 1}} $\n",
    "\n",
    "\n",
    "De waarde van n - 1 is: <br> $ n - 1 = 5 - 1 = 4 $ <br>\n",
    "De waarde van SOM(x-gem) is: <br> $ (26.97 - 26.54)^2 + (28.73 - 26.54)^2 + (25.34 - 26.54)^2 + (28.58 - 26.54)^2 + (23.10 - 26.54)^2 = 22.41619999999 $<br>\n",
    "De variantie is: <br> $ \\frac{22.41619999999}{4} = 5.6040499999999955 $ <br>\n",
    "De standaard deviatie is: <br> $ \\sqrt5.6040499999999955 = 2.3672874772616854 $\n",
    "\n",
    "\n",
    "De grafiek die het beste past bij het tonen van de verdeling van de BMI is een histogram. Histogrammen laten duidelijk de spreiding zien van de waardes in de kolom. Deze waardes zullen dichter bij elkaar liggen wegens de waardes die BMI kan aannemen. De verwachting is dat de BMI waarden een rechtsscheve verdeling gaan tonen, omdat de meeste mensen een gezond tot licht overgewicht als BMI zullen hebben. Dit zijn de waardes 20 tot en met 30. Deze grafiek wordt gemaakt door gebruik te maken van de classe WisHelper en haar methode verdeling_c."
   ]
  },
  {
   "cell_type": "code",
   "execution_count": 16,
   "id": "6073c189",
   "metadata": {},
   "outputs": [
    {
     "name": "stdout",
     "output_type": "stream",
     "text": [
      "Skewness type: Rechts-scheef\n",
      "Skewness waarde: 1.1361944600841678\n"
     ]
    },
    {
     "data": {
      "image/png": "[encoded data removed]",
      "text/plain": [
       "<Figure size 576x432 with 1 Axes>"
      ]
     },
     "metadata": {},
     "output_type": "display_data"
    }
   ],
   "source": [
    "# Toepassen math.verdeling_c\n",
    "math.verdeling_c('BMI_waarde')"
   ]
  },
  {
   "cell_type": "markdown",
   "id": "56f18878",
   "metadata": {},
   "source": [
    "Voor numerieke waardes van interval of ratio niveau is een keuze tussen de mediaan of het gemiddelde als kengetal belangrijk. Na het bekijken van de verdeling is er voor de BMI is gekozen om de mediaan te nemen. Deze waarde is gekozen omdat er outliers aanwezig zijn. De bedoeling is om de outliers zo min mogelijk mee te laten wegen, de mediaan zal hierbij helpen. Ook is de data niet normaal verdeeld, waardoor het gemiddelde niet accuraat zal zijn."
   ]
  },
  {
   "cell_type": "code",
   "execution_count": 17,
   "id": "c093bd10",
   "metadata": {},
   "outputs": [
    {
     "name": "stdout",
     "output_type": "stream",
     "text": [
      "25.36\n"
     ]
    }
   ],
   "source": [
    "print(math.dfstat.Median.BMI_waarde)"
   ]
  },
  {
   "cell_type": "markdown",
   "id": "de650365",
   "metadata": {},
   "source": [
    "Het bepalen van de mediaan geeft een BMI van 25.36 weer. Dit betekent dat de middelste waarde tussen alle BMI waardes 25.36 is. Het gemiddelde kan hiervan afwijken, omdat deze sneller wordt beïnvloedt door outliers. Bij de mediaan hoort ook nog de IQR, deze zal meer inzage geven over de spreiding van de leeftijd."
   ]
  },
  {
   "cell_type": "code",
   "execution_count": 18,
   "id": "2e7a9b4e",
   "metadata": {
    "scrolled": true
   },
   "outputs": [
    {
     "name": "stdout",
     "output_type": "stream",
     "text": [
      "5.327500000000001\n"
     ]
    }
   ],
   "source": [
    "print(math.dfstat.IQR.BMI_waarde)"
   ]
  },
  {
   "cell_type": "markdown",
   "id": "8d539f09",
   "metadata": {},
   "source": [
    "Deze berekening geeft aan dat er tussen de 25% en de 75% lijn van de data maar een verschil is van 5.33. Dit is ten opzichte van de totale range (die van ca. 16 tot ca. 45 gaat) erg weinig. Dit betekent dat de meeste data erg dicht bij elkaar licht, zoals ook op de histogram te zien is. De spreiding van de data is rondom de mediaan is dus nauwelijks aanwezig."
   ]
  },
  {
   "cell_type": "markdown",
   "id": "c5e0b3dd",
   "metadata": {},
   "source": [
    "[Terug naar het begin](#begin)"
   ]
  },
  {
   "cell_type": "markdown",
   "id": "0bc639c6",
   "metadata": {},
   "source": [
    "--------------------"
   ]
  },
  {
   "cell_type": "markdown",
   "id": "35a4afcf",
   "metadata": {},
   "source": [
    "### Werkeloos <a name='werkeloos'></a>\n",
    "De kolom werkeloos bevindt zich op het nominale meetniveau, voor deze reden zal de modus gebruikt worden als kengetal. Om op een duidelijke manier met deze waarde om te kunnen gaan in python, zijn de waardes omgezet naar het volgende: {0 : werkeloos, 1 : niet werkeloos}.\n",
    "\n",
    "De modus van de eerste 5 regels is 0, er zijn namelijk 5 nullen te vinden. Dit geeft aan, op basis van de eerste 5 regels, dat de meest voorkomende waarde werkeloos is.\n",
    "\n",
    "Omdat bij de kolom 'Werkeloos' sprake is van een nominale waarde met 2 mogelijke opties, is er gekozen voor een staafdiagram. Op deze manier is het makkelijk te zien hoe de verdeling in elkaar zit. Ook is het verschil tussen de waarde 'werkeloos' en 'niet werkeloos' op deze manier het makkelijkst te tonen. Deze grafiek wordt gemaakt door gebruik te maken van de classe WisHelper en haar methode verdeling_d."
   ]
  },
  {
   "cell_type": "code",
   "execution_count": 19,
   "id": "8518ef2a",
   "metadata": {},
   "outputs": [
    {
     "data": {
      "image/png": "[encoded data removed]",
      "text/plain": [
       "<Figure size 576x432 with 1 Axes>"
      ]
     },
     "metadata": {},
     "output_type": "display_data"
    }
   ],
   "source": [
    "ticks_werk = {0:'Werkeloos', 1:'Niet Werkeloos'}\n",
    "\n",
    "math.verdeling_d('Werkeloos', ticks_werk)"
   ]
  },
  {
   "cell_type": "markdown",
   "id": "1314b533",
   "metadata": {},
   "source": [
    "Het kengetal dat het beste past bij elke nominale waarde is de modus, dit is omdat er voor de andere kengetallen gebruik gemaakt moet worden van volgorde of duidelijke numerieke waarden. Voor nominale waarden is het daarom dus makkelijker om te kijken naar de frequentie en de modus."
   ]
  },
  {
   "cell_type": "code",
   "execution_count": 20,
   "id": "89c86af5",
   "metadata": {
    "scrolled": true
   },
   "outputs": [
    {
     "name": "stdout",
     "output_type": "stream",
     "text": [
      "0    347\n",
      "1     53\n",
      "Name: Werkeloos, dtype: int64\n"
     ]
    }
   ],
   "source": [
    "print(df['Werkeloos'].value_counts())"
   ]
  },
  {
   "cell_type": "markdown",
   "id": "790ff70a",
   "metadata": {},
   "source": [
    "Door naar de frequentie te kijken van de waardes is duidelijk te zien dat de meeste mensen 0 (= werkeloos) hebben ingevuld. Dit geeft aan dat de modus, met een redelijk hoog percentage van ongeveer 87%, op werkeloos ligt in deze dataset."
   ]
  },
  {
   "cell_type": "markdown",
   "id": "880816a8",
   "metadata": {},
   "source": [
    "[Terug naar het begin](#begin)"
   ]
  },
  {
   "cell_type": "markdown",
   "id": "5f3bc1e0",
   "metadata": {},
   "source": [
    "------------"
   ]
  },
  {
   "cell_type": "markdown",
   "id": "dc37a2d5",
   "metadata": {},
   "source": [
    "## Tabel van kengetallen en grafieken <a name='tabel'></a>\n",
    "Hier is een tabel gemaakt met de kengetallen en grafieken die zinvol zijn om te gebruiken bij het analyseren van de data.\n",
    "\n",
    "<table align='left'>\n",
    "  <tr>\n",
    "    <th>Meetniveau's</th>\n",
    "    <th>Centrummaten</th>\n",
    "    <th>Spreidingsmaten</th>\n",
    "    <th>Welke maat wanneer?</th>\n",
    "    <th>Grafieken</th>\n",
    "    <th>Welke grafiek wanneer?</th>\n",
    "  </tr>\n",
    "  <tr>\n",
    "    <td>Nominaal</td>\n",
    "    <td>- Modus</td>\n",
    "    <td>- Geen</td>\n",
    "    <td>- N.V.T.</td>\n",
    "    <td>- Staafdiagram<br>- Cirkeldiagram</td>\n",
    "    <td>- Voor de frequentie van de variabelen<br>- Voor de proporties van de variabelen</td>\n",
    "  </tr>\n",
    "  <tr>\n",
    "    <td>Ordinaal</td>\n",
    "    <td>- Modus<br>- Mediaan</td>\n",
    "    <td>- Geen<br>- Inter Quartile Range</td>\n",
    "    <td>- Vinden van de meest populaire optie<br>- Vinden van de middelste waarde</td>\n",
    "    <td>- Staafdiagram</td>\n",
    "    <td>- N.V.T.</td>\n",
    "  </tr>\n",
    "  <tr>\n",
    "    <td>Interval</td>\n",
    "    <td>- Mediaan<br>- Gemiddelde</td>\n",
    "    <td>- Inter Quartile Range<br>- Variantie/Standaard deviatie</td>\n",
    "    <td>- Outliers of niet-normaal verdeeld<br>- Normaal verdeeld en weinig outliers</td>\n",
    "      <td>- Histogram<br>- Lijngrafiek<br>- Boxplot</td>\n",
    "    <td>- Voor de verdeling van de variabelen<br>- Voor het tonen van de variabelen t.o.v. continue variabel<br>- Bekijken van mediaan, verdeling en outliers</td>\n",
    "  </tr>\n",
    "  <tr>\n",
    "    <td>Ratio</td>\n",
    "    <td>- Mediaan<br>- Gemiddelde</td>\n",
    "    <td>- Inter Quartile Range<br>- Variantie/Standaard deviatie</td>\n",
    "    <td>- Outliers of niet-normaal verdeeld<br>- Normaal verdeeld en weinig outliers</td>\n",
    "    <td>- Zelfde als Interval<br>- Scatterplot<br>- Staafdiagram</td>\n",
    "    <td>- Zie interval niveau<br>- Voor het tonen van de waarden t.o.v. een andere numerieke waarde<br>- Voor het tonen van de verdeling op basis van categorie</td>\n",
    "  </tr>\n",
    "</table>\n",
    "\n"
   ]
  },
  {
   "cell_type": "markdown",
   "id": "1d15d513",
   "metadata": {},
   "source": [
    "[Terug naar het begin](#begin)"
   ]
  },
  {
   "cell_type": "markdown",
   "id": "8eec22fb",
   "metadata": {},
   "source": [
    "------------"
   ]
  },
  {
   "cell_type": "markdown",
   "id": "d9781212",
   "metadata": {},
   "source": [
    "## Analyse van een binaire kolom <a name='rokers'></a>\n",
    "De waardes van een binaire kolom zijn altijd 0 en 1. Deze waarden zijn ook terug te vinden in de Roker kolom, deze kolom heeft dus de volgende waardes: <br>{0 : ja, 1 : nee}. Om het aantal rokers te vinden kunnen de rijen geteld worden waarbij de waarde gelijk staat aan 0. Voor het aantal mensen dat deel nam aan de enquete kan de lengte van de dataset worden gebruikt. Deze waarden samen worden gebruikt om het percentage rokers uit te rekenen, dit gebeurt door middel van de volgende methode: \n",
    "\n",
    "${\\frac{Deel}{Geheel}} * 100 $"
   ]
  },
  {
   "cell_type": "code",
   "execution_count": 21,
   "id": "b70f960d",
   "metadata": {},
   "outputs": [
    {
     "name": "stdout",
     "output_type": "stream",
     "text": [
      "Het aantal rokers in de dataset is: 209\n",
      "Het totaal aantal personen is: 400\n",
      "Het percentage mensen dat rookt is: 52.25%\n"
     ]
    }
   ],
   "source": [
    "# Tonen van aantal rokers en het totaal aantal personen\n",
    "aantal_rokers = len(df[df['Roker'] == 0])\n",
    "totaal_personen = len(df)\n",
    "print(f'Het aantal rokers in de dataset is: {aantal_rokers}')\n",
    "print(f'Het totaal aantal personen is: {totaal_personen}')\n",
    "\n",
    "# Berekenen en tonen van percentage mensen dat rookt\n",
    "percentage_rokers = aantal_rokers / totaal_personen * 100\n",
    "print(f'Het percentage mensen dat rookt is: {percentage_rokers}%')"
   ]
  },
  {
   "cell_type": "markdown",
   "id": "89f41298",
   "metadata": {},
   "source": [
    "Vervolgens word de kans berekend dat 3 willekeurige personen het antwoord 'ja' hebben ingevuld. Het percentage mensen dat rookt volgens de data is 52.25%. Door deze waarde tot de macht van 3 te nemen wordt de kans berekent dat deze gebeurtenis 3 maal voor zal komen. Deze berekening verloop als volgt:\n",
    "\n",
    "$ 0.5225^3 = 0.142645766 $\n",
    "\n",
    "Deze berekening geeft aan dat de kans dat 3 willekeurige mensen allemaal ja hebben ingevuld gelijk is aan:\n",
    "\n",
    "$ 0.142645766 * 100 = 14.26\\% $"
   ]
  },
  {
   "cell_type": "markdown",
   "id": "394ac7b9",
   "metadata": {},
   "source": [
    "Nadat deze berekening is gedaan wordt de kans berekent dat slechts 1 van deze 3 personen ja heeft ingevuld. De mogelijke scenario's voor deze kans zijn:<br>u = {nee, nee, ja}, u = {nee, ja, nee} en u = {ja, nee, nee}. De kans dat 1 persoon een roker is volgens de dataset is 52.25%, dit betekent dat er een 47.75% kans is om een niet roker te zijn. \n",
    "\n",
    "Daarna worden de kans op deze gebeurtenis vermenigvuldigd met 3, om zo de kans te berekenen dat dit exacte scenario voorkomt. Om dit te berekenen word de formule voor binominale kans toegepast:<br>\n",
    "$ P(X = k) = C(n, k) * p^k * (1 - p)^{n - k}$<br>\n",
    "\n",
    "Dit geeft de volgende kans: <br>\n",
    "$ P(X = 1) = C(3, 1) * 0.5225^1 * (1 - 0.5225)^{3 - 1} = 3 * 0.5225 * 0.4775^2 = 0.357399796875 $<br>\n",
    "\n",
    "De berekening laat zien dat de kans dat deze gebeurtenis voor zal komen gelijk is aan 35.74%."
   ]
  },
  {
   "cell_type": "markdown",
   "id": "ea7498fa",
   "metadata": {},
   "source": [
    "[Terug naar het begin](#begin)"
   ]
  },
  {
   "cell_type": "markdown",
   "id": "d5e1b647",
   "metadata": {},
   "source": [
    "--------------------"
   ]
  },
  {
   "cell_type": "markdown",
   "id": "72331639",
   "metadata": {},
   "source": [
    "## Discrete en Continue verdelingen <a name='cholesterol'></a>"
   ]
  },
  {
   "cell_type": "markdown",
   "id": "d0e9ab2e",
   "metadata": {},
   "source": [
    "In de wereld van kansrekenen spreken we van 2 verschillende soorten verdelingen, discrete en continue verdelingen. Het verschil tussen de twee verdelingen ligt in het type waardes dat ze aan kunnen nemen. Continue verdelingen beschijven de mogelijkheden en kunnen waardes aannemen van eindeloze variatie, dit is een groep variabelen die een oneindige en ontelbare variatie heeft. Bij continue verdelingen wordt vaak gekeken of de waarde binnen een bepaald interval valt. Voorbeelden van continue verdelingen zijn de normaal verdeling en de exponetiële verdeling.\n",
    "\n",
    "Discrete verdelingen beschrijven de waarschijnlijkheid van het voorkomen van bepaalde variabelen. Deze verdeling heeft telbare variabelen, zoals een inventarisatie van niet-negatieve gehele getallen. Bij discrete verdelingen wordt er vaak gekeken wat de kans is op die gebeurtenis. Voorbeelden van discrete verdelingen zijn de binominale verdeling en de poisson verdeling."
   ]
  },
  {
   "cell_type": "markdown",
   "id": "6787c4e9",
   "metadata": {},
   "source": [
    "Voor alle soorten verdelingen moeten de volgende twee eigenschappen kloppen:\n",
    "\n",
    "- De kans van elke uitkomst heeft een waarde van 0 t/m 1, deze waarde kan dus nooit negatief zijn.\n",
    "- De totale som van de kans is gelijk aan 1."
   ]
  },
  {
   "cell_type": "markdown",
   "id": "2a16dadc",
   "metadata": {},
   "source": [
    "Cholesterol is een aparte waarde, dit komt door het type verdeling dat deze waarde vaak aanneemt. Technisch gezien is cholesterol een discrete variabele, maar toch word de cholesterol waarde vaak als continue variabel gebruikt. Dit heeft de volgende redenen:\n",
    "\n",
    "- **Geen verlies van data**: Als cholesterol als discrete variabel aangenomen zou worden, zullen de subtielere verschillen wegvallen.\n",
    "- **Medisch onderzoek**: Bij medisch onderzoek is het belangrijk dat onderzoekers meer gedetailleerde kunnen uitvoeren met cholesterol, om bijvoorbeeld te kijken of het invloed heeft op andere gezondheidsfactoren.\n",
    "- **Nauwkeurigheid**: Doordat cholesterol als continue wordt gezien zijn de modellen die ermee worden gemaakt veel nauwkeuriger dan wanneer cholesterol een discrete verdeling zou hebben."
   ]
  },
  {
   "cell_type": "markdown",
   "id": "2e9e35b8",
   "metadata": {},
   "source": [
    "[Terug naar het begin](#begin)"
   ]
  },
  {
   "cell_type": "markdown",
   "id": "5126b94f",
   "metadata": {},
   "source": [
    "------------"
   ]
  },
  {
   "cell_type": "markdown",
   "id": "4ac359a1",
   "metadata": {},
   "source": [
    "## Correlatie tussen kolommen <a name='corr_1'></a>\n",
    "\n",
    "Nu wordt er gekeken naar de correlatie tussen 3 paren van kolommen. De gekozen paren zijn:\n",
    "1. Roker en Sigaretten_per_dag\n",
    "2. Leeftijd en Hoge_bloeddruk\n",
    "3. Cholesterolwaarde en Hoge_bloeddruk\n",
    "\n",
    "De correlatie wordt berekent door gebuik te maken van de methode van spearman. Deze wordt gebruikt omdat de methode van spearman scheve verdelingen kan gebruiken.\n",
    "\n",
    "Het eerste paar dat wordt getest is Roker en Sigaretten_per_dag. Deze is gekozen omdat er vanuit wordt gegaan dat mensen die roken een hoger aantal sigaretten per dag zullen hebben dan de niet rokende mensen. Er wordt hierbij een erg sterke positieve relatie verwacht."
   ]
  },
  {
   "cell_type": "code",
   "execution_count": 22,
   "id": "47f1cc2b",
   "metadata": {},
   "outputs": [
    {
     "name": "stdout",
     "output_type": "stream",
     "text": [
      "Spearman correlatie tussen Roker en Sigaretten_per_dag: 0.9374066757418915\n",
      "P-waarde: 1.9754268270393866e-184\n"
     ]
    }
   ],
   "source": [
    "math.corr('spearman', 'Roker', 'Sigaretten_per_dag')"
   ]
  },
  {
   "cell_type": "markdown",
   "id": "bb9c1d6c",
   "metadata": {},
   "source": [
    "De Spearman correlatie is 0.937, wat een zeer sterke positieve correlatie aangeeft. Dit suggereert dat rokers over het algemeen meer sigaretten per dag roken. De p-waarde is praktisch 0, wat aangeeft dat de correlatie zeer significant is.\n",
    "\n",
    "Dan wordt de correlatie tussen Leeftijd en Hoge_bloeddruk bekeken. De verwachting is dat mensen met een hogere bloeddruk over het algemeen ook ouder zullen zijn. Er wordt hier een positieve correlatie verwacht."
   ]
  },
  {
   "cell_type": "code",
   "execution_count": 23,
   "id": "0208d972",
   "metadata": {},
   "outputs": [
    {
     "name": "stdout",
     "output_type": "stream",
     "text": [
      "Spearman correlatie tussen Leeftijd en Hoge_bloeddruk: 0.2615141489447142\n",
      "P-waarde: 1.1172475753938544e-07\n"
     ]
    }
   ],
   "source": [
    "math.corr('spearman', 'Leeftijd', 'Hoge_bloeddruk')"
   ]
  },
  {
   "cell_type": "markdown",
   "id": "61b787a6",
   "metadata": {},
   "source": [
    "De Spearman correlatie is 0.262, wat een zwakke positieve correlatie aangeeft. Dit suggereert dat oudere mensen iets meer kans hebben op hoge bloeddruk. De p-waarde is praktisch 0, wat aangeeft dat de correlatie zeer significant is.\n",
    "\n",
    "Als laatste wordt de correlatie tussen de kolommen Cholesterolwaarde en Hoge_bloeddruk bekeken. Er wordt verwacht dat ook een hogere cholesterolwaarde meespeelt bij een hogere bloeddruk. Ook hier wordt dus een positieve correlatie verwacht."
   ]
  },
  {
   "cell_type": "code",
   "execution_count": 24,
   "id": "3af82cf5",
   "metadata": {
    "scrolled": true
   },
   "outputs": [
    {
     "name": "stdout",
     "output_type": "stream",
     "text": [
      "Spearman correlatie tussen Cholesterolwaarde en Hoge_bloeddruk: 0.1379432365190539\n",
      "P-waarde: 0.0057193273498347625\n"
     ]
    }
   ],
   "source": [
    "math.corr('spearman', 'Cholesterolwaarde', 'Hoge_bloeddruk')"
   ]
  },
  {
   "cell_type": "markdown",
   "id": "6d41f39e",
   "metadata": {},
   "source": [
    "De Spearman correlatie is 0.138, wat een zeer zwakke positieve correlatie aangeeft. Dit betekent dat mensen met een hogere cholesterolwaarde iets vaker hoge bloeddruk hebben, maar het verband is erg zwak. De p-waarde is kleiner dan 0.05, wat aangeeft dat de correlatie significant is.\n",
    "\n",
    "De verwachtingen waren enigszins juist. De sterkste correlatie is tussen roken en het aantal sigaretten per dag. De correlaties van leeftijd en cholesterolwaarde met hoge bloeddruk zijn zwakker maar nog steeds significant. Hoewel deze correlaties zwak zijn, tonen ze nog steeds aan dat er enige relatie is tussen deze variabelen."
   ]
  },
  {
   "cell_type": "markdown",
   "id": "9c4cc5e4",
   "metadata": {},
   "source": [
    "[Terug naar het begin](#begin)"
   ]
  },
  {
   "cell_type": "markdown",
   "id": "bee38455",
   "metadata": {},
   "source": [
    "--------------------"
   ]
  },
  {
   "cell_type": "markdown",
   "id": "58cee011",
   "metadata": {},
   "source": [
    "# Deel B <a name = 'deelb'> </a>"
   ]
  },
  {
   "cell_type": "markdown",
   "id": "276084f8",
   "metadata": {},
   "source": [
    "## Basiswaarden samengestelde variabele <a name='bas'></a>"
   ]
  },
  {
   "cell_type": "markdown",
   "id": "e7b96355",
   "metadata": {},
   "source": [
    "Het combineren van verschillende variabelen tot een samengestelde variabele, zoals in dit geval \"Mental_Health\", vereist dat aan enkele basisvoorwaarden wordt voldaan:\n",
    "\n",
    "**Consistentie van meetniveaus**: Alle variabelen die worden gebruikt, moeten op een vergelijkbaar niveau worden gemeten. Als de variabelen in rangorde worden gemeten (zoals: slecht, midden, goed), dan moeten alle variabelen op deze schaal worden gemeten om ze bij elkaar op te kunnen tellen voor een nieuwe variabele.\n",
    "\n",
    "**Gelijkwaardig belang**: Wanneer je de 'scores', van de variabelen waaruit \"Mental_Health\" wordt gemaakt, optelt, wordt er vanuit gegaan dat elke variabele even zwaar weegt voor de uiteindelijke variabele. Als één variabele zwaarder weegt dan de andere, dan moet er een gewichtsfactor toegepast worden wanneer de scores bij elkaar worden opgeteld. Als geen van de variabele zwaarder weegt dan de andere, en ze allemaal even zwaar wegen, dan dragen de aspecten evenredig bij aan \"Mental_Health\".\n",
    "\n",
    "**Controle**: Er moet nagegaan worden of mensen die goed of slecht presteren op verschillende aspecten, ook goed of slecht scoren op \"Mental_Health\". Dit kan gebeuren door te kijken naar de verbanden tussen elke afzonderlijke variabele en \"Mental_Health\". Ook kan er gekeken worden naar de eventuele verschillen tussen de \"Mental_Health\" kolom en de al bestaande \"Mentale_gezondheid\" kolom.\n",
    "\n",
    "**Betrouwbaarheid**: Alle metingen bij elke variabele moeten betrouwbaar zijn. Dus als we dezelfde variabelen op een ander tijdstip meten, moeten er dezelfde antwoorden uitkomen.\n",
    "\n",
    "Het is goed om te weten dat dit soort samengevoegde variabelen, hoewel ze handig zijn, ook beperkingen hebben. Deze variabelen kunnen helpen om algemene patronen te zien, maar ze kunnen ook de unieke ervaringen van mensen verbergen. Daarom moet er zowel naar de samengevoegde variabele \"Mental_Health\" als naar de losse variabelen kijken als de resultaten van het onderzoek begrepen willen worden."
   ]
  },
  {
   "cell_type": "markdown",
   "id": "bd09439c",
   "metadata": {},
   "source": [
    "--------------------"
   ]
  },
  {
   "cell_type": "markdown",
   "id": "24425e9a",
   "metadata": {},
   "source": [
    "## Het maken van Mental_Health <a name='mental'></a>"
   ]
  },
  {
   "cell_type": "markdown",
   "id": "630e22f1",
   "metadata": {},
   "source": [
    "Eerst is er gekeken naar alle kolommen die gebruikt worden om op te tellen:"
   ]
  },
  {
   "cell_type": "code",
   "execution_count": 25,
   "id": "a19dd1c6",
   "metadata": {},
   "outputs": [
    {
     "name": "stdout",
     "output_type": "stream",
     "text": [
      "Spreiding Sociaal_functioneren:\n"
     ]
    },
    {
     "data": {
      "text/plain": [
       "4    104\n",
       "3    102\n",
       "2     97\n",
       "1     61\n",
       "5     36\n",
       "Name: Sociaal_functioneren, dtype: int64"
      ]
     },
     "metadata": {},
     "output_type": "display_data"
    },
    {
     "name": "stdout",
     "output_type": "stream",
     "text": [
      "Spreiding Empatisch_reageren:\n"
     ]
    },
    {
     "data": {
      "text/plain": [
       "3    115\n",
       "2    107\n",
       "1     84\n",
       "4     74\n",
       "5     20\n",
       "Name: Empatisch_reageren, dtype: int64"
      ]
     },
     "metadata": {},
     "output_type": "display_data"
    },
    {
     "name": "stdout",
     "output_type": "stream",
     "text": [
      "Spreiding Positieve_levenshouding:\n"
     ]
    },
    {
     "data": {
      "text/plain": [
       "4    109\n",
       "2     91\n",
       "3     88\n",
       "5     58\n",
       "1     54\n",
       "Name: Positieve_levenshouding, dtype: int64"
      ]
     },
     "metadata": {},
     "output_type": "display_data"
    },
    {
     "name": "stdout",
     "output_type": "stream",
     "text": [
      "Spreiding Mentale_vaardigheden:\n"
     ]
    },
    {
     "data": {
      "text/plain": [
       "2    98\n",
       "3    98\n",
       "4    89\n",
       "1    82\n",
       "5    33\n",
       "Name: Mentale_vaardigheden, dtype: int64"
      ]
     },
     "metadata": {},
     "output_type": "display_data"
    },
    {
     "name": "stdout",
     "output_type": "stream",
     "text": [
      "Spreiding Leven_in_balans:\n"
     ]
    },
    {
     "data": {
      "text/plain": [
       "4    103\n",
       "3     87\n",
       "2     86\n",
       "5     67\n",
       "1     57\n",
       "Name: Leven_in_balans, dtype: int64"
      ]
     },
     "metadata": {},
     "output_type": "display_data"
    },
    {
     "name": "stdout",
     "output_type": "stream",
     "text": [
      "Spreiding Persoonlijke_grenzen:\n"
     ]
    },
    {
     "data": {
      "text/plain": [
       "2    101\n",
       "3     94\n",
       "4     92\n",
       "1     77\n",
       "5     36\n",
       "Name: Persoonlijke_grenzen, dtype: int64"
      ]
     },
     "metadata": {},
     "output_type": "display_data"
    }
   ],
   "source": [
    "kolommen = ['Sociaal_functioneren', 'Empatisch_reageren',\n",
    "            'Positieve_levenshouding', 'Mentale_vaardigheden',\n",
    "            'Leven_in_balans', 'Persoonlijke_grenzen']\n",
    "\n",
    "for kol in kolommen:\n",
    "    print(f'Spreiding {kol}:')\n",
    "    display(df[kol].value_counts())"
   ]
  },
  {
   "cell_type": "markdown",
   "id": "12fb2f7d",
   "metadata": {},
   "source": [
    "Aangezien hier geen fouten in lijken te zitten kan de kolom Mental_Health worden aangemaakt."
   ]
  },
  {
   "cell_type": "code",
   "execution_count": 26,
   "id": "033bf52a",
   "metadata": {},
   "outputs": [
    {
     "data": {
      "text/plain": [
       "0      14\n",
       "1      24\n",
       "2      25\n",
       "3      22\n",
       "4      16\n",
       "       ..\n",
       "395    23\n",
       "396    16\n",
       "397    15\n",
       "398    20\n",
       "399    20\n",
       "Name: Mental_Health, Length: 400, dtype: int64"
      ]
     },
     "metadata": {},
     "output_type": "display_data"
    }
   ],
   "source": [
    "df['Mental_Health'] = df[kolommen].sum(axis=1)\n",
    "display(df['Mental_Health'])"
   ]
  },
  {
   "cell_type": "markdown",
   "id": "01916d55",
   "metadata": {},
   "source": [
    "De gemaakte variabele \"Mental_Health\" is ordinair van aard. Dat betekent dat de waarden in een bepaalde volgorde voorkomen, maar er is geen vaste, gelijke afstand en betekenis tussen de waardes die deze variabele aan kan nemen.\n",
    "\n",
    "Dit komt omdat \"Mental_Health\" de optelsom is van zes andere variabelen die ook ordinair zijn. Deze variabelen zijn \"sociaal_functioneren\", \"empatisch_reageren\", \"positieve_levenshouding\", \"mentale_vaardigheden\", \"leven_in_balans\" en \"persoonlijke_grenzen\". Ze worden allemaal gemeten op een schaal van 1 tot 5, waarbij 1 betekent \"niet\" en 5 betekent \"volledig\".\n",
    "\n",
    "Hoewel \"Mental_Health\" soms behandeld kan worden alsof het een interval is (wat betekent dat de stappen tussen de waarde een vaste, gelijke afstand en betekenis hebben), is dat niet correct en kan het soms tot misleidende resultaten leiden. Het is dus belangrijk om te onthouden dat \"Mental_Health\" ordinair is wanneer deze variabele gebruikt wordt in analyses."
   ]
  },
  {
   "cell_type": "markdown",
   "id": "e842ca72",
   "metadata": {},
   "source": [
    "[Terug naar het begin](#begin)"
   ]
  },
  {
   "cell_type": "markdown",
   "id": "9dbbf938",
   "metadata": {},
   "source": [
    "--------------------"
   ]
  },
  {
   "cell_type": "markdown",
   "id": "3816faaa",
   "metadata": {},
   "source": [
    "## Opgave 16"
   ]
  },
  {
   "cell_type": "code",
   "execution_count": 42,
   "id": "1caa51ea",
   "metadata": {
    "collapsed": true
   },
   "outputs": [
    {
     "data": {
      "image/png": "[encoded data removed]",
      "text/plain": [
       "<Figure size 576x432 with 1 Axes>"
      ]
     },
     "metadata": {},
     "output_type": "display_data"
    }
   ],
   "source": [
    "# Opnieuw initialiseren van WisHelper\n",
    "math = WisHelper(df)\n",
    "\n",
    "# Gebruik van math.verdeling_d\n",
    "math.verdeling_d('Mental_Health')"
   ]
  },
  {
   "cell_type": "code",
   "execution_count": 45,
   "id": "4a4ea701",
   "metadata": {},
   "outputs": [
    {
     "data": {
      "text/plain": [
       "17.0"
      ]
     },
     "execution_count": 45,
     "metadata": {},
     "output_type": "execute_result"
    }
   ],
   "source": [
    "math.dfstat.Median.Mental_Health"
   ]
  },
  {
   "cell_type": "code",
   "execution_count": 46,
   "id": "1d70bec9",
   "metadata": {},
   "outputs": [
    {
     "data": {
      "text/plain": [
       "6.0"
      ]
     },
     "execution_count": 46,
     "metadata": {},
     "output_type": "execute_result"
    }
   ],
   "source": [
    "math.dfstat.IQR.Mental_Health"
   ]
  },
  {
   "cell_type": "markdown",
   "id": "2bd6e9c7",
   "metadata": {},
   "source": [
    "[Terug naar het begin](#begin)"
   ]
  },
  {
   "cell_type": "markdown",
   "id": "041c2c69",
   "metadata": {},
   "source": [
    "--------------------"
   ]
  },
  {
   "cell_type": "markdown",
   "id": "bfb69224",
   "metadata": {},
   "source": [
    "## Opgave 17"
   ]
  },
  {
   "cell_type": "markdown",
   "id": "6bc6e7f0",
   "metadata": {},
   "source": [
    "Door de verdeling van de Mental_Health kolom om te zetten in bins, waardoor ook deze waarde rijkt van categorieën die de waardes 1 to en met 5 hebben."
   ]
  },
  {
   "cell_type": "markdown",
   "id": "841900ef",
   "metadata": {},
   "source": [
    "[Terug naar het begin](#begin)"
   ]
  },
  {
   "cell_type": "markdown",
   "id": "a640748c",
   "metadata": {},
   "source": [
    "--------------------"
   ]
  },
  {
   "cell_type": "markdown",
   "id": "b5e9c24a",
   "metadata": {},
   "source": [
    "# Deel C <a name='deelc'></a>"
   ]
  },
  {
   "cell_type": "markdown",
   "id": "703a507b",
   "metadata": {},
   "source": [
    "## Het lineaire verband <a name='lineair'></a>"
   ]
  },
  {
   "cell_type": "markdown",
   "id": "95fcc66d",
   "metadata": {},
   "source": [
    "Een lineair verband is de relatie tussen twee variabelen waarbij de verandering in een van de variabelen samenhangt met de andere variabele op een rechte lijn. Dit houd in dat als een van de variabelen toeneemt, de ander dit op een constante en voorspelbare wijze ook doet.\n",
    "\n",
    "In wiskundige termen kan dit worden uitgedrukt in de standaard lineaire vergelijking: $ y = ax + b $. Deze formule bestaat uit vier waardes: x, y, a en b.\n",
    "- x is de onafhankelijke variabele\n",
    "- y is de afhankelijke variabele\n",
    "- a is de richtingscoëfficient\n",
    "- b de kruising van de lijn met de y-as.\n",
    "\n",
    "Bij deze formule zijn a en b constante waardes, deze kunnen in een verband niet van waarde veranderen. Doordat de waardes van a en b constant zijn, kan er in één oog opslag gezien worden hoe de lijn in het verband zich vormt. De a-waarde laat zien hoeveel de y-waarde beweegt voor elke stap die x zet. Terwijl de b-waarde toont wat de y-waarde zal zijn als x niet aanwezig is. Samen zorgen de vier variabelen voor een stabiele en simpel voorspelbare lijn. In het kort is een lineair verband dus de constante en voorspelbare correlatie tussen twee variabelen in de vorm van een rechte lijn."
   ]
  },
  {
   "cell_type": "markdown",
   "id": "f111672b",
   "metadata": {},
   "source": [
    "[Terug naar het begin](#begin)"
   ]
  },
  {
   "cell_type": "markdown",
   "id": "c65d79de",
   "metadata": {},
   "source": [
    "--------------------"
   ]
  },
  {
   "cell_type": "markdown",
   "id": "a20fe93f",
   "metadata": {},
   "source": [
    "## Opgave 19"
   ]
  },
  {
   "cell_type": "markdown",
   "id": "a88881c4",
   "metadata": {},
   "source": [
    "## Opgave 20"
   ]
  },
  {
   "cell_type": "code",
   "execution_count": 68,
   "id": "6a556830",
   "metadata": {},
   "outputs": [
    {
     "name": "stdout",
     "output_type": "stream",
     "text": [
      "r2: 0.16248827901890306\n"
     ]
    }
   ],
   "source": [
    "from sklearn.model_selection import train_test_split\n",
    "from sklearn.linear_model import LinearRegression\n",
    "from sklearn.metrics import r2_score\n",
    "\n",
    "X = np.array(df[['Glucosegehalte', 'Bloeddruk_diastolisch', 'Voldoende_dagelijkse_beweging']])\n",
    "y = np.array(df['BMI_waarde'])\n",
    "\n",
    "#Antwoord:\n",
    "# Toepassen van train_test_split\n",
    "X_train, X_test, y_train, y_test =  train_test_split(X, y, test_size = 0.20, random_state = 42)\n",
    "\n",
    "# aanmaken model en trainen\n",
    "model = LinearRegression()\n",
    "model.fit(X_train, y_train)\n",
    "\n",
    "# voorspellen van de waardes\n",
    "y_predicted = model.predict(X_test)\n",
    "r2= r2_score(y_test, y_predicted)\n",
    "print('r2: '+str(r2))"
   ]
  },
  {
   "cell_type": "markdown",
   "id": "fae22381",
   "metadata": {},
   "source": [
    "[Terug naar het begin](#begin)"
   ]
  },
  {
   "cell_type": "markdown",
   "id": "2391996b",
   "metadata": {},
   "source": [
    "--------------------"
   ]
  },
  {
   "cell_type": "markdown",
   "id": "4785be82",
   "metadata": {},
   "source": [
    "## Opgave 21"
   ]
  },
  {
   "cell_type": "code",
   "execution_count": null,
   "id": "226bd470",
   "metadata": {},
   "outputs": [],
   "source": []
  },
  {
   "cell_type": "markdown",
   "id": "50af7452",
   "metadata": {},
   "source": [
    "[Terug naar het begin](#begin)"
   ]
  },
  {
   "cell_type": "markdown",
   "id": "e9e0d22f",
   "metadata": {},
   "source": [
    "--------------------"
   ]
  },
  {
   "cell_type": "markdown",
   "id": "bedb338d",
   "metadata": {},
   "source": [
    "## Opgave 22"
   ]
  },
  {
   "cell_type": "code",
   "execution_count": null,
   "id": "5affeee9",
   "metadata": {},
   "outputs": [],
   "source": []
  },
  {
   "cell_type": "markdown",
   "id": "7339587b",
   "metadata": {},
   "source": [
    "[Terug naar het begin](#begin)"
   ]
  },
  {
   "cell_type": "markdown",
   "id": "eee152e5",
   "metadata": {},
   "source": [
    "--------------------"
   ]
  },
  {
   "cell_type": "markdown",
   "id": "0f6c4a67",
   "metadata": {},
   "source": [
    "## Onderzoek van Cholesterolwaarde <a name='cho'></a>"
   ]
  },
  {
   "cell_type": "markdown",
   "id": "a525083f",
   "metadata": {},
   "source": [
    "Volgens bronnen zou de variabele 'Cholesterolwaarde' normaal verdeeld moeten zijn. Daarbij zou het gemiddelde een waarde van 230 moeten hebben en de standaard deviatie zou een waarde van 40 moeten bedragen. Om na te gaan of dit klopt kan de volgende code worden gebruikt:"
   ]
  },
  {
   "cell_type": "code",
   "execution_count": 28,
   "id": "7da67c75",
   "metadata": {
    "scrolled": false
   },
   "outputs": [
    {
     "name": "stdout",
     "output_type": "stream",
     "text": [
      "Skewness type: Rechts-scheef\n",
      "Skewness waarde: 0.5384059680492227\n"
     ]
    },
    {
     "data": {
      "image/png": "[encoded data removed]",
      "text/plain": [
       "<Figure size 576x432 with 1 Axes>"
      ]
     },
     "metadata": {},
     "output_type": "display_data"
    }
   ],
   "source": [
    "math.verdeling_c('Cholesterolwaarde')"
   ]
  },
  {
   "cell_type": "markdown",
   "id": "c5b74948",
   "metadata": {},
   "source": [
    "Zoals te zien is, is de waarde net aan rechts-scheef bij de verdeling. Dit is op basis van een vaak genomen grenswaarde van 0.5. Als de skewness van de grafiek deze grenswaarde overschrijdt op het positieve spectrum is de grafiek rechtsscheef. Als de skewness van de grafiek een waarde heeft van -0.5 of lager zou de grafiek worden gezien als linksscheef. Omdat de skewness van de grafiek 0.538 is, ligt het net over de grenswaarde en daardoor wordt de grafiek gezien als rechts-scheef.\n",
    "\n",
    "De volgende stap is om te kijken of ook het gemiddelde en de standaarddeviatie kloppen."
   ]
  },
  {
   "cell_type": "code",
   "execution_count": 29,
   "id": "f754174e",
   "metadata": {
    "scrolled": true
   },
   "outputs": [
    {
     "name": "stdout",
     "output_type": "stream",
     "text": [
      "Het gemiddelde van Cholesterolwaarde is: 237.4825\n",
      "De standaard deviatie van Cholesterolwaarde is: 43.29666496096268\n"
     ]
    }
   ],
   "source": [
    "print(f'Het gemiddelde van Cholesterolwaarde is: {math.dfstat.Mean.Cholesterolwaarde}')\n",
    "print(f'De standaard deviatie van Cholesterolwaarde is: {math.dfstat.Std.Cholesterolwaarde}')"
   ]
  },
  {
   "cell_type": "markdown",
   "id": "74737894",
   "metadata": {},
   "source": [
    "[Terug naar het begin](#begin)"
   ]
  },
  {
   "cell_type": "markdown",
   "id": "b0f39f06",
   "metadata": {},
   "source": [
    "--------------------"
   ]
  },
  {
   "cell_type": "markdown",
   "id": "c9766dca",
   "metadata": {},
   "source": [
    "### Kans op hoge cholesterol <a name='kans'></a>\n",
    "\n",
    "Nu zal er berekent worden wat de kans is bij P(X > 250). Tijdens deze berekening wordt er uitgegaan van de gevens van het oude onderzoek, dit is omdat de verkregen data net aan rechts-scheef is verdeeld. De volgende data is dan van toepassing:\n",
    "\n",
    "$X:$ De cholesterolwaarde, in dit geval 250<br>\n",
    "$\\overline{x}:$ Het gemiddelde, 230<br>\n",
    "$\\sigma:$ De standaard deviatie, 40\n",
    "\n",
    "Om eerste stap is het berekenen van de z-score. De wordt berekent op de volgende manier:\n",
    "\n",
    "$ Zscore = \\frac{(X - \\overline{x})}{\\sigma} = \\frac{(250 - 230)}{40} = \\frac{20}{40} = 0.5 $\n",
    "\n",
    "Om te de cumulatieve kans te bereken moet de Z-score eerst in de [Z-score Tabel](https://www.z-table.com/) worden opgezocht. Omdat er van een normale verdeling wordt uitgegaan is het mogelijk om deze te bepalen. Als er in de tabel wordt gekeken is te zien dat een z-score van $0.5$ gelijk staat aan een kans van $0.6915$ of $69.15\\%$. Om de kans op P(X > 250) te berekenen moet deze kans van 1 worden afgehaald, daar komt de volgende kans uit:\n",
    "\n",
    "$P(X>250) = 1 - 0.6915 = 0.3085$\n",
    "\n",
    "Dit is gelijk aan een percentage van $30.85\\%$, dit is dan ook de kans dat de cholesterolwaarde hoger is dan 250."
   ]
  },
  {
   "cell_type": "markdown",
   "id": "9366b2b2",
   "metadata": {},
   "source": [
    "Om te bepalen wat de empirische kans is op P(X > 250) op basis van de dataset moet er eerst worden gekeken naar de data. Om deze berekening uit te voeren zijn er twee waardes nodig: Het totaal aantal waarnemingen en het aantal waardes dat voldoet aan P(X > 250). Deze waardes worden door elkaar gedeeld om zo de empirische kans te benaderen."
   ]
  },
  {
   "cell_type": "code",
   "execution_count": 30,
   "id": "7bd24213",
   "metadata": {},
   "outputs": [
    {
     "name": "stdout",
     "output_type": "stream",
     "text": [
      "De benaderde kans P(X > 250) is: 141 / 400 = 35.25%\n"
     ]
    }
   ],
   "source": [
    "# bepalen van aantal waarneminge met X > 250 en totale waarnemingen\n",
    "x250 = len(df[df['Cholesterolwaarde'] > 250])\n",
    "waarnemingen = len(df)\n",
    "\n",
    "# Berekenen van empirische kans\n",
    "emp_kans = x250 / waarnemingen * 100\n",
    "print(f\"De benaderde kans P(X > 250) is: {x250} / {waarnemingen} = {emp_kans}%\")"
   ]
  },
  {
   "cell_type": "markdown",
   "id": "a3c85f5b",
   "metadata": {},
   "source": [
    "Zoals te zien is in de berekening is er een kans van $35.25\\%$ dat iemand zijn cholesterol hoger is dan 250. Echter is het belangrijk om te onthouden dat gebruikte data afwijkt van de daadwerkelijke waardes, dit is te zien aan de rechts-scheve verdeling. De benadering kan dus minder nauwkeurig zijn."
   ]
  },
  {
   "cell_type": "markdown",
   "id": "78a61757",
   "metadata": {},
   "source": [
    "[Terug naar het begin](#begin)"
   ]
  },
  {
   "cell_type": "markdown",
   "id": "e94239bb",
   "metadata": {},
   "source": [
    "--------------------"
   ]
  },
  {
   "cell_type": "markdown",
   "id": "0e7fd77e",
   "metadata": {},
   "source": [
    "### Eerste test <a name='test1'></a>\n",
    "\n",
    "Echter laten recentere onderzoeken zien dat het gemiddelde ($\\mu$) inmiddels 235 is en de standaard deviatie ($\\sigma$) gelijk is geworden aan 43. Door deze reden wordt er met python gekeken of, op basis van de verkregen steekproef, deze uitkomsten vastgehouden moeten worden. Dit word gedaan met behulp van een statistische toets, de 1-sample t-toets. De t-toets is minder gevoelig tegen afwijkingen in de data dan de z-toets, waardoor de t-toets zich opsteld als de betere keuze. Hierbij gelden de volgende hypothesen:\n",
    "\n",
    "$H_0:$ Het gemiddelde wijkt niet genoeg af van 230<br>\n",
    "$H_1:$ Het gemiddelde wijkt genoeg af van 230"
   ]
  },
  {
   "cell_type": "code",
   "execution_count": 31,
   "id": "cffad0b6",
   "metadata": {},
   "outputs": [
    {
     "name": "stdout",
     "output_type": "stream",
     "text": [
      "De nulhypothese wordt verworpen omdat de P-waarde 0.000606297053132787 kleiner is dan alpha 0.05\n"
     ]
    }
   ],
   "source": [
    "math.one_sample_t('Cholesterolwaarde', 230)"
   ]
  },
  {
   "cell_type": "markdown",
   "id": "8a6b860c",
   "metadata": {},
   "source": [
    "Zoals te zien is in de uitkomst van de bovenstaande cel wordt de nulhypothese verworpen, dit betekent dat er statistisch bewijs is gevonden dat het gemiddelde van de steekproef afwijkt van 230."
   ]
  },
  {
   "cell_type": "markdown",
   "id": "a5d18239",
   "metadata": {},
   "source": [
    "[Terug naar het begin](#begin)"
   ]
  },
  {
   "cell_type": "markdown",
   "id": "2593d9d9",
   "metadata": {},
   "source": [
    "--------------------"
   ]
  },
  {
   "cell_type": "markdown",
   "id": "4b7874d7",
   "metadata": {},
   "source": [
    "### Betrouwbaarheidsintervallen <a name='betr'></a>\n",
    "\n",
    "Ook wordt er gekeken naar de betrouwbaarheidsintervallen, de waarde die aantoont voor welke waardes de nulhypothese wordt behouden. Dit interval wordt vaak uitgedrukt met een percentage, bijvoorbeeld 95%. Dit percentage geeft aan dat er 95% van steekproeven het daadwerkelijke populatie gemiddelde zullen bevatten. Dit is een belangrijke statistische berekening om de schatting van een populatie gemiddelde te beoordelen en het bereik te bepalen waar het populatie gemiddelde zich, naar waarschijnlijkheid, in bevindt.\n",
    "\n",
    "Er zal daarom nu gekeken worden naar de betrouwbaarheidsintervallen van 95% en 90%, voor de waardes van Cholesterolwaarde."
   ]
  },
  {
   "cell_type": "code",
   "execution_count": 32,
   "id": "bdafeb31",
   "metadata": {},
   "outputs": [
    {
     "name": "stdout",
     "output_type": "stream",
     "text": [
      "Betrouwbaarheidsinterval bij alpha 0.05: [233.22659522654527, 241.7384047734547]\n"
     ]
    }
   ],
   "source": [
    "# Bepalen X, s en n van de steekproef\n",
    "X = math.dfstat.Mean.Cholesterolwaarde\n",
    "s = math.dfstat.Std.Cholesterolwaarde\n",
    "n = len(df['Cholesterolwaarde'])\n",
    "\n",
    "# Alpha bij betrouwbaarheidsinterval (95%)\n",
    "a_95 = 0.05\n",
    "\n",
    "# Bereken het betrouwbaarheidsinterval (95%)\n",
    "math.b_interval(a_95, X, s, n)"
   ]
  },
  {
   "cell_type": "code",
   "execution_count": 33,
   "id": "31a43106",
   "metadata": {},
   "outputs": [
    {
     "name": "stdout",
     "output_type": "stream",
     "text": [
      "Betrouwbaarheidsinterval bij alpha 0.1: [233.91337940071625, 241.05162059928372]\n"
     ]
    }
   ],
   "source": [
    "# Alpha bij betrouwbaarheidsinterval (90%)\n",
    "a_90 = 0.1\n",
    "\n",
    "# Bereken het betrouwbaarheidsinterval (90%)\n",
    "math.b_interval(a_90, X, s, n)"
   ]
  },
  {
   "cell_type": "markdown",
   "id": "5e9f67d1",
   "metadata": {},
   "source": [
    "Met deze twee betrouwbaarheidsintervallen kan worden geschat dat het daadwerkelijke populatie gemiddelde zich waarschijnlijk tussen de 234 en 241 zal bevinden."
   ]
  },
  {
   "cell_type": "markdown",
   "id": "8b29606e",
   "metadata": {},
   "source": [
    "[Terug naar het begin](#begin)"
   ]
  },
  {
   "cell_type": "markdown",
   "id": "5c3f44fa",
   "metadata": {},
   "source": [
    "--------------------"
   ]
  },
  {
   "cell_type": "markdown",
   "id": "62b3a940",
   "metadata": {},
   "source": [
    "### Tweede test <a name='test2'></a>\n",
    "\n",
    "Vervolgens wordt er gekeken of er voldoende reden is om aan te nemen dat het gemiddelde $\\mu$ een andere waarde heeft dan 235. Hiervoor worden eerst de hypotheses opgesteld:\n",
    "\n",
    "$H_0:$ Het gemiddelde is gelijk aan 235<br>\n",
    "$H_1:$ Het gemiddelde is niet gelijk aan 235\n",
    "\n",
    "Ook bij deze toetsing word er gebruik gemaakt van de 1-sample t-toets, door de niet normaal verdeelde data. Deze toets zal beoordeeld worden op basis van een beslissingscriterium van $\\alpha = 0.05$. Als de berekende p-waarde kleiner is dan $\\alpha$, wordt de nulhypothese verworpen en is de conlcusie dat er voldoende bewijs is om aan te nemen dat het gemiddelde $\\mu$ een andere waarde heeft dan 235. Als de p-waarde groter is dan $\\alpha$, dan is er onvoldoende bewijs om de nulhypothese te verwerpen."
   ]
  },
  {
   "cell_type": "code",
   "execution_count": 34,
   "id": "35c80908",
   "metadata": {},
   "outputs": [
    {
     "name": "stdout",
     "output_type": "stream",
     "text": [
      "De nulhypothese wordt behouden omdat de P-waarde 0.2521764606411305 groter is dan alpha 0.05\n"
     ]
    }
   ],
   "source": [
    "math.one_sample_t('Cholesterolwaarde', 235)"
   ]
  },
  {
   "cell_type": "markdown",
   "id": "5cbfa956",
   "metadata": {},
   "source": [
    "Zoals te zien is in de uitkomst van de bovenstaande cel wordt de nulhypothese niet word verworpen, dit betekent dat er onvoldoende statistisch bewijs is gevonden dat het gemiddelde niet gelijk is aan 235."
   ]
  },
  {
   "cell_type": "markdown",
   "id": "c20ac331",
   "metadata": {},
   "source": [
    "Wanneer de standaard deviatie van de populatie niet bekend is en er geschat moet worden aan de hand van de steekproef standaard deviatie s, zal nog steeds de t-verdeling worden gebruikt voor het berekenen van het betrouwbaarheidsinterval en de hypothesetoetsing. Dit komt doordat de t-verdeling rekening houdt met de onzekerheid die wordt geïntroduceerd door de schatting van de standaard deviatie.\n",
    "\n",
    "De formules en berekeningen voor het betrouwbaarheidsinterval en de hypothesetoetsing met de t-verdeling blijven hetzelfde, ongeacht of de populatie standaard deviatie bekend is of dat deze geschat moet worden. Het belangrijkste verschil is dat bij het schatten van de standaard deviatie, aan de hand van de steekproef standaard deviatie, de vrijheidsgraden worden aangepast (df = n-1) om rekening te houden met de extra onzekerheid in de schatting.\n",
    "\n",
    "In dit geval zou de berekening dus niet zijn veranderd, omdat de data al niet normaal verdeeld was. Door deze reden was al gekozen voor de t-toets over de z-toets, ondanks het weten van de populatie standaard deviatie."
   ]
  },
  {
   "cell_type": "markdown",
   "id": "fd07fb1f",
   "metadata": {},
   "source": [
    "[Terug naar het begin](#begin)"
   ]
  },
  {
   "cell_type": "markdown",
   "id": "c3d5f181",
   "metadata": {},
   "source": [
    "--------------------"
   ]
  },
  {
   "cell_type": "markdown",
   "id": "75c68bc6",
   "metadata": {},
   "source": [
    "## Onderzoeken van diastolische bloeddruk <a name='bloed'></a>"
   ]
  },
  {
   "cell_type": "markdown",
   "id": "2ee70927",
   "metadata": {},
   "source": [
    "Volgens bronnen zou de variabele 'Bloeddruk_diastolisch' normaal verdeeld moeten zijn. Daarbij zou het gemiddelde een waarde van 82 moeten hebben en de standaard deviatie zou een waarde van 12 moeten bedragen. Om na te gaan of dit klopt kan de volgende code worden gebruikt:"
   ]
  },
  {
   "cell_type": "code",
   "execution_count": 35,
   "id": "bb03c377",
   "metadata": {},
   "outputs": [
    {
     "name": "stdout",
     "output_type": "stream",
     "text": [
      "Skewness type: Normaal-verdeeld\n",
      "Skewness waarde: 0.4992566223517497\n"
     ]
    },
    {
     "data": {
      "image/png": "[encoded data removed]",
      "text/plain": [
       "<Figure size 576x432 with 1 Axes>"
      ]
     },
     "metadata": {},
     "output_type": "display_data"
    }
   ],
   "source": [
    "math.verdeling_c('Bloeddruk_diastolisch')"
   ]
  },
  {
   "cell_type": "markdown",
   "id": "df2da362",
   "metadata": {},
   "source": [
    "Zoals te zien is, is de waarde net aan normaal verdeeld. Dit is op basis van een vaak genomen grenswaarde van 0.5. Als de skewness van de grafiek deze grenswaarde overschrijdt op het positieve spectrum is de grafiek rechtsscheef. Als de skewness van de grafiek een waarde heeft van -0.5 of lager zou de grafiek worden gezien als linksscheef. Omdat de skewness van de grafiek 0.499 is, ligt het net op de grenswaarde en daardoor wordt de grafiek gezien als normaal verdeeld.\n",
    "\n",
    "De volgende stap is om te kijken of ook het gemiddelde en de standaarddeviatie kloppen."
   ]
  },
  {
   "cell_type": "code",
   "execution_count": 36,
   "id": "fe97abaa",
   "metadata": {
    "scrolled": true
   },
   "outputs": [
    {
     "name": "stdout",
     "output_type": "stream",
     "text": [
      "Het gemiddelde van Bloeddruk_diastolisch is: 82.0225\n",
      "De standaard deviatie van Bloeddruk_diastolisch is: 11.63046271251785\n"
     ]
    }
   ],
   "source": [
    "print(f'Het gemiddelde van Bloeddruk_diastolisch is: {math.dfstat.Mean.Bloeddruk_diastolisch}')\n",
    "print(f'De standaard deviatie van Bloeddruk_diastolisch is: {math.dfstat.Std.Bloeddruk_diastolisch}')"
   ]
  },
  {
   "cell_type": "markdown",
   "id": "3134ed96",
   "metadata": {},
   "source": [
    "Door af te ronden op 1 decimaal kan er makkelijk gezien worden of de waardes zo overeenkomen. Dit lijkt te kloppen, met een gemiddelde waarde van 82.0 en een standaard deviatie van 11.6 (wat afgerond 12 is) komen de waardes overeen met de bronnen. Dit betekent dat de dataset geen afwijkend beeld laat zien wat betreft de diastolische bloeddruk."
   ]
  },
  {
   "cell_type": "markdown",
   "id": "2beffc41",
   "metadata": {},
   "source": [
    "Nu deze informatie is bepaald kan er met de hand worden gekeken naar de kans op de fout van de tweede soort. De steekproef in de dataset wordt hierbij meegenomen, om de kans te berekenen. Hiervoor worden eerst de hypotheses opgesteld:\n",
    "\n",
    "$H_0:$ $\\mu = 90$<br>\n",
    "$H_1:$ $\\mu \\neq 90$\n",
    "\n",
    "Voor het toetsen van deze hypothese is de formule voor de z-toets bruikbaar:\n",
    "$z = \\frac{\\overline{x} - \\mu}{\\frac{\\sigma}{\\sqrt{n}}}$\n",
    "\n",
    "Deze formule heeft de volgende variabelen (er is afgerond voor simpliciteit):<br>\n",
    "$\\overline{x}:$ Het steekproefgemiddelde, $82$<br>\n",
    "$\\mu:$ Het (gegeven) populatiegemiddelde, $90$<br>\n",
    "$\\sigma:$ Standaard deviatie van de populatie, $12$<br>\n",
    "$n:$ De steekproefomvang, $400$<br>\n",
    "\n",
    "Ook is er een $\\alpha$ van 0.05. Dit, in combinatie met de normale verdeling van de variabele, geeft aan dat dat we zoeken naar de z-score die de laatste $2.5\\%$ van beide staarten omvat. Bij een $\\alpha$ van 0.05 hoort een waarde van $1 - (\\frac{0.05}{2}) = 0.975$, deze waarde is, volgens de [Z-score Tabel](https://www.z-table.com/) ongeveer gelijk aan 1.96. Dit is de grenswaarde van de z-toets die uitgevoerd gaat worden.\n",
    "\n",
    "Na het verzamelen van alle gegevens verloopt de berekening als volgt:\n",
    "\n",
    "$z = \\frac{\\overline{x} - \\mu}{\\frac{\\sigma}{\\sqrt{n}}} = \\frac{82 - 90}{\\frac{12}{20}} = \\frac{-8}{\\frac{12}{20}}$\n",
    "\n",
    "Delen door een breuk is gelijk aan vermenigvuldigen met het omgekeerde, dus de berekening gaat als volgt verder:\n",
    "\n",
    "$z = \\frac{-8}{\\frac{12}{20}} = -8 * \\frac{20}{12} = \\frac{-160}{12} = -13\\frac{1}{3}$\n",
    "\n",
    "De waarde van $-13\\frac{1}{3}$ is zeer ongebruikelijk en laag, daarnaast overschrijdt de waarde van de z-toets de grenswaarde 1.96. Deze berekende waarde is ook niet te vinden in de [Z-score Tabel](https://www.z-table.com/), waarbij de laagste waarde van -3.49 een kans van $0.02\\%$ betreft. Er kan vanuit worden gegaan dat, sinds $-13\\frac{1}{3}$ meer dan 3 maal zo laag is als -3.49, de kans nog lager zal liggen dan $0.02\\%$. Dit geeft aan dat de kans op een fout van de tweede soort extreem dicht tegen de $0\\%$ ligt. \n",
    "\n",
    "Dit betekent dat de kans dat de nulhypothese zal worden verworpen, als het gemiddelde afwijkt van 90. Dit komt omdat de waarschijnlijkheid dat een significant verschil gemist zal worden in de steekproefgegevens nagenoeg $0\\%$ is."
   ]
  },
  {
   "cell_type": "markdown",
   "id": "4d536e9f",
   "metadata": {},
   "source": [
    "[Terug naar het begin](#begin)"
   ]
  },
  {
   "cell_type": "markdown",
   "id": "4971c610",
   "metadata": {},
   "source": [
    "--------------------"
   ]
  },
  {
   "cell_type": "markdown",
   "id": "de77ce7e",
   "metadata": {},
   "source": [
    "## Suikerziekte en BMI <a name='suiker'></a>"
   ]
  },
  {
   "cell_type": "markdown",
   "id": "34d458f4",
   "metadata": {},
   "source": [
    "Nu word er gekeken of er een verschil zit bij de waarden van 'BMI_waarde' als er een andere categorie is bij 'Suikerziekte'. Suikerziekte heeft als mogelijke waardes de volgende uitkomsten: {0 : ja, 1 : nee}. Het doel is dus om te kijken of er een significant verschil zit bij de BMI van mensen met suikerziekte ten opzichte van mensen zonder suikerziekte. De volgende hypotheses zijn bij dit vraagstuk opgesteld:\n",
    "\n",
    "$H_0:$ De gemiddelde waarde van BMI is hetzelfde voor de categorieën van 'Suikerziekte'<br>\n",
    "$H_1:$ De gemiddelde waarde van BMI is verschillend voor de categorieën van 'Suikerziekte'\n",
    "\n",
    "Met de huidige kennis van het probleem en de waardes van suikerziekte kan, met behulp van python, de p-waarde worden berekend "
   ]
  },
  {
   "cell_type": "code",
   "execution_count": 37,
   "id": "3f437938",
   "metadata": {},
   "outputs": [
    {
     "name": "stdout",
     "output_type": "stream",
     "text": [
      "De nulhypothese wordt behouden omdat de P-waarde 0.3278294559424343 groter is dan alpha 0.05\n"
     ]
    }
   ],
   "source": [
    "# Splitsen van data voor veschillende Suikerziekte-categorieën\n",
    "sz_ja = df[df['Suikerziekte'] == 0]['BMI_waarde']\n",
    "sz_nee = df[df['Suikerziekte'] == 1]['BMI_waarde']\n",
    "\n",
    "# T-test uitvoeren\n",
    "t, p_waarde = stats.ttest_ind(sz_ja, sz_nee)\n",
    "\n",
    "alpha = 0.05\n",
    "\n",
    "# Bekijk de resultaten\n",
    "if p_waarde < alpha:\n",
    "    print('De nulhypothese wordt verworpen omdat de '\n",
    "            f'P-waarde {p_waarde} kleiner is dan alpha {alpha}')\n",
    "else:\n",
    "    print('De nulhypothese wordt behouden omdat de '\n",
    "            f'P-waarde {p_waarde} groter is dan alpha {alpha}')"
   ]
  },
  {
   "cell_type": "markdown",
   "id": "d359a3d0",
   "metadata": {},
   "source": [
    "Uit de gebruikte code blijkt dat er onvoldoende bewijs is om de nulhypothese te verwerpen. Dit betekent dat er in de dataset geen verschil zit tussen de verschillende categorieën van 'Suikerziekte' en de gemiddelde waardes van 'BMI_waarde'."
   ]
  },
  {
   "cell_type": "markdown",
   "id": "63f4971e",
   "metadata": {},
   "source": [
    "[Terug naar het begin](#begin)"
   ]
  }
 ],
 "metadata": {
  "kernelspec": {
   "display_name": "Python 3 (ipykernel)",
   "language": "python",
   "name": "python3"
  },
  "language_info": {
   "codemirror_mode": {
    "name": "ipython",
    "version": 3
   },
   "file_extension": ".py",
   "mimetype": "text/x-python",
   "name": "python",
   "nbconvert_exporter": "python",
   "pygments_lexer": "ipython3",
   "version": "3.9.12"
  }
 },
 "nbformat": 4,
 "nbformat_minor": 5
}
