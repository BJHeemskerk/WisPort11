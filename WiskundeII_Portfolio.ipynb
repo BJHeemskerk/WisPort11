{
 "cells": [
  {
   "cell_type": "markdown",
   "id": "180ea95b",
   "metadata": {},
   "source": [
    "# Wiskunde II: Portfolio <a name = 'begin'></a>"
   ]
  },
  {
   "cell_type": "markdown",
   "id": "156cd1af",
   "metadata": {},
   "source": [
    "## Inhoud\n",
    "\n",
    "1. [Deel A](#deela)\n",
    "    1. [Geslacht](#geslacht)"
   ]
  },
  {
   "cell_type": "markdown",
   "id": "e19f5362",
   "metadata": {},
   "source": [
    "## Importeren van de dataset en modules"
   ]
  },
  {
   "cell_type": "code",
   "execution_count": 33,
   "id": "7e9ff872",
   "metadata": {},
   "outputs": [],
   "source": [
    "import pandas as pd\n",
    "import numpy as np\n",
    "import matplotlib.pyplot as plt\n",
    "import seaborn as sns\n",
    "import scipy.stats\n",
    "\n",
    "sns.set_style('darkgrid')"
   ]
  },
  {
   "cell_type": "code",
   "execution_count": 2,
   "id": "8f2609ff",
   "metadata": {},
   "outputs": [],
   "source": [
    "import tailraiders as ta"
   ]
  },
  {
   "cell_type": "code",
   "execution_count": 3,
   "id": "9f9a555d",
   "metadata": {
    "collapsed": true
   },
   "outputs": [
    {
     "data": {
      "text/html": [
       "<div>\n",
       "<style scoped>\n",
       "    .dataframe tbody tr th:only-of-type {\n",
       "        vertical-align: middle;\n",
       "    }\n",
       "\n",
       "    .dataframe tbody tr th {\n",
       "        vertical-align: top;\n",
       "    }\n",
       "\n",
       "    .dataframe thead th {\n",
       "        text-align: right;\n",
       "    }\n",
       "</style>\n",
       "<table border=\"1\" class=\"dataframe\">\n",
       "  <thead>\n",
       "    <tr style=\"text-align: right;\">\n",
       "      <th></th>\n",
       "      <th>Geslacht</th>\n",
       "      <th>Leeftijd</th>\n",
       "      <th>Hoogste_opleiding</th>\n",
       "      <th>Roker</th>\n",
       "      <th>Sigaretten_per_dag</th>\n",
       "      <th>Bloeddrukmedicatie</th>\n",
       "      <th>Hersenbloeding</th>\n",
       "      <th>Hoge_bloeddruk</th>\n",
       "      <th>Suikerziekte</th>\n",
       "      <th>Cholesterolwaarde</th>\n",
       "      <th>...</th>\n",
       "      <th>Fysieke_gezondheid</th>\n",
       "      <th>Mentale_gezondheid</th>\n",
       "      <th>Kinderen</th>\n",
       "      <th>Autobezit</th>\n",
       "      <th>Sociaal_functioneren</th>\n",
       "      <th>Empatisch_reageren</th>\n",
       "      <th>Positieve_levenshouding</th>\n",
       "      <th>Mentale_vaardigheden</th>\n",
       "      <th>Leven_in_balans</th>\n",
       "      <th>Persoonlijke_grenzen</th>\n",
       "    </tr>\n",
       "  </thead>\n",
       "  <tbody>\n",
       "    <tr>\n",
       "      <th>0</th>\n",
       "      <td>1</td>\n",
       "      <td>39</td>\n",
       "      <td>4</td>\n",
       "      <td>0</td>\n",
       "      <td>0</td>\n",
       "      <td>0</td>\n",
       "      <td>0</td>\n",
       "      <td>0</td>\n",
       "      <td>0</td>\n",
       "      <td>195</td>\n",
       "      <td>...</td>\n",
       "      <td>5</td>\n",
       "      <td>4</td>\n",
       "      <td>1</td>\n",
       "      <td>0</td>\n",
       "      <td>4</td>\n",
       "      <td>3</td>\n",
       "      <td>3</td>\n",
       "      <td>2</td>\n",
       "      <td>1</td>\n",
       "      <td>1</td>\n",
       "    </tr>\n",
       "    <tr>\n",
       "      <th>1</th>\n",
       "      <td>0</td>\n",
       "      <td>46</td>\n",
       "      <td>2</td>\n",
       "      <td>0</td>\n",
       "      <td>0</td>\n",
       "      <td>0</td>\n",
       "      <td>0</td>\n",
       "      <td>0</td>\n",
       "      <td>0</td>\n",
       "      <td>250</td>\n",
       "      <td>...</td>\n",
       "      <td>3</td>\n",
       "      <td>6</td>\n",
       "      <td>0</td>\n",
       "      <td>0</td>\n",
       "      <td>5</td>\n",
       "      <td>4</td>\n",
       "      <td>3</td>\n",
       "      <td>2</td>\n",
       "      <td>5</td>\n",
       "      <td>5</td>\n",
       "    </tr>\n",
       "    <tr>\n",
       "      <th>2</th>\n",
       "      <td>1</td>\n",
       "      <td>48</td>\n",
       "      <td>1</td>\n",
       "      <td>1</td>\n",
       "      <td>20</td>\n",
       "      <td>0</td>\n",
       "      <td>0</td>\n",
       "      <td>0</td>\n",
       "      <td>0</td>\n",
       "      <td>245</td>\n",
       "      <td>...</td>\n",
       "      <td>5</td>\n",
       "      <td>4</td>\n",
       "      <td>1</td>\n",
       "      <td>0</td>\n",
       "      <td>4</td>\n",
       "      <td>3</td>\n",
       "      <td>4</td>\n",
       "      <td>4</td>\n",
       "      <td>5</td>\n",
       "      <td>5</td>\n",
       "    </tr>\n",
       "    <tr>\n",
       "      <th>3</th>\n",
       "      <td>0</td>\n",
       "      <td>61</td>\n",
       "      <td>3</td>\n",
       "      <td>1</td>\n",
       "      <td>30</td>\n",
       "      <td>0</td>\n",
       "      <td>0</td>\n",
       "      <td>1</td>\n",
       "      <td>0</td>\n",
       "      <td>225</td>\n",
       "      <td>...</td>\n",
       "      <td>2</td>\n",
       "      <td>3</td>\n",
       "      <td>0</td>\n",
       "      <td>0</td>\n",
       "      <td>5</td>\n",
       "      <td>5</td>\n",
       "      <td>3</td>\n",
       "      <td>2</td>\n",
       "      <td>4</td>\n",
       "      <td>3</td>\n",
       "    </tr>\n",
       "    <tr>\n",
       "      <th>4</th>\n",
       "      <td>0</td>\n",
       "      <td>46</td>\n",
       "      <td>3</td>\n",
       "      <td>1</td>\n",
       "      <td>23</td>\n",
       "      <td>0</td>\n",
       "      <td>0</td>\n",
       "      <td>0</td>\n",
       "      <td>0</td>\n",
       "      <td>285</td>\n",
       "      <td>...</td>\n",
       "      <td>2</td>\n",
       "      <td>5</td>\n",
       "      <td>0</td>\n",
       "      <td>0</td>\n",
       "      <td>4</td>\n",
       "      <td>3</td>\n",
       "      <td>2</td>\n",
       "      <td>2</td>\n",
       "      <td>3</td>\n",
       "      <td>2</td>\n",
       "    </tr>\n",
       "    <tr>\n",
       "      <th>...</th>\n",
       "      <td>...</td>\n",
       "      <td>...</td>\n",
       "      <td>...</td>\n",
       "      <td>...</td>\n",
       "      <td>...</td>\n",
       "      <td>...</td>\n",
       "      <td>...</td>\n",
       "      <td>...</td>\n",
       "      <td>...</td>\n",
       "      <td>...</td>\n",
       "      <td>...</td>\n",
       "      <td>...</td>\n",
       "      <td>...</td>\n",
       "      <td>...</td>\n",
       "      <td>...</td>\n",
       "      <td>...</td>\n",
       "      <td>...</td>\n",
       "      <td>...</td>\n",
       "      <td>...</td>\n",
       "      <td>...</td>\n",
       "      <td>...</td>\n",
       "    </tr>\n",
       "    <tr>\n",
       "      <th>395</th>\n",
       "      <td>0</td>\n",
       "      <td>65</td>\n",
       "      <td>2</td>\n",
       "      <td>0</td>\n",
       "      <td>0</td>\n",
       "      <td>#NULL!</td>\n",
       "      <td>0</td>\n",
       "      <td>1</td>\n",
       "      <td>0</td>\n",
       "      <td>270</td>\n",
       "      <td>...</td>\n",
       "      <td>4</td>\n",
       "      <td>5</td>\n",
       "      <td>1</td>\n",
       "      <td>0</td>\n",
       "      <td>1</td>\n",
       "      <td>4</td>\n",
       "      <td>4</td>\n",
       "      <td>4</td>\n",
       "      <td>5</td>\n",
       "      <td>5</td>\n",
       "    </tr>\n",
       "    <tr>\n",
       "      <th>396</th>\n",
       "      <td>1</td>\n",
       "      <td>39</td>\n",
       "      <td>3</td>\n",
       "      <td>0</td>\n",
       "      <td>0</td>\n",
       "      <td>0</td>\n",
       "      <td>0</td>\n",
       "      <td>0</td>\n",
       "      <td>0</td>\n",
       "      <td>202</td>\n",
       "      <td>...</td>\n",
       "      <td>3</td>\n",
       "      <td>6</td>\n",
       "      <td>0</td>\n",
       "      <td>0</td>\n",
       "      <td>2</td>\n",
       "      <td>1</td>\n",
       "      <td>4</td>\n",
       "      <td>4</td>\n",
       "      <td>3</td>\n",
       "      <td>2</td>\n",
       "    </tr>\n",
       "    <tr>\n",
       "      <th>397</th>\n",
       "      <td>0</td>\n",
       "      <td>47</td>\n",
       "      <td>2</td>\n",
       "      <td>1</td>\n",
       "      <td>3</td>\n",
       "      <td>0</td>\n",
       "      <td>0</td>\n",
       "      <td>0</td>\n",
       "      <td>0</td>\n",
       "      <td>155</td>\n",
       "      <td>...</td>\n",
       "      <td>2</td>\n",
       "      <td>6</td>\n",
       "      <td>0</td>\n",
       "      <td>1</td>\n",
       "      <td>3</td>\n",
       "      <td>2</td>\n",
       "      <td>2</td>\n",
       "      <td>1</td>\n",
       "      <td>4</td>\n",
       "      <td>3</td>\n",
       "    </tr>\n",
       "    <tr>\n",
       "      <th>398</th>\n",
       "      <td>1</td>\n",
       "      <td>59</td>\n",
       "      <td>1</td>\n",
       "      <td>1</td>\n",
       "      <td>43</td>\n",
       "      <td>0</td>\n",
       "      <td>0</td>\n",
       "      <td>0</td>\n",
       "      <td>0</td>\n",
       "      <td>207</td>\n",
       "      <td>...</td>\n",
       "      <td>3</td>\n",
       "      <td>6</td>\n",
       "      <td>0</td>\n",
       "      <td>0</td>\n",
       "      <td>1</td>\n",
       "      <td>1</td>\n",
       "      <td>5</td>\n",
       "      <td>4</td>\n",
       "      <td>5</td>\n",
       "      <td>4</td>\n",
       "    </tr>\n",
       "    <tr>\n",
       "      <th>399</th>\n",
       "      <td>1</td>\n",
       "      <td>66</td>\n",
       "      <td>1</td>\n",
       "      <td>0</td>\n",
       "      <td>0</td>\n",
       "      <td>0</td>\n",
       "      <td>0</td>\n",
       "      <td>1</td>\n",
       "      <td>0</td>\n",
       "      <td>276</td>\n",
       "      <td>...</td>\n",
       "      <td>3</td>\n",
       "      <td>6</td>\n",
       "      <td>0</td>\n",
       "      <td>0</td>\n",
       "      <td>3</td>\n",
       "      <td>3</td>\n",
       "      <td>4</td>\n",
       "      <td>4</td>\n",
       "      <td>3</td>\n",
       "      <td>3</td>\n",
       "    </tr>\n",
       "  </tbody>\n",
       "</table>\n",
       "<p>400 rows × 39 columns</p>\n",
       "</div>"
      ],
      "text/plain": [
       "     Geslacht  Leeftijd  Hoogste_opleiding  Roker  Sigaretten_per_dag  \\\n",
       "0           1        39                  4      0                   0   \n",
       "1           0        46                  2      0                   0   \n",
       "2           1        48                  1      1                  20   \n",
       "3           0        61                  3      1                  30   \n",
       "4           0        46                  3      1                  23   \n",
       "..        ...       ...                ...    ...                 ...   \n",
       "395         0        65                  2      0                   0   \n",
       "396         1        39                  3      0                   0   \n",
       "397         0        47                  2      1                   3   \n",
       "398         1        59                  1      1                  43   \n",
       "399         1        66                  1      0                   0   \n",
       "\n",
       "    Bloeddrukmedicatie  Hersenbloeding  Hoge_bloeddruk  Suikerziekte  \\\n",
       "0                    0               0               0             0   \n",
       "1                    0               0               0             0   \n",
       "2                    0               0               0             0   \n",
       "3                    0               0               1             0   \n",
       "4                    0               0               0             0   \n",
       "..                 ...             ...             ...           ...   \n",
       "395             #NULL!               0               1             0   \n",
       "396                  0               0               0             0   \n",
       "397                  0               0               0             0   \n",
       "398                  0               0               0             0   \n",
       "399                  0               0               1             0   \n",
       "\n",
       "     Cholesterolwaarde  ...  Fysieke_gezondheid  Mentale_gezondheid  Kinderen  \\\n",
       "0                  195  ...                   5                   4         1   \n",
       "1                  250  ...                   3                   6         0   \n",
       "2                  245  ...                   5                   4         1   \n",
       "3                  225  ...                   2                   3         0   \n",
       "4                  285  ...                   2                   5         0   \n",
       "..                 ...  ...                 ...                 ...       ...   \n",
       "395                270  ...                   4                   5         1   \n",
       "396                202  ...                   3                   6         0   \n",
       "397                155  ...                   2                   6         0   \n",
       "398                207  ...                   3                   6         0   \n",
       "399                276  ...                   3                   6         0   \n",
       "\n",
       "     Autobezit  Sociaal_functioneren  Empatisch_reageren  \\\n",
       "0            0                     4                   3   \n",
       "1            0                     5                   4   \n",
       "2            0                     4                   3   \n",
       "3            0                     5                   5   \n",
       "4            0                     4                   3   \n",
       "..         ...                   ...                 ...   \n",
       "395          0                     1                   4   \n",
       "396          0                     2                   1   \n",
       "397          1                     3                   2   \n",
       "398          0                     1                   1   \n",
       "399          0                     3                   3   \n",
       "\n",
       "     Positieve_levenshouding  Mentale_vaardigheden  Leven_in_balans  \\\n",
       "0                          3                     2                1   \n",
       "1                          3                     2                5   \n",
       "2                          4                     4                5   \n",
       "3                          3                     2                4   \n",
       "4                          2                     2                3   \n",
       "..                       ...                   ...              ...   \n",
       "395                        4                     4                5   \n",
       "396                        4                     4                3   \n",
       "397                        2                     1                4   \n",
       "398                        5                     4                5   \n",
       "399                        4                     4                3   \n",
       "\n",
       "     Persoonlijke_grenzen  \n",
       "0                       1  \n",
       "1                       5  \n",
       "2                       5  \n",
       "3                       3  \n",
       "4                       2  \n",
       "..                    ...  \n",
       "395                     5  \n",
       "396                     2  \n",
       "397                     3  \n",
       "398                     4  \n",
       "399                     3  \n",
       "\n",
       "[400 rows x 39 columns]"
      ]
     },
     "execution_count": 3,
     "metadata": {},
     "output_type": "execute_result"
    }
   ],
   "source": [
    "df = pd.read_csv('wisk2SPSSdatafile_def.csv')\n",
    "df"
   ]
  },
  {
   "cell_type": "code",
   "execution_count": 4,
   "id": "b4aaddc3",
   "metadata": {
    "collapsed": true
   },
   "outputs": [
    {
     "name": "stdout",
     "output_type": "stream",
     "text": [
      "<class 'pandas.core.frame.DataFrame'>\n",
      "RangeIndex: 400 entries, 0 to 399\n",
      "Data columns (total 39 columns):\n",
      " #   Column                         Non-Null Count  Dtype  \n",
      "---  ------                         --------------  -----  \n",
      " 0   Geslacht                       400 non-null    int64  \n",
      " 1   Leeftijd                       400 non-null    int64  \n",
      " 2   Hoogste_opleiding              400 non-null    int64  \n",
      " 3   Roker                          400 non-null    int64  \n",
      " 4   Sigaretten_per_dag             400 non-null    int64  \n",
      " 5   Bloeddrukmedicatie             400 non-null    object \n",
      " 6   Hersenbloeding                 400 non-null    int64  \n",
      " 7   Hoge_bloeddruk                 400 non-null    int64  \n",
      " 8   Suikerziekte                   400 non-null    int64  \n",
      " 9   Cholesterolwaarde              400 non-null    int64  \n",
      " 10  Bloeddruk_systolisch           400 non-null    float64\n",
      " 11  Bloeddruk_diastolisch          400 non-null    float64\n",
      " 12  BMI_waarde                     400 non-null    float64\n",
      " 13  Hartslagen                     400 non-null    int64  \n",
      " 14  Glucosegehalte                 400 non-null    int64  \n",
      " 15  Hoog_hartaanval_risico         400 non-null    int64  \n",
      " 16  Harddruggebruik                400 non-null    int64  \n",
      " 17  Softdruggebruik                400 non-null    int64  \n",
      " 18  Jaarlijks_medische_checkup     400 non-null    int64  \n",
      " 19  Wekelijkse_uren_screentime     400 non-null    int64  \n",
      " 20  Partner                        400 non-null    int64  \n",
      " 21  Gescheiden_ouders              400 non-null    int64  \n",
      " 22  Werkeloos                      400 non-null    int64  \n",
      " 23  Voldoende_dagelijkse_beweging  400 non-null    int64  \n",
      " 24  Fruitconsumptie                400 non-null    int64  \n",
      " 25  Groentenconsumptie             400 non-null    int64  \n",
      " 26  Alcoholconsumptie              400 non-null    int64  \n",
      " 27  Lid_sportclub                  400 non-null    int64  \n",
      " 28  Chronische_ziekte              400 non-null    int64  \n",
      " 29  Fysieke_gezondheid             400 non-null    int64  \n",
      " 30  Mentale_gezondheid             400 non-null    int64  \n",
      " 31  Kinderen                       400 non-null    int64  \n",
      " 32  Autobezit                      400 non-null    int64  \n",
      " 33  Sociaal_functioneren           400 non-null    int64  \n",
      " 34  Empatisch_reageren             400 non-null    int64  \n",
      " 35  Positieve_levenshouding        400 non-null    int64  \n",
      " 36  Mentale_vaardigheden           400 non-null    int64  \n",
      " 37  Leven_in_balans                400 non-null    int64  \n",
      " 38  Persoonlijke_grenzen           400 non-null    int64  \n",
      "dtypes: float64(3), int64(35), object(1)\n",
      "memory usage: 122.0+ KB\n"
     ]
    },
    {
     "data": {
      "text/html": [
       "<div>\n",
       "<style scoped>\n",
       "    .dataframe tbody tr th:only-of-type {\n",
       "        vertical-align: middle;\n",
       "    }\n",
       "\n",
       "    .dataframe tbody tr th {\n",
       "        vertical-align: top;\n",
       "    }\n",
       "\n",
       "    .dataframe thead th {\n",
       "        text-align: right;\n",
       "    }\n",
       "</style>\n",
       "<table border=\"1\" class=\"dataframe\">\n",
       "  <thead>\n",
       "    <tr style=\"text-align: right;\">\n",
       "      <th></th>\n",
       "      <th>Geslacht</th>\n",
       "      <th>Leeftijd</th>\n",
       "      <th>Hoogste_opleiding</th>\n",
       "      <th>Roker</th>\n",
       "      <th>Sigaretten_per_dag</th>\n",
       "      <th>Hersenbloeding</th>\n",
       "      <th>Hoge_bloeddruk</th>\n",
       "      <th>Suikerziekte</th>\n",
       "      <th>Cholesterolwaarde</th>\n",
       "      <th>Bloeddruk_systolisch</th>\n",
       "      <th>...</th>\n",
       "      <th>Fysieke_gezondheid</th>\n",
       "      <th>Mentale_gezondheid</th>\n",
       "      <th>Kinderen</th>\n",
       "      <th>Autobezit</th>\n",
       "      <th>Sociaal_functioneren</th>\n",
       "      <th>Empatisch_reageren</th>\n",
       "      <th>Positieve_levenshouding</th>\n",
       "      <th>Mentale_vaardigheden</th>\n",
       "      <th>Leven_in_balans</th>\n",
       "      <th>Persoonlijke_grenzen</th>\n",
       "    </tr>\n",
       "  </thead>\n",
       "  <tbody>\n",
       "    <tr>\n",
       "      <th>count</th>\n",
       "      <td>400.000000</td>\n",
       "      <td>400.000000</td>\n",
       "      <td>400.000000</td>\n",
       "      <td>400.000000</td>\n",
       "      <td>400.000000</td>\n",
       "      <td>400.0000</td>\n",
       "      <td>400.000000</td>\n",
       "      <td>400.000000</td>\n",
       "      <td>400.000000</td>\n",
       "      <td>400.000000</td>\n",
       "      <td>...</td>\n",
       "      <td>400.000000</td>\n",
       "      <td>400.000000</td>\n",
       "      <td>400.00000</td>\n",
       "      <td>400.00000</td>\n",
       "      <td>400.000000</td>\n",
       "      <td>400.000000</td>\n",
       "      <td>400.000000</td>\n",
       "      <td>400.000000</td>\n",
       "      <td>400.000000</td>\n",
       "      <td>400.000000</td>\n",
       "    </tr>\n",
       "    <tr>\n",
       "      <th>mean</th>\n",
       "      <td>0.405000</td>\n",
       "      <td>49.600000</td>\n",
       "      <td>1.975000</td>\n",
       "      <td>0.477500</td>\n",
       "      <td>9.490000</td>\n",
       "      <td>0.0025</td>\n",
       "      <td>0.300000</td>\n",
       "      <td>0.030000</td>\n",
       "      <td>237.482500</td>\n",
       "      <td>132.225000</td>\n",
       "      <td>...</td>\n",
       "      <td>2.877500</td>\n",
       "      <td>4.797500</td>\n",
       "      <td>0.29250</td>\n",
       "      <td>0.38750</td>\n",
       "      <td>2.892500</td>\n",
       "      <td>2.597500</td>\n",
       "      <td>3.065000</td>\n",
       "      <td>2.732500</td>\n",
       "      <td>3.092500</td>\n",
       "      <td>2.770000</td>\n",
       "    </tr>\n",
       "    <tr>\n",
       "      <th>std</th>\n",
       "      <td>0.491507</td>\n",
       "      <td>8.881001</td>\n",
       "      <td>1.032978</td>\n",
       "      <td>0.500119</td>\n",
       "      <td>12.724964</td>\n",
       "      <td>0.0500</td>\n",
       "      <td>0.458831</td>\n",
       "      <td>0.170801</td>\n",
       "      <td>43.296665</td>\n",
       "      <td>22.392363</td>\n",
       "      <td>...</td>\n",
       "      <td>1.109311</td>\n",
       "      <td>1.029146</td>\n",
       "      <td>0.45548</td>\n",
       "      <td>0.48779</td>\n",
       "      <td>1.210209</td>\n",
       "      <td>1.154915</td>\n",
       "      <td>1.272723</td>\n",
       "      <td>1.244917</td>\n",
       "      <td>1.306987</td>\n",
       "      <td>1.255404</td>\n",
       "    </tr>\n",
       "    <tr>\n",
       "      <th>min</th>\n",
       "      <td>0.000000</td>\n",
       "      <td>34.000000</td>\n",
       "      <td>1.000000</td>\n",
       "      <td>0.000000</td>\n",
       "      <td>0.000000</td>\n",
       "      <td>0.0000</td>\n",
       "      <td>0.000000</td>\n",
       "      <td>0.000000</td>\n",
       "      <td>129.000000</td>\n",
       "      <td>94.000000</td>\n",
       "      <td>...</td>\n",
       "      <td>1.000000</td>\n",
       "      <td>2.000000</td>\n",
       "      <td>0.00000</td>\n",
       "      <td>0.00000</td>\n",
       "      <td>1.000000</td>\n",
       "      <td>1.000000</td>\n",
       "      <td>1.000000</td>\n",
       "      <td>1.000000</td>\n",
       "      <td>1.000000</td>\n",
       "      <td>0.000000</td>\n",
       "    </tr>\n",
       "    <tr>\n",
       "      <th>25%</th>\n",
       "      <td>0.000000</td>\n",
       "      <td>42.000000</td>\n",
       "      <td>1.000000</td>\n",
       "      <td>0.000000</td>\n",
       "      <td>0.000000</td>\n",
       "      <td>0.0000</td>\n",
       "      <td>0.000000</td>\n",
       "      <td>0.000000</td>\n",
       "      <td>207.000000</td>\n",
       "      <td>116.000000</td>\n",
       "      <td>...</td>\n",
       "      <td>2.000000</td>\n",
       "      <td>4.000000</td>\n",
       "      <td>0.00000</td>\n",
       "      <td>0.00000</td>\n",
       "      <td>2.000000</td>\n",
       "      <td>2.000000</td>\n",
       "      <td>2.000000</td>\n",
       "      <td>2.000000</td>\n",
       "      <td>2.000000</td>\n",
       "      <td>2.000000</td>\n",
       "    </tr>\n",
       "    <tr>\n",
       "      <th>50%</th>\n",
       "      <td>0.000000</td>\n",
       "      <td>49.000000</td>\n",
       "      <td>2.000000</td>\n",
       "      <td>0.000000</td>\n",
       "      <td>0.000000</td>\n",
       "      <td>0.0000</td>\n",
       "      <td>0.000000</td>\n",
       "      <td>0.000000</td>\n",
       "      <td>238.000000</td>\n",
       "      <td>128.000000</td>\n",
       "      <td>...</td>\n",
       "      <td>3.000000</td>\n",
       "      <td>5.000000</td>\n",
       "      <td>0.00000</td>\n",
       "      <td>0.00000</td>\n",
       "      <td>3.000000</td>\n",
       "      <td>3.000000</td>\n",
       "      <td>3.000000</td>\n",
       "      <td>3.000000</td>\n",
       "      <td>3.000000</td>\n",
       "      <td>3.000000</td>\n",
       "    </tr>\n",
       "    <tr>\n",
       "      <th>75%</th>\n",
       "      <td>1.000000</td>\n",
       "      <td>56.000000</td>\n",
       "      <td>3.000000</td>\n",
       "      <td>1.000000</td>\n",
       "      <td>20.000000</td>\n",
       "      <td>0.0000</td>\n",
       "      <td>1.000000</td>\n",
       "      <td>0.000000</td>\n",
       "      <td>265.000000</td>\n",
       "      <td>144.000000</td>\n",
       "      <td>...</td>\n",
       "      <td>4.000000</td>\n",
       "      <td>6.000000</td>\n",
       "      <td>1.00000</td>\n",
       "      <td>1.00000</td>\n",
       "      <td>4.000000</td>\n",
       "      <td>3.000000</td>\n",
       "      <td>4.000000</td>\n",
       "      <td>4.000000</td>\n",
       "      <td>4.000000</td>\n",
       "      <td>4.000000</td>\n",
       "    </tr>\n",
       "    <tr>\n",
       "      <th>max</th>\n",
       "      <td>1.000000</td>\n",
       "      <td>68.000000</td>\n",
       "      <td>4.000000</td>\n",
       "      <td>1.000000</td>\n",
       "      <td>60.000000</td>\n",
       "      <td>1.0000</td>\n",
       "      <td>1.000000</td>\n",
       "      <td>1.000000</td>\n",
       "      <td>464.000000</td>\n",
       "      <td>215.000000</td>\n",
       "      <td>...</td>\n",
       "      <td>5.000000</td>\n",
       "      <td>6.000000</td>\n",
       "      <td>1.00000</td>\n",
       "      <td>1.00000</td>\n",
       "      <td>5.000000</td>\n",
       "      <td>5.000000</td>\n",
       "      <td>5.000000</td>\n",
       "      <td>5.000000</td>\n",
       "      <td>5.000000</td>\n",
       "      <td>5.000000</td>\n",
       "    </tr>\n",
       "  </tbody>\n",
       "</table>\n",
       "<p>8 rows × 38 columns</p>\n",
       "</div>"
      ],
      "text/plain": [
       "         Geslacht    Leeftijd  Hoogste_opleiding       Roker  \\\n",
       "count  400.000000  400.000000         400.000000  400.000000   \n",
       "mean     0.405000   49.600000           1.975000    0.477500   \n",
       "std      0.491507    8.881001           1.032978    0.500119   \n",
       "min      0.000000   34.000000           1.000000    0.000000   \n",
       "25%      0.000000   42.000000           1.000000    0.000000   \n",
       "50%      0.000000   49.000000           2.000000    0.000000   \n",
       "75%      1.000000   56.000000           3.000000    1.000000   \n",
       "max      1.000000   68.000000           4.000000    1.000000   \n",
       "\n",
       "       Sigaretten_per_dag  Hersenbloeding  Hoge_bloeddruk  Suikerziekte  \\\n",
       "count          400.000000        400.0000      400.000000    400.000000   \n",
       "mean             9.490000          0.0025        0.300000      0.030000   \n",
       "std             12.724964          0.0500        0.458831      0.170801   \n",
       "min              0.000000          0.0000        0.000000      0.000000   \n",
       "25%              0.000000          0.0000        0.000000      0.000000   \n",
       "50%              0.000000          0.0000        0.000000      0.000000   \n",
       "75%             20.000000          0.0000        1.000000      0.000000   \n",
       "max             60.000000          1.0000        1.000000      1.000000   \n",
       "\n",
       "       Cholesterolwaarde  Bloeddruk_systolisch  ...  Fysieke_gezondheid  \\\n",
       "count         400.000000            400.000000  ...          400.000000   \n",
       "mean          237.482500            132.225000  ...            2.877500   \n",
       "std            43.296665             22.392363  ...            1.109311   \n",
       "min           129.000000             94.000000  ...            1.000000   \n",
       "25%           207.000000            116.000000  ...            2.000000   \n",
       "50%           238.000000            128.000000  ...            3.000000   \n",
       "75%           265.000000            144.000000  ...            4.000000   \n",
       "max           464.000000            215.000000  ...            5.000000   \n",
       "\n",
       "       Mentale_gezondheid   Kinderen  Autobezit  Sociaal_functioneren  \\\n",
       "count          400.000000  400.00000  400.00000            400.000000   \n",
       "mean             4.797500    0.29250    0.38750              2.892500   \n",
       "std              1.029146    0.45548    0.48779              1.210209   \n",
       "min              2.000000    0.00000    0.00000              1.000000   \n",
       "25%              4.000000    0.00000    0.00000              2.000000   \n",
       "50%              5.000000    0.00000    0.00000              3.000000   \n",
       "75%              6.000000    1.00000    1.00000              4.000000   \n",
       "max              6.000000    1.00000    1.00000              5.000000   \n",
       "\n",
       "       Empatisch_reageren  Positieve_levenshouding  Mentale_vaardigheden  \\\n",
       "count          400.000000               400.000000            400.000000   \n",
       "mean             2.597500                 3.065000              2.732500   \n",
       "std              1.154915                 1.272723              1.244917   \n",
       "min              1.000000                 1.000000              1.000000   \n",
       "25%              2.000000                 2.000000              2.000000   \n",
       "50%              3.000000                 3.000000              3.000000   \n",
       "75%              3.000000                 4.000000              4.000000   \n",
       "max              5.000000                 5.000000              5.000000   \n",
       "\n",
       "       Leven_in_balans  Persoonlijke_grenzen  \n",
       "count       400.000000            400.000000  \n",
       "mean          3.092500              2.770000  \n",
       "std           1.306987              1.255404  \n",
       "min           1.000000              0.000000  \n",
       "25%           2.000000              2.000000  \n",
       "50%           3.000000              3.000000  \n",
       "75%           4.000000              4.000000  \n",
       "max           5.000000              5.000000  \n",
       "\n",
       "[8 rows x 38 columns]"
      ]
     },
     "metadata": {},
     "output_type": "display_data"
    },
    {
     "data": {
      "text/plain": [
       "None"
      ]
     },
     "metadata": {},
     "output_type": "display_data"
    }
   ],
   "source": [
    "display(df.describe(), df.info())"
   ]
  },
  {
   "cell_type": "markdown",
   "id": "86d04de5",
   "metadata": {},
   "source": [
    "[Terug naar het begin](#begin)"
   ]
  },
  {
   "cell_type": "markdown",
   "id": "f370d3b2",
   "metadata": {},
   "source": [
    "# Deel A: <a name = 'deela'></a>\n",
    "\n",
    "Kies eerst 5 variablen van de dataset, zodanig dat elk meetniveau ook wordt gebruikt."
   ]
  },
  {
   "cell_type": "code",
   "execution_count": 5,
   "id": "38dcb611",
   "metadata": {
    "collapsed": true
   },
   "outputs": [
    {
     "data": {
      "text/html": [
       "<div>\n",
       "<style scoped>\n",
       "    .dataframe tbody tr th:only-of-type {\n",
       "        vertical-align: middle;\n",
       "    }\n",
       "\n",
       "    .dataframe tbody tr th {\n",
       "        vertical-align: top;\n",
       "    }\n",
       "\n",
       "    .dataframe thead th {\n",
       "        text-align: right;\n",
       "    }\n",
       "</style>\n",
       "<table border=\"1\" class=\"dataframe\">\n",
       "  <thead>\n",
       "    <tr style=\"text-align: right;\">\n",
       "      <th></th>\n",
       "      <th>Geslacht</th>\n",
       "      <th>Leeftijd</th>\n",
       "      <th>Hoogste_opleiding</th>\n",
       "      <th>BMI_waarde</th>\n",
       "      <th>Werkeloos</th>\n",
       "    </tr>\n",
       "  </thead>\n",
       "  <tbody>\n",
       "    <tr>\n",
       "      <th>0</th>\n",
       "      <td>1</td>\n",
       "      <td>39</td>\n",
       "      <td>4</td>\n",
       "      <td>26.97</td>\n",
       "      <td>0</td>\n",
       "    </tr>\n",
       "    <tr>\n",
       "      <th>1</th>\n",
       "      <td>0</td>\n",
       "      <td>46</td>\n",
       "      <td>2</td>\n",
       "      <td>28.73</td>\n",
       "      <td>0</td>\n",
       "    </tr>\n",
       "    <tr>\n",
       "      <th>2</th>\n",
       "      <td>1</td>\n",
       "      <td>48</td>\n",
       "      <td>1</td>\n",
       "      <td>25.34</td>\n",
       "      <td>0</td>\n",
       "    </tr>\n",
       "    <tr>\n",
       "      <th>3</th>\n",
       "      <td>0</td>\n",
       "      <td>61</td>\n",
       "      <td>3</td>\n",
       "      <td>28.58</td>\n",
       "      <td>0</td>\n",
       "    </tr>\n",
       "    <tr>\n",
       "      <th>4</th>\n",
       "      <td>0</td>\n",
       "      <td>46</td>\n",
       "      <td>3</td>\n",
       "      <td>23.10</td>\n",
       "      <td>0</td>\n",
       "    </tr>\n",
       "  </tbody>\n",
       "</table>\n",
       "</div>"
      ],
      "text/plain": [
       "   Geslacht  Leeftijd  Hoogste_opleiding  BMI_waarde  Werkeloos\n",
       "0         1        39                  4       26.97          0\n",
       "1         0        46                  2       28.73          0\n",
       "2         1        48                  1       25.34          0\n",
       "3         0        61                  3       28.58          0\n",
       "4         0        46                  3       23.10          0"
      ]
     },
     "execution_count": 5,
     "metadata": {},
     "output_type": "execute_result"
    }
   ],
   "source": [
    "df[['Geslacht', 'Leeftijd', 'Hoogste_opleiding', 'BMI_waarde', 'Werkeloos']].head()"
   ]
  },
  {
   "cell_type": "markdown",
   "id": "5bf705d9",
   "metadata": {},
   "source": [
    "[Terug naar het begin](#begin)"
   ]
  },
  {
   "cell_type": "markdown",
   "id": "56ddc752",
   "metadata": {},
   "source": [
    "## Analyse van de data\n",
    "\n",
    "Om te kijken waarmee er gewerkt gaat worden, zal er eerst gekeken worden naar de eerste 5 regels van de dataset. Op basis daarvan worden de eerste keuzes voor de kengetallen en meetniveau's gemaakt."
   ]
  },
  {
   "cell_type": "markdown",
   "id": "67bad306",
   "metadata": {},
   "source": [
    "### 1. Geslacht <a name='geslacht'></a>\n",
    "Het geslacht bevindt zich op het nominale meetniveau, voor deze reden zal de modus gebruikt worden als kengetal. Om op een duidelijke manier met deze waarde om te kunnen gaan in python, zijn de waardes omgezet naar het volgende: {0 : man, 1 : vrouw}.\n",
    "\n",
    "De modus van de eerste 5 regels is 0, er zijn namelijk 3 nullen en 2 énen. Dit geeft aan, op basis van de eerste 5 regels, dat de meest voorkomende geslacht man is.\n",
    "\n",
    "Omdat bij de kolom 'Geslacht' er sprake is van een nominale waarde met 2 mogelijke opties, is er gekozen voor een staafdiagram. Op deze manier is het makkelijk te zien hoe de verdeling in elkaar zit. Ook is het verschil tussen de waarde 'man' en 'vrouw' op deze manier het makkelijkst te tonen. Deze grafiek kan worden opgesteld worden door de seaborn functie sns.countplot te gebruiken, zoals te zien in het voorbeeld hieronder."
   ]
  },
  {
   "cell_type": "code",
   "execution_count": 38,
   "id": "e3fbfabf",
   "metadata": {},
   "outputs": [
    {
     "data": {
      "image/png": "[encoded data removed]",
      "text/plain": [
       "<Figure size 432x288 with 1 Axes>"
      ]
     },
     "metadata": {},
     "output_type": "display_data"
    }
   ],
   "source": [
    "sns.countplot(data = df, x= 'Geslacht')\n",
    "plt.xlabel('Geslacht')\n",
    "plt.ylabel('Aantal waarnemingen')\n",
    "plt.title('Verdeling van Geslacht')\n",
    "plt.show()"
   ]
  },
  {
   "cell_type": "markdown",
   "id": "0180f524",
   "metadata": {},
   "source": [
    "Het geslacht heeft in deze dataset 2 verschillende waardes, mannelijk en vrouwelijk. Deze waarde kennen geen numerieke schaal of volgorde. Het ene geslacht is namelijk niet beter dan het andere.\n",
    "\n",
    "Het kengetal dat het beste past bij elke nominale waarde is de modus, dit is omdat er voor de andere kengetallen gebruik gemaakt moet worden van volgorde of duidelijke numerieke waarden. Voor nominale waarden is het daarom dus makkelijker om te kijken naar de frequentie en de modus."
   ]
  },
  {
   "cell_type": "code",
   "execution_count": 6,
   "id": "c9f65eee",
   "metadata": {
    "scrolled": false
   },
   "outputs": [
    {
     "name": "stdout",
     "output_type": "stream",
     "text": [
      "0    238\n",
      "1    162\n",
      "Name: Geslacht, dtype: int64\n"
     ]
    }
   ],
   "source": [
    "print(df['Geslacht'].value_counts())"
   ]
  },
  {
   "cell_type": "markdown",
   "id": "92a04243",
   "metadata": {},
   "source": [
    "Bij het bekijken van de frequentie is er te zien dat de waarde 0 (= man) vaker gezien is dan de waarde 1 (= vrouw). Aangezien het totaal aantal rijen van deze dataset 400 is, geeft de frequentie weer dat ongeveer 60% van de mensen een man is. Dit geeft ook meteen het meest voorkomende geslacht in de dataset aan."
   ]
  },
  {
   "cell_type": "markdown",
   "id": "57edac02",
   "metadata": {},
   "source": [
    "[Terug naar het begin](#begin)"
   ]
  },
  {
   "cell_type": "markdown",
   "id": "aeaebc4b",
   "metadata": {},
   "source": [
    "### 2. Hoogste opleiding\n",
    "De hoogst behaalde opleiding bevindt zich op het ordinale meetniveau, daarom zal de mediaan gebruikt worden. Het verschil tussen een variabel als geslacht en deze is dat de hoogste opleiding wel een volgorde kent. Door deze volgorde is het een ordinaal meetniveau, aangezien de betreffende waardes zelf geen getallen zijn. Ook hierbij zijn de waardes weer omgezet naar getallen, deze betreffen: {1 : Middelbare School, 2 : MBO, 3 : HBO, 4 : Universiteit}. Deze waardes gaan in niveau omhoog, op dezelfde waarde als de getallen die er aan zijn toegewezen, 1 is het laagste niveau en 4 is het hoogste niveau.\n",
    "\n",
    "De mediaan van deze 5 regels is 3, het HBO. Dit is bepaald door de kennis dat de mediaan het middelste getal is in een reeks. De reeks voor deze eerste 5 regels is {1, 2, 3, 3, 4}. Omdat het een oneven aantal is kan er voor het middelste getal worden gekozen. Bij de mediaan hoort ook de IQR, deze waarde wordt als volgt berekent:\n",
    "``` \n",
    "Eerst bepalen we Q1 en Q3. Q1 heeft een waarde van 1.5, de mediaan van {1, 2}. Q3 heeft een waarde van 3.5, de mediaan van {3, 4}. Om de IQR te bepalen halen we Q1 van Q3 af. Dit geeft ons Q3 - Q1 = IQR, dit leidt tot 3.5 - 1.5 = 2.\n",
    "```\n",
    "\n",
    "Ook voor de hoogste opleiding zal gebruik worden gemaakt van een staafdiagram. Deze variabele heeft ook meerdere categorieën en in een staafdiagram kan duidelijk de frequentie van een staafdiagram worden getoond. Deze waardes zullen ook van 1 naar 4 genummerd staan in de grafiek. Ook deze grafiek zal worden getoond met behulp van sns.countplot."
   ]
  },
  {
   "cell_type": "code",
   "execution_count": 36,
   "id": "6545e2af",
   "metadata": {},
   "outputs": [
    {
     "data": {
      "image/png": "[encoded data removed]",
      "text/plain": [
       "<Figure size 432x288 with 1 Axes>"
      ]
     },
     "metadata": {},
     "output_type": "display_data"
    }
   ],
   "source": [
    "sns.countplot(data = df, x = 'Hoogste_opleiding')\n",
    "plt.xlabel('Hoogste opleiding')\n",
    "plt.ylabel('Aantal waarnemingen')\n",
    "plt.title('Verdeling van Hoogste opleiding')\n",
    "plt.show()"
   ]
  },
  {
   "cell_type": "markdown",
   "id": "d55859ee",
   "metadata": {},
   "source": [
    "Bij een ordinaal meetniveau word altijd gekeken naar de mediaan. Hoewel de modus ook een mogelijkheid zou zijn, is deze waarde vaak niet geschikt als kengetal bij ordinale variabelen. De modus kan namelijk zal namelijk het meest voorkomende niveau geven, in plaats van dat de mediaan het middelste niveau weergeeft."
   ]
  },
  {
   "cell_type": "code",
   "execution_count": 7,
   "id": "32983061",
   "metadata": {},
   "outputs": [
    {
     "name": "stdout",
     "output_type": "stream",
     "text": [
      "2.0\n"
     ]
    }
   ],
   "source": [
    "print(np.median(df['Hoogste_opleiding']))"
   ]
  },
  {
   "cell_type": "markdown",
   "id": "6ac076e6",
   "metadata": {},
   "source": [
    "De mediaan geeft als waarde 2 terug, dit geeft aan dat het middelste niveau van de personen in de dataset het MBO is. Als de mediaan wordt bepaalt geeft dat ook opening om te kijken naar de spreiding, om een duidelijker beeld te schetsten. Hiervoor wordt De IQR, Inter Quartile Range, gebruikt. Dit kan op de volgende manier:"
   ]
  },
  {
   "cell_type": "code",
   "execution_count": 8,
   "id": "6a73b8a0",
   "metadata": {},
   "outputs": [
    {
     "name": "stdout",
     "output_type": "stream",
     "text": [
      "3.0 - 1.0 = 2.0\n"
     ]
    }
   ],
   "source": [
    "q1, q3 = np.percentile(df['Hoogste_opleiding'], [25, 75])\n",
    "iqr = q3 - q1\n",
    "print(f'{q3} - {q1} = {iqr}')"
   ]
  },
  {
   "cell_type": "markdown",
   "id": "617b2ea1",
   "metadata": {},
   "source": [
    "Zoals te zien is aan de getoonde berekening, is de q1 waarde 1 (= Middelbare School) en de q3 waarde is 3 (= HBO). Dit geeft aan dat op de afstand tussen de zones van 25% en 75% van de data 2 niveaus groot is."
   ]
  },
  {
   "cell_type": "markdown",
   "id": "ff32954e",
   "metadata": {},
   "source": [
    "[Terug naar het begin](#begin)"
   ]
  },
  {
   "cell_type": "markdown",
   "id": "8ebb8902",
   "metadata": {},
   "source": [
    "### 3. Leeftijd \n",
    "Leeftijd bevindt zich op het meetniveau ratio. Ten opzichte van een interval, nemen wij de waarde leeftijd aan met de geboorte als absoluut nulpunt. Daardoor is er een keuze tussen het gemiddelde en de mediaan. Wegens de hoeveelheid data en kennis beschikbaar is er gekozen voor de mediaan. Leeftijd kan namelijk erg breedt zijn, ook in de eerste 5 regels is dit te zien. De hoogste waarde is 61 en de laagste waarde is 39. De mediaan van de leeftijd is 46, het middelste getal van de getallenreeks {39, 46, 46, 48, 61}. Ook hier moet de IQR weer worden berekent:\n",
    "```\n",
    "Q1 is 43, het midden van {39, 46} en Q3 is 54, het midden van {48, 61}. De IQR is dan weer Q3 - Q1 = IQR, dus 54 - 43 = 11\n",
    "```\n",
    "\n",
    "Voor de variabele Leeftijd in de gehele dataset, kunnen we een geschikte grafiek maken om de verdeling van leeftijden te visualiseren. Aangezien Leeftijd een numerieke variabele is, kunnen we een histogram gebruiken om de frequentie of het aantal waarnemingen in verschillende leeftijdsgroepen weer te geven. Deze grafiek wordt getoond met behulp van de sns.histplot functie."
   ]
  },
  {
   "cell_type": "code",
   "execution_count": 42,
   "id": "87d43417",
   "metadata": {},
   "outputs": [
    {
     "data": {
      "image/png": "[encoded data removed]",
      "text/plain": [
       "<Figure size 432x288 with 1 Axes>"
      ]
     },
     "metadata": {},
     "output_type": "display_data"
    }
   ],
   "source": [
    "sns.histplot(data = df, x = 'Leeftijd')\n",
    "plt.xlabel('Leeftijd')\n",
    "plt.ylabel('Aantal waarnemingen')\n",
    "plt.title('Verdeling van Leeftijd')\n",
    "plt.show()"
   ]
  },
  {
   "cell_type": "markdown",
   "id": "7482d447",
   "metadata": {},
   "source": [
    "Voor numerieke waardes van interval of ratio niveau is een keuze tussen de mediaan of het gemiddelde als kengetal belangrijk. Voor de leeftijd is gekozen om de mediaan te nemen. Deze waarde is gekozen omdat de verdeling meerdere pieken heeft rond bepaalde leeftijdsgroeperingen."
   ]
  },
  {
   "cell_type": "code",
   "execution_count": 45,
   "id": "ecb6ca46",
   "metadata": {},
   "outputs": [
    {
     "name": "stdout",
     "output_type": "stream",
     "text": [
      "49.0\n"
     ]
    }
   ],
   "source": [
    "print(np.median(df['Leeftijd']))"
   ]
  },
  {
   "cell_type": "markdown",
   "id": "e455a733",
   "metadata": {},
   "source": [
    "Het bepalen van de mediaan geeft de leeftijd 49 weer. Dit betekent dat de middelste waarde tussen all leeftijden 49 is. Het gemiddelde kan hiervan afwijken, maar wordt sneller beïnvloedt door outliers. Bij de mediaan hoort ook nog de IQR, deze zal meer inzage geven over de spreiding van de leeftijd."
   ]
  },
  {
   "cell_type": "code",
   "execution_count": 46,
   "id": "0a9b26fc",
   "metadata": {},
   "outputs": [
    {
     "name": "stdout",
     "output_type": "stream",
     "text": [
      "56.0 - 42.0 = 14.0\n"
     ]
    }
   ],
   "source": [
    "q1, q3 = np.percentile(df['Leeftijd'], [25, 75])\n",
    "iqr = q3 - q1\n",
    "print(f'{q3} - {q1} = {iqr}')"
   ]
  },
  {
   "cell_type": "markdown",
   "id": "83b1a952",
   "metadata": {},
   "source": [
    "Deze berekening geeft aan dat er 14 jaar zit tussen de 25% en de 75% lijn van de totale data. Aangezien de data van de Leeftijd variabele strekt van 34 tot 66, is er te zien dat de data buiten deze percentielen meer gespreid is dan de data binnen de percentielen."
   ]
  },
  {
   "cell_type": "markdown",
   "id": "492abaa2",
   "metadata": {},
   "source": [
    "[Terug naar het begin](#begin)"
   ]
  },
  {
   "cell_type": "markdown",
   "id": "5466713c",
   "metadata": {},
   "source": [
    "### 4. BMI \n",
    "De BMI waarde bevindt zich op interval niveau. Dit is omdat deze numerieke waarde geen duidelijk absoluut nulpunt heeft. Dit is omdat een BMI van 0 niet speceficeerd welk van de 2 waardes dan nul zou zijn, de lengte van een individu of het gewicht van een individu. Daarnaast is het onmogelijk om als persoon geen lengte of gewicht te hebben op aarde, waardoor een BMI van nul niet al nulpunt kan worden beschouwd. Omdat de BMI een wat stabielere waarde is dan leeftijd, hiermee wordt bedoeld dat de waarde meer consistent tussen bepaalde waardes in ligt, wordt er gekozen voor het gemiddelde. Het gemiddelde is de som van alle waarden gedeeld door het aantal waarnemingen. De waarde is:\n",
    "```\n",
    "(26.97 + 28.73 +25.34 + 28.58 + 23.10) / 5 = 132.72 / 5 = 26.54\n",
    "```\n",
    "\n",
    "Bij het gemiddelde komt ook de standaard deviatie kijken, een waarde die meer inzage geeft over de spreiding van de data. Deze waarde wordt berekent door de wortel te nemen van de varaintie. In de onderstaande formule worden deze gecombineerd, waarbij de berekening binnen de wortel van de variantie is. Omdat de gebruikte data maar een deel van de totale data is zal bij het aantal waarnemingen (n) er de waarde 1 vanaf getrokken worden, om te corrigeren voor de potetiële bias. \n",
    "\n",
    "$\\sqrt{\\frac{\\sum(x - gem)^2}{n - 1}} $\n",
    "\n",
    "```\n",
    "De waarde van n - 1 = 5 - 1 = 4.\n",
    "De waarde van SOM(x-gem) is (26.97 - 26.54)^2 + (28.73 - 26.54)^2 + (25.34 - 26.54)^2 + (28.58 - 26.54)^2 + (23.10 - 26.54)^2 = 22.41619999999\n",
    "De variantie is dan 22.41619999999 / 4 = 5.6040499999999955\n",
    "De standaard deviatie is dan de wortel van 5.6040499999999955 = 2.3672874772616854\n",
    "```\n",
    "\n",
    "De grafiek die het beste past bij BMI is "
   ]
  },
  {
   "cell_type": "code",
   "execution_count": null,
   "id": "6073c189",
   "metadata": {},
   "outputs": [],
   "source": []
  },
  {
   "cell_type": "markdown",
   "id": "56f18878",
   "metadata": {},
   "source": [
    "Voor numerieke waardes van interval of ratio niveau is een keuze tussen de mediaan of het gemiddelde als kengetal belangrijk. Voor de BMI is gekozen om de __ te nemen. Deze waarde is gekozen omdat"
   ]
  },
  {
   "cell_type": "code",
   "execution_count": null,
   "id": "c093bd10",
   "metadata": {},
   "outputs": [],
   "source": []
  },
  {
   "cell_type": "markdown",
   "id": "efeae416",
   "metadata": {},
   "source": [
    "Nadere uitleg"
   ]
  },
  {
   "cell_type": "markdown",
   "id": "c5e0b3dd",
   "metadata": {},
   "source": [
    "[Terug naar het begin](#begin)"
   ]
  },
  {
   "cell_type": "markdown",
   "id": "4b94e0fe",
   "metadata": {},
   "source": [
    "### 5. Werkeloos \n",
    "De kolom werkeloos is ook op nominale schaal afgenomen. De mogelijke antwoorden waren simpelweg ja of nee, waardoor erook geen rang bij de waardes aanwezig kan zijn. De waarden zijn voor gebruik in python als volgt genummerd: {0 : ja, 1 : nee}.\n",
    "De modus van de eerste 5 regels is 0, omdat er 5 nullen te zien zijn in de eerste 5 regels van de dataset. Dit geeft aan dat de modus, op basis van de eerste 5 regels, werkeloos is.\n",
    "    "
   ]
  },
  {
   "cell_type": "markdown",
   "id": "6f8a1ea6",
   "metadata": {},
   "source": [
    "grafiek"
   ]
  },
  {
   "cell_type": "code",
   "execution_count": null,
   "id": "8518ef2a",
   "metadata": {},
   "outputs": [],
   "source": []
  },
  {
   "cell_type": "markdown",
   "id": "1314b533",
   "metadata": {},
   "source": [
    "Het kengetal dat het beste past bij elke nominale waarde is de modus, dit is omdat er voor de andere kengetallen gebruik gemaakt moet worden van volgorde of duidelijke numerieke waarden. Voor nominale waarden is het daarom dus makkelijker om te kijken naar de frequentie en de modus."
   ]
  },
  {
   "cell_type": "code",
   "execution_count": 9,
   "id": "89c86af5",
   "metadata": {
    "scrolled": true
   },
   "outputs": [
    {
     "name": "stdout",
     "output_type": "stream",
     "text": [
      "0    347\n",
      "1     53\n",
      "Name: Werkeloos, dtype: int64\n"
     ]
    }
   ],
   "source": [
    "print(df['Werkeloos'].value_counts())"
   ]
  },
  {
   "cell_type": "markdown",
   "id": "790ff70a",
   "metadata": {},
   "source": [
    "Door naar de frequentie te kijken van de waardes is duidelijk te zien dat de meeste mensen 0 (= ja) hebben ingevuld. Dit geeft aan dat de modus, met een redelijk hoog percentage van ongeveer 87%, op werkeloos ligt in deze dataset."
   ]
  },
  {
   "cell_type": "markdown",
   "id": "880816a8",
   "metadata": {},
   "source": [
    "[Terug naar het begin](#begin)"
   ]
  },
  {
   "cell_type": "markdown",
   "id": "5f3bc1e0",
   "metadata": {},
   "source": [
    "------------"
   ]
  },
  {
   "cell_type": "markdown",
   "id": "d9781212",
   "metadata": {},
   "source": [
    "## Opgave 7"
   ]
  },
  {
   "cell_type": "code",
   "execution_count": 11,
   "id": "bef1c628",
   "metadata": {},
   "outputs": [
    {
     "name": "stdout",
     "output_type": "stream",
     "text": [
      "191\n",
      "400\n"
     ]
    }
   ],
   "source": [
    "n = df['Roker'].sum()\n",
    "N = len(df)\n",
    "print(n)\n",
    "print(N)"
   ]
  },
  {
   "cell_type": "code",
   "execution_count": 16,
   "id": "b70f960d",
   "metadata": {},
   "outputs": [
    {
     "name": "stdout",
     "output_type": "stream",
     "text": [
      "209\n",
      "400\n",
      "Het percentage rokers is: 0.5225\n"
     ]
    }
   ],
   "source": [
    "aantal_rokers = df[df['Roker'] == 0].shape[0]  # Hier gaan we ervan uit dat rokers zijn gecodeerd als 1\n",
    "totaal_personen = df.shape[0]\n",
    "print(aantal_rokers)\n",
    "print(totaal_personen)\n",
    "percentage_rokers = aantal_rokers / totaal_personen\n",
    "\n",
    "print(\"Het percentage rokers is:\", percentage_rokers)"
   ]
  },
  {
   "cell_type": "markdown",
   "id": "89f41298",
   "metadata": {},
   "source": [
    "voor deze vraag hebben we de variabele 'roker' gebruikt omdat deze tabel bestaat uit '0' en '1' die staan voor ja en nee. in deze vraag moeten we de kans bereken dat 3 willekeurige mensen 'ja' hebben geantwoord. om hier achter te komen moeten we eerst bekijken hoeveel mensen 'ja' hebben geantwoord in de dataset. dat hebben we met deze code gedaan: n = df['Roker'].sum(). vervolgens moesten we kijken hoeveel mensen er in totaal antwooord hebben gegeven of ze wel of niet roken. dat hebben we met deze code gedaan: N = len(dataset).\n",
    "\n",
    "vervolgens hebben we de kans berekent wat de kans (p) was dat 1 willekeurig persoon als antwoord 'ja' heeft: P(ja) = n / N = 191 / 400 ≈ 0.4775.\n",
    "\n",
    "hierna hebben we de kans berekent dat er 3 willekeurige personen alle 3 'ja' hebben geantwoord. omdat de selecties onafhankelijk zijn, vermenigvuldigen we de kans voor 1 persoon met zichzelf drie keer, aangezien we drie personen selecteren. dat hebben we op deze manier gedaan: P(alle drie \"ja\") = (P(ja))^3 = (0.4775)^3 ≈ 0.1085\n",
    "\n",
    "de kans dat 3 random gekozen mensen dus als antwoord 'ja' hebben is ongeveer 0.1085= 10.85%"
   ]
  },
  {
   "cell_type": "markdown",
   "id": "d5e1b647",
   "metadata": {},
   "source": [
    "--------------------"
   ]
  },
  {
   "cell_type": "markdown",
   "id": "fee03f24",
   "metadata": {},
   "source": [
    "## opgave 8"
   ]
  },
  {
   "cell_type": "markdown",
   "id": "56755aca",
   "metadata": {},
   "source": [
    "voor deze vraag hebben we de variabele 'roker' gebruikt omdat deze tabel bestaat uit '0' en '1' die staan voor ja en nee. bij deze vraag moeten we de kans berekenen dat 1 persoon 'ja' als antwoord heeft gegeven. bij deze vraag kunnen we dezelfde waardes gebruiken als bij vraag 7: aantal mensen die ja hebben als antwoord(n) = 191. totaal aantal mensen dat antwoord heeft gegeven(N) = 400.\n",
    "\n",
    "eerst kijken welke scenarios er mogelijk plaat kunnen vinden, namelijk: 1= ja, nee, nee. 2= nee, ja, nee. 3= nee, nee, ja\n",
    "\n",
    "de kans dat een willekeurig gekozen persoon een roker is: P(ja) = n / N = 191 / 400 ≈ 0.4775.\n",
    "\n",
    "de kans dat een willekeurig persoon geen roker is is dus het tegeovergestelde: 1 - 0.4775 = 0.5225 (of 52.25%).\n",
    "\n",
    "hierna vermenigvuldigen we al deze kansen van de 3 mogelijke scenarios.de kans dat dus precies 1 van de 3 mensen een roker is is dus: 3 * (0.4775 * 0.5225 * 0.5225) = 0.391 0.391 = 39.1%"
   ]
  },
  {
   "cell_type": "markdown",
   "id": "afa25b8c",
   "metadata": {},
   "source": [
    "--------------------"
   ]
  },
  {
   "cell_type": "markdown",
   "id": "72331639",
   "metadata": {},
   "source": [
    "## Opgave 9"
   ]
  },
  {
   "cell_type": "markdown",
   "id": "404ce8f8",
   "metadata": {},
   "source": [
    "bij discrete verdelingen kunnen alleen hele getallen uitkomen. denk hierbij bijvoorbeeld aan het aantal kinderen in een klas. er kunnen niet 31.1 kinderen in een klas zitten. bij een discrete verdeling zouden er dus 31 kinderen in de klas zitten. echter zijn het bij continue verdelingen juist wel vaak dit soort getallen. continue variabelen kunnen dus wel elke waarde binnen een bepaald bereik aannemen. denk hierbij bijvoorbeeld aan tempratuurof lengte van personen. deze kunnen bijvoorbeeld 25,7 en 195,7. zijn. het verschil tussen discrete en continue verdelingen is dus het type variabele die ze bescrhijven en de manier waarop ze waardes hechten aan deze variabele. bij discrete verdelingen dus vaak hele getallen maar bij continue verdelingen dus komma getallen."
   ]
  },
  {
   "cell_type": "markdown",
   "id": "5126b94f",
   "metadata": {},
   "source": [
    "------------"
   ]
  },
  {
   "cell_type": "markdown",
   "id": "d1fd119a",
   "metadata": {},
   "source": [
    "## Opgave 10"
   ]
  },
  {
   "cell_type": "markdown",
   "id": "a0eb5644",
   "metadata": {},
   "source": [
    "zowel discrete als continue verdelingen moeten aan 2 eigenschappen voldoen:\n",
    "\n",
    "discrete verdelingen: 1= de waarschijnlijkheid van elke uitkomst moet tussen de 0 en 1 liggen. de uitkomst kan dus niet negatief zijn of groter dan 1 2= de som van de waarschijnlijkheden van alle mogelijke uitkomsten is altijd precies 1.\n",
    "\n",
    "continue verdelingen: 1= De waarschijnlijkheidsdichtheidsfunctie (PDF) is altijd gelijk aan 0 of groter dan 0 voor elke waarde in het domein. een negatieve waarschijnlijkheidsdichtheid is dus niet mogelijk. 2= De integraal (het gebied onder de curve) van de waarschijnlijkheidsdichtheidsfunctie over het gehele domein is precies gelijk aan 1. Dit betekent dat als je alle gebieden onder de PDF-curve (die elk corresponderen met de waarschijnlijkheid van een bepaald aantal resultaten) optelt, de totale som altijd gelijk zal zijn aan 1."
   ]
  },
  {
   "cell_type": "markdown",
   "id": "30e8161f",
   "metadata": {},
   "source": [
    "-------------"
   ]
  },
  {
   "cell_type": "markdown",
   "id": "632fbe63",
   "metadata": {},
   "source": [
    "## Opgave 11"
   ]
  },
  {
   "cell_type": "markdown",
   "id": "2a16dadc",
   "metadata": {},
   "source": [
    "de reden dat we \"cholesterolwaarde” in de praktijk toch als een continue variabele behandelen heeft 3 redenen:\n",
    "\n",
    "1= berekeningen eenvoudigen. dit doen we omdat formules zoals die van de standaarddeviatie makkelijker te gebruiken zijn met continue verdelingen.\n",
    "\n",
    "2= nauwkurigere modellen. met continue waardes kan je mooiere modellen maken die een beter beeld geven van de realiteit dan wanneer je discrete waardes gebruikt.\n",
    "\n",
    "3= normaliteitsaanname. veel tests en modellen (bijvoorbeeld lineaire regressie) gaan ervan uit dat de data continue verdeeld is. continue veerdeelde data is anmelijk normale verdelingen. dus als we \"cholesterolwaarde” kunnen we deze tests en modellen makkelijk toepassen"
   ]
  },
  {
   "cell_type": "markdown",
   "id": "01053e84",
   "metadata": {},
   "source": [
    "----------"
   ]
  },
  {
   "cell_type": "markdown",
   "id": "4ac359a1",
   "metadata": {},
   "source": [
    "## Opgave 12"
   ]
  },
  {
   "cell_type": "code",
   "execution_count": 29,
   "id": "3af82cf5",
   "metadata": {},
   "outputs": [
    {
     "name": "stdout",
     "output_type": "stream",
     "text": [
      "Correlatie tussen Roker en Sigaretten_per_dag: 0.7811054235896487, p-value: 2.005976452124073e-83\n"
     ]
    }
   ],
   "source": [
    "correlation, p_value = scipy.stats.pearsonr(df['Roker'], df['Sigaretten_per_dag'])\n",
    "print(f\"Correlatie tussen Roker en Sigaretten_per_dag: {correlation}, p-value: {p_value}\")"
   ]
  },
  {
   "cell_type": "markdown",
   "id": "c2d7bf09",
   "metadata": {},
   "source": [
    "1 = roker en Sigaretten_per_dag<br>\n",
    "De Pearson correlatiecoëfficiënt is 0.781, een sterke positieve correlatie dus. dit houd in dat rokers over het algemeen meer sigaretten per dag roken. de p-waarde is praktisch 0, de correlatie is dus zeer significant. Roker en Sigaretten_per_dag"
   ]
  },
  {
   "cell_type": "code",
   "execution_count": null,
   "id": "55a97414",
   "metadata": {},
   "outputs": [],
   "source": [
    "# Leeftijd en Hoge_bloeddruk\n",
    "correlation, p_value = scipy.stats.pearsonr(df['Leeftijd'], df['Hoge_bloeddruk'])\n",
    "print(f\"Correlatie tussen Leeftijd en Hoge_bloeddruk: {correlation}, p-value: {p_value}\")"
   ]
  },
  {
   "cell_type": "code",
   "execution_count": 13,
   "id": "b4572b2c",
   "metadata": {},
   "outputs": [
    {
     "name": "stdout",
     "output_type": "stream",
     "text": [
      "Correlatie tussen Roker en Sigaretten_per_dag: 0.7811054235896487, p-value: 2.005976452124073e-83\n",
      "Correlatie tussen Leeftijd en Hoge_bloeddruk: 0.2700079215403774, p-value: 4.1236757048904313e-08\n",
      "Correlatie tussen Cholesterolwaarde en Hoge_bloeddruk: 0.12705508764735815, p-value: 0.010975903208677027\n"
     ]
    }
   ],
   "source": [
    "# Cholesterolwaarde en Hoge_bloeddruk\n",
    "correlation, p_value = scipy.stats.pearsonr(df['Cholesterolwaarde'], df['Hoge_bloeddruk'])\n",
    "print(f\"Correlatie tussen Cholesterolwaarde en Hoge_bloeddruk: {correlation}, p-value: {p_value}\")"
   ]
  },
  {
   "cell_type": "markdown",
   "id": "44482fef",
   "metadata": {},
   "source": [
    "dit zijn de koppels van variabele die we hebben gekozen met uitleg waarom we die hebben gekozen;\n",
    "\n",
    "roken en Sigaretten_per_dag: deze hebben we gekozen omdat we denken dat mensen die roken ook een hoger aantal sigaretten per dag hebben. we verwachten dus een sterke positieve correlatie.\n",
    "\n",
    "2= leeftijd en Hoge_bloeddruk: we verwachten dat mensen die ouder zijn ook een hogere bloeddruk hebben. we verwachten dus hier ook een positieve correlatie\n",
    "\n",
    "3= Cholesterolwaarde en hoge_bloeddruk: we verwachten dat mensen met een hogere cholesterolwaarde ook een hogere bloeddruk hebben. we verwachten dus hier ook een postieve correlatie.\n",
    "\n",
    "vervolgens moeten we de correlatie tussen de koppels ook daadwerkelijk gaan uitrekenen. hiervoor gebruiken we de Pearson correlatiecoëfficiënt. we hebben voor de Pearson correlatiecoëfficiënt gekozen omdat het over lineaire variabelen gaat en de variabelen op continue schaal worden gemeten. dit zijn de berekeningen:\n",
    "\n",
    "2= leeftijd en Hoge_bloeddruk: correlation, p_value = scipy.stats.pearsonr(df['Leeftijd'], df['Hoge_bloeddruk']) print(f\"Correlatie tussen Leeftijd en Hoge_bloeddruk: {correlation}, p-value: {p_value}\") De Pearson correlatiecoëfficiënt is 0.270, een zwakke positieve correlatie dus. dit betekent dat ouderen een iets hogere bloeddruk hebben. de p-waarde is een stuk kleiner dan 0.05, dit betekent dat de correlatie niet significant is.\n",
    "\n",
    "3= Cholesterolwaarde en hoge_bloeddruk: correlation, p_value = scipy.stats.pearsonr(df['Cholesterolwaarde'], df['Hoge_bloeddruk']) print(f\"Correlatie tussen Cholesterolwaarde en Hoge_bloeddruk: {correlation}, p-value: {p_value}\") De Pearson correlatiecoëfficiënt is 0.127, een zeer zwakke correlatie dus. dit betekend dat mensen met een hogere Cholesterolwaarde enigzins vaker hoge bloeddruk hebben, maar verband is erg zwak dus hoeft niet per se vaak zo te zijn. De p-waarde is net onder 0.05, wat aangeeft dat de correlatie significant is.\n",
    "\n",
    "het komt er dus op neer dat onze verwachtingen enigzins kloppen. het verband is tussen roken en Sigaretten_per_dag het sterkste. de correlaties van leeftijd en cholesterolwaarde met bloeddruk zijn zwakker maar alsnog wel significant."
   ]
  },
  {
   "cell_type": "markdown",
   "id": "58cee011",
   "metadata": {},
   "source": [
    "# Deel B"
   ]
  },
  {
   "cell_type": "markdown",
   "id": "2bd1266d",
   "metadata": {},
   "source": [
    "## Opgave 16"
   ]
  },
  {
   "cell_type": "code",
   "execution_count": null,
   "id": "85e6b729",
   "metadata": {},
   "outputs": [],
   "source": []
  },
  {
   "cell_type": "markdown",
   "id": "6f113f5c",
   "metadata": {},
   "source": [
    "## Opgave 17"
   ]
  },
  {
   "cell_type": "code",
   "execution_count": null,
   "id": "79eabce6",
   "metadata": {},
   "outputs": [],
   "source": []
  },
  {
   "cell_type": "markdown",
   "id": "2022230a",
   "metadata": {},
   "source": [
    "# Deel C"
   ]
  },
  {
   "cell_type": "markdown",
   "id": "965381ac",
   "metadata": {},
   "source": [
    "## Opgave 18"
   ]
  },
  {
   "cell_type": "markdown",
   "id": "8fada35f",
   "metadata": {},
   "source": [
    "Een lineair verband is de relatie tussen twee variabelen waarbij de verandering in een van de variabelen samenhangt met de andere variabele op een rechte lijn. Dit houd in dat als een van de variabelen toeneemt, de ander dit op een constante en voorspelbare wijze ook doet.\n",
    "\n",
    "In wiskundige termen kan dit worden uitgedrukt in een lineaire vergelijking zoals bijvoorbeeld y = ax + b. waarbij y de afhankelijke variabele is, x de onafhankelijke, a de richtingscoëfficient en b de kruising van de lijn met de y-as.\n",
    "\n",
    "Een lineair verband is dus de constante en voorspelbare correlatie tussen twee variabelen in de vorm van een rechte lijn."
   ]
  },
  {
   "cell_type": "markdown",
   "id": "5a27b384",
   "metadata": {},
   "source": [
    "## Opgave 19"
   ]
  },
  {
   "cell_type": "code",
   "execution_count": null,
   "id": "42660a60",
   "metadata": {},
   "outputs": [],
   "source": []
  },
  {
   "cell_type": "markdown",
   "id": "15fc25df",
   "metadata": {},
   "source": [
    "## Opgave 20"
   ]
  },
  {
   "cell_type": "code",
   "execution_count": null,
   "id": "539208ac",
   "metadata": {},
   "outputs": [],
   "source": []
  }
 ],
 "metadata": {
  "kernelspec": {
   "display_name": "Python 3 (ipykernel)",
   "language": "python",
   "name": "python3"
  },
  "language_info": {
   "codemirror_mode": {
    "name": "ipython",
    "version": 3
   },
   "file_extension": ".py",
   "mimetype": "text/x-python",
   "name": "python",
   "nbconvert_exporter": "python",
   "pygments_lexer": "ipython3",
   "version": "3.9.12"
  }
 },
 "nbformat": 4,
 "nbformat_minor": 5
}
